{
 "cells": [
  {
   "cell_type": "code",
   "execution_count": 127,
   "metadata": {},
   "outputs": [
    {
     "name": "stdout",
     "output_type": "stream",
     "text": [
      "['2016-01-03', '2016-01-10']\n",
      "            00 - 01  01 - 02  02 - 03  03 - 04  04 - 05  05 - 06  06 - 07  \\\n",
      "2016-01-01    23.86    22.39    20.59    16.81    17.41    17.02    15.86   \n",
      "2016-01-02    22.20    16.57    15.35    12.77    11.27    11.91    12.62   \n",
      "2016-01-03    19.65    18.91    14.64    10.12     7.14     9.41     4.14   \n",
      "2016-01-04    13.78    13.44    11.46     5.55     5.00    10.05    19.11   \n",
      "2016-01-05    25.03    24.42    22.34    21.50    20.00    23.53    28.96   \n",
      "2016-01-06    26.62    25.58    24.59    22.50    23.16    24.99    26.62   \n",
      "2016-01-07    26.41    26.05    24.93    22.39    22.32    24.20    31.00   \n",
      "2016-01-08    24.36    19.33    16.10    15.00    15.00    18.14    25.21   \n",
      "2016-01-09    31.11    29.00    24.30    23.23    21.96    22.45    23.07   \n",
      "2016-01-10    15.58    19.05    16.96    12.75    10.81    10.85     9.85   \n",
      "\n",
      "            07 - 08  08 - 09  09 - 10   ...     14 - 15  15 - 16  16 - 17  \\\n",
      "2016-01-01    18.16    17.73    19.77   ...       25.00    20.06    19.43   \n",
      "2016-01-02    14.17    17.73    20.29   ...       22.63    19.61    20.65   \n",
      "2016-01-03     7.08    11.40    17.64   ...       19.89    17.75    18.76   \n",
      "2016-01-04    31.44    36.31    33.46   ...       34.94    34.92    38.00   \n",
      "2016-01-05    38.32    41.45    40.72   ...       34.91    33.50    35.10   \n",
      "2016-01-06    38.92    41.96    40.96   ...       35.44    36.92    41.28   \n",
      "2016-01-07    42.47    42.97    41.93   ...       36.51    33.49    34.19   \n",
      "2016-01-08    36.46    39.53    37.69   ...       32.99    32.08    37.16   \n",
      "2016-01-09    25.00    32.11    37.12   ...       27.92    27.00    30.50   \n",
      "2016-01-10    13.47    16.24    19.41   ...       20.53    21.45    23.92   \n",
      "\n",
      "            17 - 18  18 - 19  19 - 20  20 - 21  21 - 22  22 - 23  23 - 24  \n",
      "2016-01-01    24.57    33.11    35.34    33.07    29.52    30.10    24.57  \n",
      "2016-01-02    34.21    42.23    37.36    32.84    26.15    30.62    36.19  \n",
      "2016-01-03    22.21    26.76    27.23    25.33    22.11    22.57    21.01  \n",
      "2016-01-04    41.21    42.95    41.96    34.94    30.66    30.00    23.90  \n",
      "2016-01-05    42.44    42.94    42.92    38.35    34.42    32.99    32.00  \n",
      "2016-01-06    44.95    46.90    43.95    39.94    32.40    33.51    30.11  \n",
      "2016-01-07    40.66    40.80    42.10    36.50    34.50    33.49    28.76  \n",
      "2016-01-08    45.00    46.97    40.09    34.61    31.52    32.50    36.10  \n",
      "2016-01-09    36.99    36.80    35.00    29.00    25.01    25.10    22.28  \n",
      "2016-01-10    26.58    35.00    33.00    30.66    26.89    26.93    23.12  \n",
      "\n",
      "[10 rows x 24 columns]\n"
     ]
    }
   ],
   "source": [
    "from robobrowser import RoboBrowser\n",
    "from bs4 import BeautifulSoup as bs\n",
    "import pandas as pd\n",
    "import numpy as np\n",
    "\n",
    "#Open URL and create RoboBrowser Instance\n",
    "browser = RoboBrowser(parser='html.parser', history=True)\n",
    "dates = pd.date_range('2016-01-01', periods=2, freq='W').format('YYYY-MM-dd')[1:]\n",
    "#print(dates)\n",
    "results = pd.DataFrame()\n",
    "for d in dates:\n",
    "    url='https://www.epexspot.com/de/marktdaten/dayaheadauktion/auction-table/'+ str(d) +'/DE/24'\n",
    "    browser.open(url)  \n",
    "    soup = bs(str(browser.parsed), 'html.parser')\n",
    "    weekData = soup.find(\"table\", class_=\"hours\")\n",
    "    #print(weekData)\n",
    "    dates = pd.date_range(pd.to_datetime(d) - pd.to_timedelta(6, 'D'), periods=7, freq=\"D\")\n",
    "    hours = [h.get_text().strip() for h in weekData.select(\".no-border .title\")]\n",
    "    priceRows = weekData.findAll(\"tr\", class_=\"no-border\")\n",
    "    prices = np.zeros((24, 7))\n",
    "    for i in range(24):\n",
    "        prices[i] = [float(p.get_text().replace(\",\",\".\")) for p in priceRows[i].findAll(\"td\")[2:]]\n",
    "    df = pd.DataFrame(prices)\n",
    "    df.index = hours\n",
    "    df.columns = dates\n",
    "    df = df.transpose()\n",
    "    # cut off last dates of 2015\n",
    "    if d == \"2016-01-03\":\n",
    "        df = df[4:]\n",
    "    #print(dates)\n",
    "    #print(hours)\n",
    "    #print(prices)\n",
    " \n",
    "    #print(df)\n",
    "    if results.empty:\n",
    "        results = df\n",
    "    else:\n",
    "        results = results.append(df)\n",
    "print(results)\n"
   ]
  },
  {
   "cell_type": "code",
   "execution_count": null,
   "metadata": {},
   "outputs": [],
   "source": []
  },
  {
   "cell_type": "code",
   "execution_count": null,
   "metadata": {},
   "outputs": [],
   "source": []
  }
 ],
 "metadata": {
  "kernelspec": {
   "display_name": "Python 3",
   "language": "python",
   "name": "python3"
  },
  "language_info": {
   "codemirror_mode": {
    "name": "ipython",
    "version": 3
   },
   "file_extension": ".py",
   "mimetype": "text/x-python",
   "name": "python",
   "nbconvert_exporter": "python",
   "pygments_lexer": "ipython3",
   "version": "3.7.0"
  }
 },
 "nbformat": 4,
 "nbformat_minor": 2
}
