{
 "cells": [
  {
   "cell_type": "markdown",
   "metadata": {},
   "source": [
    "TODO TS:\n",
    "\n",
    "Target: Price Difference [PD]\n",
    "Condition: Forecast Error [FE]\n",
    "\n",
    "Preisdifferenz =  intraday - dayahead  \n",
    "    - PD > 0: preis steigt von dayahead zu intraday\n",
    "    - PD < 0: preis sinkt von dayahead zu intraday\n",
    "\n",
    "Forecast error = actual production - predicted production\n",
    "    - FE > 0: mehr produziert als predicted\n",
    "    - FE < 0: weniger produziert als predicted\n",
    "\n",
    "\n",
    "\n",
    "--> PD positive/negative given FE positive/negative [4 combinations]\n",
    "\n",
    "--> PD high/low given FE high/low [4 combinations]\n",
    "\t--> investigate high-positive vs. high-negative combinations\n",
    "    --> where to set the threshold?\n",
    "\n",
    "#####\n",
    "\n",
    "P(PD|FE) = P(PD, FE) / P(FE)\n",
    "\n",
    "check both directions ==> consider interpretation\n",
    "    --> P(A|B)\n",
    "    --> P(B|A)"
   ]
  },
  {
   "cell_type": "code",
   "execution_count": 1,
   "metadata": {},
   "outputs": [],
   "source": [
    "import pandas as pd\n",
    "import numpy as np\n",
    "import matplotlib as mpl\n",
    "import matplotlib.pyplot as plt\n",
    "import matplotlib.dates as mdates\n",
    "from matplotlib.lines import Line2D\n",
    "import seaborn as sns\n",
    "sns.set(rc={'figure.figsize':(10, 5)})\n",
    "sns.set_style(\"whitegrid\", {'axes.grid' : False})\n",
    "import datetime\n",
    "import warnings\n",
    "warnings.filterwarnings('ignore')\n",
    "months = [\"Jan\", \"Feb\", \"Mar\", \"Apr\", \"May\", \"Jun\", \"Jul\", \"Aug\", \"Sep\", \"Oct\", \"Nov\", \"Dec\"]\n",
    "cRange = ['#475468', '#e7e6e6', '#4b73be', '#df8244', '#a5a5a5', '#f7c143',\n",
    "          '#20406a', '#deeef8', '#2d6fc0', '#409cd4', '#5ccdd7', '#5ecb9e',\n",
    "          '#a53218', '#c59933', '#f08a40', '#aa4f30', '#f7bf5d', '#d85733',\n",
    "          '#728083', '#8babb4', '#7196ad', '#607397', '#8585c2', '#a687c1']\n",
    "colors = ['#475468', '#e7e6e6', '#4b73be', \n",
    "          '#df8244', '#a5a5a5', '#f7c143'] \n",
    "cmapOffice = mpl.colors.ListedColormap([cRange[i] for i in range(0, 5)])\n",
    "cmapBlue = mpl.colors.ListedColormap([cRange[i] for i in range(6, 11)])\n",
    "cmapRed = mpl.colors.ListedColormap([cRange[i] for i in range(12, 17)])\n",
    "cmapViolett = mpl.colors.ListedColormap([cRange[i] for i in range(18, 23)])"
   ]
  },
  {
   "cell_type": "code",
   "execution_count": 2,
   "metadata": {},
   "outputs": [],
   "source": [
    "fullData = pd.read_csv(\"../00_data/data_with_calc_fields.csv\", sep=\";\", decimal=\",\", index_col=\"datetime\")\n",
    "fullData.index = pd.to_datetime(fullData.index)"
   ]
  },
  {
   "cell_type": "code",
   "execution_count": 3,
   "metadata": {},
   "outputs": [
    {
     "name": "stdout",
     "output_type": "stream",
     "text": [
      "P(PD_posOrNull | FE_posOrNull) [wind] : 0.36034940291906237\n",
      "P(PD_negative  | FE_posOrNull) [wind] : 0.6396505970809376\n",
      "\n",
      "\n",
      "P(PD_posOrNull | FE_posOrNull) [solar]: 0.46270446176243896\n",
      "P(PD_negative  | FE_posOrNull) [solar]: 0.537295538237561\n",
      "\n",
      "\n",
      "P(PD_posOrNull | FE_posOrNull) [total]: 0.3307033363390442\n",
      "P(PD_negative  | FE_posOrNull) [total]: 0.6692966636609559\n",
      "\n",
      "------------------------------------\n",
      "\n",
      "P(PD_posOrNull | FE_negative) [wind] : 0.6153250773993808\n",
      "P(PD_negative  | FE_negative) [wind] : 0.3846749226006192\n",
      "\n",
      "\n",
      "P(PD_posOrNull | FE_negative) [solar]: 0.29296908452513487\n",
      "P(PD_negative  | FE_negative) [solar]: 0.7070309154748651\n",
      "\n",
      "\n",
      "P(PD_posOrNull | FE_negative) [total]: 0.6638863841298467\n",
      "P(PD_negative  | FE_negative) [total]: 0.3361136158701533\n"
     ]
    }
   ],
   "source": [
    "# label data >= 0 : 1; 0 otherwise\n",
    "fullData[\"isPositiveOrNull_wind\"] = fullData[\"wind_forecast_error\"].map(lambda x: 1 if x >= 0 else 0)\n",
    "fullData[\"isPositiveOrNull_solar\"] = fullData[\"solar_forecast_error\"].map(lambda x: 1 if x >= 0 else 0)\n",
    "fullData[\"isPositiveOrNull_total\"] = fullData[\"forecast_error\"].map(lambda x: 1 if x >= 0 else 0)\n",
    "fullData[\"isPositiveOrNull_priceDiff\"] = fullData[\"price_diff\"].map(lambda x: 1 if x >= 0 else 0)\n",
    "\n",
    "# select conditional data for wind/solar/total forecastError isPositiveOrNull\n",
    "data_isPositiveOrNull_wind = fullData[(fullData.isPositiveOrNull_wind == 1)]\n",
    "data_isPositiveOrNull_solar = fullData[(fullData.isPositiveOrNull_solar == 1)]\n",
    "data_isPositiveOrNull_total = fullData[(fullData.isPositiveOrNull_total == 1)]\n",
    "\n",
    "# select conditional data for wind/solar/total forecastError isNegative\n",
    "data_isNegative_wind = fullData[(fullData.isPositiveOrNull_wind == 0)]\n",
    "data_isNegative_solar = fullData[(fullData.isPositiveOrNull_solar == 0)]\n",
    "data_isNegative_total = fullData[(fullData.isPositiveOrNull_total == 0)]\n",
    "\n",
    "# compute conditional probabilities for forecastError isPositiveOrNull\n",
    "condProb_PD_isPositiveOrNull_on_FE_isPositiveOrNull_wind = data_isPositiveOrNull_wind[\"isPositiveOrNull_priceDiff\"].sum() / data_isPositiveOrNull_wind[\"isPositiveOrNull_priceDiff\"].count()\n",
    "condProb_PD_isPositiveOrNull_on_FE_isPositiveOrNull_solar = data_isPositiveOrNull_solar[\"isPositiveOrNull_priceDiff\"].sum() / data_isPositiveOrNull_solar[\"isPositiveOrNull_priceDiff\"].count()\n",
    "condProb_PD_isPositiveOrNull_on_FE_isPositiveOrNull_total = data_isPositiveOrNull_total[\"isPositiveOrNull_priceDiff\"].sum() / data_isPositiveOrNull_total[\"isPositiveOrNull_priceDiff\"].count()\n",
    "\n",
    "# compute conditional probabilities for forecastError isNegative\n",
    "condProb_PD_isPositiveOrNull_on_FE_isNegative_wind = data_isNegative_wind[\"isPositiveOrNull_priceDiff\"].sum() / data_isPositiveOrNull_wind[\"isPositiveOrNull_priceDiff\"].count()\n",
    "condProb_PD_isPositiveOrNull_on_FE_isNegative_solar = data_isNegative_solar[\"isPositiveOrNull_priceDiff\"].sum() / data_isPositiveOrNull_solar[\"isPositiveOrNull_priceDiff\"].count()\n",
    "condProb_PD_isPositiveOrNull_on_FE_isNegative_total = data_isNegative_total[\"isPositiveOrNull_priceDiff\"].sum() / data_isPositiveOrNull_total[\"isPositiveOrNull_priceDiff\"].count()\n",
    "\n",
    "# result output\n",
    "print(\"P(PD_posOrNull | FE_posOrNull) [wind] : \" + str(condProb_PD_isPositiveOrNull_on_FE_isPositiveOrNull_wind))\n",
    "print(\"P(PD_negative  | FE_posOrNull) [wind] : \" + str(1 - condProb_PD_isPositiveOrNull_on_FE_isPositiveOrNull_wind))\n",
    "print(\"\\n\")\n",
    "print(\"P(PD_posOrNull | FE_posOrNull) [solar]: \" + str(condProb_PD_isPositiveOrNull_on_FE_isPositiveOrNull_solar))\n",
    "print(\"P(PD_negative  | FE_posOrNull) [solar]: \" + str(1 - condProb_PD_isPositiveOrNull_on_FE_isPositiveOrNull_solar))\n",
    "print(\"\\n\")\n",
    "print(\"P(PD_posOrNull | FE_posOrNull) [total]: \" + str(condProb_PD_isPositiveOrNull_on_FE_isPositiveOrNull_total))\n",
    "print(\"P(PD_negative  | FE_posOrNull) [total]: \" + str(1 - condProb_PD_isPositiveOrNull_on_FE_isPositiveOrNull_total))\n",
    "\n",
    "print(\"\\n------------------------------------\\n\")\n",
    "\n",
    "print(\"P(PD_posOrNull | FE_negative) [wind] : \" + str(condProb_PD_isPositiveOrNull_on_FE_isNegative_wind))\n",
    "print(\"P(PD_negative  | FE_negative) [wind] : \" + str(1 - condProb_PD_isPositiveOrNull_on_FE_isNegative_wind))\n",
    "print(\"\\n\")\n",
    "print(\"P(PD_posOrNull | FE_negative) [solar]: \" + str(condProb_PD_isPositiveOrNull_on_FE_isNegative_solar))\n",
    "print(\"P(PD_negative  | FE_negative) [solar]: \" + str(1 - condProb_PD_isPositiveOrNull_on_FE_isNegative_solar))\n",
    "print(\"\\n\")\n",
    "print(\"P(PD_posOrNull | FE_negative) [total]: \" + str(condProb_PD_isPositiveOrNull_on_FE_isNegative_total))\n",
    "print(\"P(PD_negative  | FE_negative) [total]: \" + str(1 - condProb_PD_isPositiveOrNull_on_FE_isNegative_total))\n",
    "\n",
    "##### second try: indirect computation\n",
    "# print(\"\\n\")\n",
    "# conditionalData_priceDiff = fullData[(fullData.isPositiveOrNull_priceDiff == 1)]\n",
    "\n",
    "# condProb_FE_on_PD_wind = conditionalData_priceDiff[\"isPositiveOrNull_wind\"].sum() / conditionalData_priceDiff[\"isPositiveOrNull_wind\"].count()\n",
    "# condProb_FE_on_PD_solar = conditionalData_priceDiff[\"isPositiveOrNull_solar\"].sum() / conditionalData_priceDiff[\"isPositiveOrNull_solar\"].count()\n",
    "\n",
    "# prob_positiveOrNull_wind = fullData[\"isPositiveOrNull_wind\"].sum() / fullData[\"isPositiveOrNull_wind\"].count()\n",
    "# prob_positiveOrNull_solar = fullData[\"isPositiveOrNull_solar\"].sum() / fullData[\"isPositiveOrNull_solar\"].count()\n",
    "# prob_positiveOrNull_priceDiff = fullData[\"isPositiveOrNull_priceDiff\"].sum() / fullData[\"isPositiveOrNull_priceDiff\"].count()\n",
    "\n",
    "# secondTry_condProb_PD_on_FE_wind = (condProb_FE_on_PD_wind * prob_positiveOrNull_priceDiff) / prob_positiveOrNull_wind\n",
    "# secondTry_condProb_PD_on_FE_solar = (condProb_FE_on_PD_solar * prob_positiveOrNull_priceDiff) / prob_positiveOrNull_solar\n",
    "\n",
    "# print(\"Second try:\")\n",
    "# print(\"P(PD|FE) [wind] : \" + str(secondTry_condProb_PD_on_FE_wind))\n",
    "# print(\"P(PD|FE) [solar]: \" + str(secondTry_condProb_PD_on_FE_solar))"
   ]
  },
  {
   "cell_type": "markdown",
   "metadata": {},
   "source": [
    "# Expectations"
   ]
  },
  {
   "cell_type": "markdown",
   "metadata": {},
   "source": [
    "Expectation: P(PD_negative  | FE_posOrNull) > P(PD_posOrNull  | FE_posOrNull)\n",
    "    - since increased supply should lead to lower prices in intraday\n",
    "Expectation: P(PD_posOrNull | FE_negative) > P(PD_negative | FE_negative)\n",
    "    - since demand shortage should lead to higher prices in intraday\n",
    "    \n",
    "    "
   ]
  },
  {
   "cell_type": "markdown",
   "metadata": {},
   "source": [
    "# Conclusion"
   ]
  },
  {
   "cell_type": "markdown",
   "metadata": {},
   "source": [
    "Bot expectations are met with the exception of P(FE | FE_negative) for solar power where the probability of increasing prices in cases of demand shortages is lower than the probability of decreasing prices in the case of demand shortages."
   ]
  }
 ],
 "metadata": {
  "kernelspec": {
   "display_name": "Python 3",
   "language": "python",
   "name": "python3"
  },
  "language_info": {
   "codemirror_mode": {
    "name": "ipython",
    "version": 3
   },
   "file_extension": ".py",
   "mimetype": "text/x-python",
   "name": "python",
   "nbconvert_exporter": "python",
   "pygments_lexer": "ipython3",
   "version": "3.7.0"
  }
 },
 "nbformat": 4,
 "nbformat_minor": 2
}
