{
 "cells": [
  {
   "cell_type": "markdown",
   "metadata": {},
   "source": [
    "TODO TS:\n",
    "\n",
    "Target: Price Difference [PD]\n",
    "Condition: Forecast Error [FE]\n",
    "\n",
    "Preisdifferenz =  intraday - dayahead  \n",
    "    --> PD > 0: preis steigt von dayahead zu intraday\n",
    "    --> PD < 0: preis sinkt von dayahead zu intraday\n",
    "\n",
    "Forecast error = actual production - predicted production\n",
    "    --> FE > 0: mehr produziert als predicted\n",
    "    --> FE < 0: weniger produziert als predicted\n",
    "\n",
    "\n",
    "\n",
    "--> PD positive/negative given FE positive/negative [4 combinations]\n",
    "\n",
    "--> PD high/low given FE high/low [4 combinations]\n",
    "\t--> investigate high-positive vs. high-negative combinations\n",
    "    --> where to set the threshold?\n",
    "\n",
    "#####\n",
    "\n",
    "P(PD|FE) = P(PD, FE) / P(FE)\n",
    "\n",
    "check both directions ==> consider interpretation\n",
    "    --> P(A|B)\n",
    "    --> P(B|A)"
   ]
  },
  {
   "cell_type": "code",
   "execution_count": 42,
   "metadata": {},
   "outputs": [],
   "source": [
    "import pandas as pd\n",
    "# import warnings\n",
    "# warnings.filterwarnings('ignore')"
   ]
  },
  {
   "cell_type": "code",
   "execution_count": 49,
   "metadata": {},
   "outputs": [],
   "source": [
    "fullData = pd.read_csv(\"../00_data/data_with_calc_fields.csv\", sep=\";\", decimal=\",\", index_col=\"datetime\")\n",
    "fullData.index = pd.to_datetime(fullData.index)\n",
    "\n",
    "# series_forecastError_wind = fullData[[\"wind_forecast_error\"]]\n",
    "# series_forecastError_solar = fullData[[\"solar_forecast_error\"]]\n",
    "# series_priceDifference = fullData[[\"price_diff\"]]"
   ]
  },
  {
   "cell_type": "code",
   "execution_count": 50,
   "metadata": {},
   "outputs": [],
   "source": [
    "# print(series_forecastError_wind.describe())\n",
    "# print(\"\\n\\n\")\n",
    "# print(series_forecastError_solar.describe())\n",
    "# print(\"\\n\\n\")\n",
    "# print(series_priceDifference.describe())"
   ]
  },
  {
   "cell_type": "code",
   "execution_count": 62,
   "metadata": {},
   "outputs": [
    {
     "name": "stdout",
     "output_type": "stream",
     "text": [
      "First try:\n",
      "P(PD|FE) [wind] : 0.36034940291906237\n",
      "P(PD|FE) [solar]: 0.46270446176243896\n",
      "\n",
      "\n",
      "Second try:\n",
      "P(PD|FE) [wind] : 0.36034940291906226\n",
      "P(PD|FE) [solar]: 0.462704461762439\n"
     ]
    }
   ],
   "source": [
    "fullData[\"isPositiveOrNull_wind\"] = fullData[\"wind_forecast_error\"].map(lambda x: 1 if x >= 0 else 0)\n",
    "fullData[\"isPositiveOrNull_solar\"] = fullData[\"solar_forecast_error\"].map(lambda x: 1 if x >= 0 else 0)\n",
    "fullData[\"isPositiveOrNull_priceDiff\"] = fullData[\"price_diff\"].map(lambda x: 1 if x >= 0 else 0)\n",
    "\n",
    "# forecastError_positiveOrNull_percent_wind = series_forecastError_wind[\"isPositiveOrNull\"].sum() / series_forecastError_wind[\"isPositiveOrNull\"].count()\n",
    "# forecastError_positiveOrNull_percent_solar = series_forecastError_solar[\"isPositiveOrNull\"].sum() / series_forecastError_solar[\"isPositiveOrNull\"].count()\n",
    "# priceDifference_positiveOrNull_percent = series_priceDifference[\"isPositiveOrNull\"].sum() / series_priceDifference[\"isPositiveOrNull\"].count()\n",
    "\n",
    "# prob_FE_and_PD_positiveOrNull_wind = forecastError_positiveOrNull_percent_wind * priceDifference_positiveOrNull_percent\n",
    "# prob_FE_and_PD_positiveOrNull_solar = forecastError_positiveOrNull_percent_solar * priceDifference_positiveOrNull_percent\n",
    "\n",
    "# condProb_PD_on_FE_wind = prob_FE_and_PD_positiveOrNull_wind / forecastError_positiveOrNull_percent_wind\n",
    "# condProb_PD_on_FE_solar = prob_FE_and_PD_positiveOrNull_solar / forecastError_positiveOrNull_percent_solar\n",
    "\n",
    "\n",
    "##### first try: direct computation\n",
    "conditionalData_wind = fullData[(fullData.isPositiveOrNull_wind == 1)]\n",
    "conditionalData_solar = fullData[(fullData.isPositiveOrNull_solar == 1)]\n",
    "\n",
    "firstTry_condProb_PD_on_FE_wind = conditionalData_wind[\"isPositiveOrNull_priceDiff\"].sum() / conditionalData_wind[\"isPositiveOrNull_priceDiff\"].count()\n",
    "firstTry_condProb_PD_on_FE_solar = conditionalData_solar[\"isPositiveOrNull_priceDiff\"].sum() / conditionalData_solar[\"isPositiveOrNull_priceDiff\"].count()\n",
    "\n",
    "print(\"First try:\")\n",
    "print(\"P(PD|FE) [wind] : \" + str(firstTry_condProb_PD_on_FE_wind))\n",
    "print(\"P(PD|FE) [solar]: \" + str(firstTry_condProb_PD_on_FE_solar))\n",
    "\n",
    "##### second try: indirect computation\n",
    "print(\"\\n\")\n",
    "conditionalData_priceDiff = fullData[(fullData.isPositiveOrNull_priceDiff == 1)]\n",
    "\n",
    "condProb_FE_on_PD_wind = conditionalData_priceDiff[\"isPositiveOrNull_wind\"].sum() / conditionalData_priceDiff[\"isPositiveOrNull_wind\"].count()\n",
    "condProb_FE_on_PD_solar = conditionalData_priceDiff[\"isPositiveOrNull_solar\"].sum() / conditionalData_priceDiff[\"isPositiveOrNull_solar\"].count()\n",
    "\n",
    "prob_positiveOrNull_wind = fullData[\"isPositiveOrNull_wind\"].sum() / fullData[\"isPositiveOrNull_wind\"].count()\n",
    "prob_positiveOrNull_solar = fullData[\"isPositiveOrNull_solar\"].sum() / fullData[\"isPositiveOrNull_solar\"].count()\n",
    "prob_positiveOrNull_priceDiff = fullData[\"isPositiveOrNull_priceDiff\"].sum() / fullData[\"isPositiveOrNull_priceDiff\"].count()\n",
    "\n",
    "secondTry_condProb_PD_on_FE_wind = (condProb_FE_on_PD_wind * prob_positiveOrNull_priceDiff) / prob_positiveOrNull_wind\n",
    "secondTry_condProb_PD_on_FE_solar = (condProb_FE_on_PD_solar * prob_positiveOrNull_priceDiff) / prob_positiveOrNull_solar\n",
    "\n",
    "print(\"Second try:\")\n",
    "print(\"P(PD|FE) [wind] : \" + str(secondTry_condProb_PD_on_FE_wind))\n",
    "print(\"P(PD|FE) [solar]: \" + str(secondTry_condProb_PD_on_FE_solar))"
   ]
  },
  {
   "cell_type": "code",
   "execution_count": null,
   "metadata": {},
   "outputs": [],
   "source": []
  },
  {
   "cell_type": "code",
   "execution_count": null,
   "metadata": {},
   "outputs": [],
   "source": []
  }
 ],
 "metadata": {
  "kernelspec": {
   "display_name": "Python 3",
   "language": "python",
   "name": "python3"
  },
  "language_info": {
   "codemirror_mode": {
    "name": "ipython",
    "version": 3
   },
   "file_extension": ".py",
   "mimetype": "text/x-python",
   "name": "python",
   "nbconvert_exporter": "python",
   "pygments_lexer": "ipython3",
   "version": "3.7.0"
  }
 },
 "nbformat": 4,
 "nbformat_minor": 2
}
