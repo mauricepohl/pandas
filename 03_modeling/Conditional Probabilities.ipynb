{
 "cells": [
  {
   "cell_type": "code",
   "execution_count": 3,
   "metadata": {},
   "outputs": [],
   "source": [
    "import pandas as pd\n",
    "import datetime\n",
    "import warnings\n",
    "warnings.filterwarnings('ignore')"
   ]
  },
  {
   "cell_type": "code",
   "execution_count": 10,
   "metadata": {},
   "outputs": [],
   "source": [
    "fullData = pd.read_csv(\"../00_data/data_with_calc_fields.csv\", sep=\";\", decimal=\",\", index_col=\"datetime\")\n",
    "fullData.index = pd.to_datetime(fullData.index)\n",
    "formatString = \"{:,.4f}\""
   ]
  },
  {
   "cell_type": "code",
   "execution_count": 12,
   "metadata": {
    "scrolled": false
   },
   "outputs": [
    {
     "name": "stdout",
     "output_type": "stream",
     "text": [
      "P(PD_posOrZero | FE_pos) [wind] : 0.3609\n",
      "P(PD_negative  | FE_pos) [wind] : 0.6391\n",
      "Number of datapoints for FE > 0 [wind]: 9036\n",
      "\n",
      "\n",
      "P(PD_posOrZero | FE_pos) [solar]: 0.3677\n",
      "P(PD_negative  | FE_pos) [solar]: 0.6323\n",
      "Number of datapoints for FE > 0 [solar]: 4161\n",
      "\n",
      "\n",
      "P(PD_posOrZero | FE_pos) [total]: 0.3311\n",
      "P(PD_negative  | FE_pos) [total]: 0.6689\n",
      "Number of datapoints for FE > 0 [total]: 8868\n",
      "\n",
      "------------------------------------\n",
      "\n",
      "P(PD_posOrZero | FE_negative) [wind] : 0.6554\n",
      "P(PD_negative  | FE_negative) [wind] : 0.3446\n",
      "Number of datapoints for FE < 0 [wind]: 8498\n",
      "\n",
      "\n",
      "P(PD_posOrZero | FE_negative) [solar]: 0.5838\n",
      "P(PD_negative  | FE_negative) [solar]: 0.4162\n",
      "Number of datapoints for FE < 0 [solar]: 5865\n",
      "\n",
      "\n",
      "P(PD_posOrZero | FE_negative) [total]: 0.6800\n",
      "P(PD_negative  | FE_negative) [total]: 0.3200\n",
      "Number of datapoints for FE < 0 [total]: 8670\n",
      "\n",
      "------------------------------------\n",
      "\n",
      "P(PD_posOrZero | FE_zero) [wind] : 0.5000\n",
      "P(PD_negative  | FE_zero) [wind] : 0.5000\n",
      "Number of datapoints for FE = 0 [wind]: 8\n",
      "\n",
      "\n",
      "P(PD_posOrZero | FE_zero) [solar]: 0.5164\n",
      "P(PD_negative  | FE_zero) [solar]: 0.4836\n",
      "Number of datapoints for FE = 0 [solar]: 7516\n",
      "\n",
      "\n",
      "P(PD_posOrZero | FE_zero) [total]: 0.7500\n",
      "P(PD_negative  | FE_zero) [total]: 0.2500\n",
      "Number of datapoints for FE = 0 [total]: 4\n"
     ]
    }
   ],
   "source": [
    "# label data > 0 : 1; data < 0 : 0; data == 0 : 2\n",
    "fullData[\"posNegIndicator_wind\"] = fullData[\"wind_forecast_error\"].map(lambda x: 1 if x > 0 else 0 if x < 0 else 2)\n",
    "fullData[\"posNegIndicator_solar\"] = fullData[\"solar_forecast_error\"].map(lambda x: 1 if x > 0 else 0 if x < 0 else 2)\n",
    "fullData[\"posNegIndicator_total\"] = fullData[\"forecast_error\"].map(lambda x: 1 if x > 0 else 0 if x < 0 else 2)\n",
    "fullData[\"posNegIndicator_priceDiff\"] = fullData[\"price_diff\"].map(lambda x: 1 if x > 0 else 0 if x < 0 else 2)\n",
    "\n",
    "# select conditional data for wind/solar/total forecastError isPositive\n",
    "data_isPositive_wind = fullData[(fullData.posNegIndicator_wind == 1)]\n",
    "data_isPositive_solar = fullData[(fullData.posNegIndicator_solar == 1)]\n",
    "data_isPositive_total = fullData[(fullData.posNegIndicator_total == 1)]\n",
    "\n",
    "# select conditional data for wind/solar/total forecastError isNegative\n",
    "data_isNegative_wind = fullData[(fullData.posNegIndicator_wind == 0)]\n",
    "data_isNegative_solar = fullData[(fullData.posNegIndicator_solar == 0)]\n",
    "data_isNegative_total = fullData[(fullData.posNegIndicator_total == 0)]\n",
    "\n",
    "# select conditional data for wind/solar/total forecastError isZero\n",
    "data_isZero_wind = fullData[(fullData.posNegIndicator_wind == 2)]\n",
    "data_isZero_solar = fullData[(fullData.posNegIndicator_solar == 2)]\n",
    "data_isZero_total = fullData[(fullData.posNegIndicator_total == 2)]\n",
    "\n",
    "# compute conditional probabilities for forecastError isPositive\n",
    "data_isPositive_wind = data_isPositive_wind[\"posNegIndicator_priceDiff\"]\n",
    "data_isPositive_solar = data_isPositive_solar[\"posNegIndicator_priceDiff\"]\n",
    "data_isPositive_total = data_isPositive_total[\"posNegIndicator_priceDiff\"]\n",
    "condProb_PD_isPositiveOrZero_on_FE_isPositive_wind = data_isPositive_wind[(data_isPositive_wind != 0)].sum() / data_isPositive_wind.count()\n",
    "condProb_PD_isPositiveOrZero_on_FE_isPositive_solar = data_isPositive_solar[(data_isPositive_solar != 0)].sum() / data_isPositive_solar.count()\n",
    "condProb_PD_isPositiveOrZero_on_FE_isPositive_total = data_isPositive_total[(data_isPositive_total != 0)].sum() / data_isPositive_total.count()\n",
    "\n",
    "# compute conditional probabilities for forecastError isNegative\n",
    "data_isNegative_wind = data_isNegative_wind[\"posNegIndicator_priceDiff\"]\n",
    "data_isNegative_solar = data_isNegative_solar[\"posNegIndicator_priceDiff\"]\n",
    "data_isNegative_total = data_isNegative_total[\"posNegIndicator_priceDiff\"]\n",
    "condProb_PD_isPositiveOrZero_on_FE_isNegative_wind = data_isNegative_wind[(data_isNegative_wind != 0)].sum() / data_isNegative_wind.count()\n",
    "condProb_PD_isPositiveOrZero_on_FE_isNegative_solar = data_isNegative_solar[(data_isNegative_solar != 0)].sum() / data_isNegative_solar.count()\n",
    "condProb_PD_isPositiveOrZero_on_FE_isNegative_total = data_isNegative_total[(data_isNegative_total != 0)].sum() / data_isNegative_total.count()\n",
    "\n",
    "# compute conditional probabilities for forecastError isZero\n",
    "data_isZero_wind = data_isZero_wind[\"posNegIndicator_priceDiff\"]\n",
    "data_isZero_solar = data_isZero_solar[\"posNegIndicator_priceDiff\"]\n",
    "data_isZero_total = data_isZero_total[\"posNegIndicator_priceDiff\"]\n",
    "condProb_PD_isPositiveOrZero_on_FE_isZero_wind = data_isZero_wind[(data_isZero_wind != 0)].sum() / data_isZero_wind.count()\n",
    "condProb_PD_isPositiveOrZero_on_FE_isZero_solar = data_isZero_solar[(data_isZero_solar != 0)].sum() / data_isZero_solar.count()\n",
    "condProb_PD_isPositiveOrZero_on_FE_isZero_total = data_isZero_total[(data_isZero_total != 0)].sum() / data_isZero_total.count()\n",
    "\n",
    "# result output\n",
    "print(\"P(PD_posOrZero | FE_pos) [wind] : \" + formatString.format(condProb_PD_isPositiveOrZero_on_FE_isPositive_wind))\n",
    "print(\"P(PD_negative  | FE_pos) [wind] : \" + formatString.format(1 - condProb_PD_isPositiveOrZero_on_FE_isPositive_wind))\n",
    "print(\"Number of datapoints for FE > 0 [wind]: \" + str(data_isPositive_wind.count()))\n",
    "print(\"\\n\")\n",
    "print(\"P(PD_posOrZero | FE_pos) [solar]: \" + formatString.format(condProb_PD_isPositiveOrZero_on_FE_isPositive_solar))\n",
    "print(\"P(PD_negative  | FE_pos) [solar]: \" + formatString.format(1 - condProb_PD_isPositiveOrZero_on_FE_isPositive_solar))\n",
    "print(\"Number of datapoints for FE > 0 [solar]: \" + str(data_isPositive_solar.count()))\n",
    "print(\"\\n\")\n",
    "print(\"P(PD_posOrZero | FE_pos) [total]: \" + formatString.format(condProb_PD_isPositiveOrZero_on_FE_isPositive_total))\n",
    "print(\"P(PD_negative  | FE_pos) [total]: \" + formatString.format(1 - condProb_PD_isPositiveOrZero_on_FE_isPositive_total))\n",
    "print(\"Number of datapoints for FE > 0 [total]: \" + str(data_isPositive_total.count()))\n",
    "\n",
    "print(\"\\n------------------------------------\\n\")\n",
    "\n",
    "print(\"P(PD_posOrZero | FE_negative) [wind] : \" + formatString.format(condProb_PD_isPositiveOrZero_on_FE_isNegative_wind))\n",
    "print(\"P(PD_negative  | FE_negative) [wind] : \" + formatString.format(1 - condProb_PD_isPositiveOrZero_on_FE_isNegative_wind))\n",
    "print(\"Number of datapoints for FE < 0 [wind]: \" + str(data_isNegative_wind.count()))\n",
    "print(\"\\n\")\n",
    "print(\"P(PD_posOrZero | FE_negative) [solar]: \" + formatString.format(condProb_PD_isPositiveOrZero_on_FE_isNegative_solar))\n",
    "print(\"P(PD_negative  | FE_negative) [solar]: \" + formatString.format(1 - condProb_PD_isPositiveOrZero_on_FE_isNegative_solar))\n",
    "print(\"Number of datapoints for FE < 0 [solar]: \" + str(data_isNegative_solar.count()))\n",
    "print(\"\\n\")\n",
    "print(\"P(PD_posOrZero | FE_negative) [total]: \" + formatString.format(condProb_PD_isPositiveOrZero_on_FE_isNegative_total))\n",
    "print(\"P(PD_negative  | FE_negative) [total]: \" + formatString.format(1 - condProb_PD_isPositiveOrZero_on_FE_isNegative_total))\n",
    "print(\"Number of datapoints for FE < 0 [total]: \" + str(data_isNegative_total.count()))\n",
    "\n",
    "print(\"\\n------------------------------------\\n\")\n",
    "\n",
    "print(\"P(PD_posOrZero | FE_zero) [wind] : \" + formatString.format(condProb_PD_isPositiveOrZero_on_FE_isZero_wind))\n",
    "print(\"P(PD_negative  | FE_zero) [wind] : \" + formatString.format(1 - condProb_PD_isPositiveOrZero_on_FE_isZero_wind))\n",
    "print(\"Number of datapoints for FE = 0 [wind]: \" + str(data_isZero_wind.count()))\n",
    "print(\"\\n\")\n",
    "print(\"P(PD_posOrZero | FE_zero) [solar]: \" + formatString.format(condProb_PD_isPositiveOrZero_on_FE_isZero_solar))\n",
    "print(\"P(PD_negative  | FE_zero) [solar]: \" + formatString.format(1 - condProb_PD_isPositiveOrZero_on_FE_isZero_solar))\n",
    "print(\"Number of datapoints for FE = 0 [solar]: \" + str(data_isZero_solar.count()))\n",
    "print(\"\\n\")\n",
    "print(\"P(PD_posOrZero | FE_zero) [total]: \" + formatString.format(condProb_PD_isPositiveOrZero_on_FE_isZero_total))\n",
    "print(\"P(PD_negative  | FE_zero) [total]: \" + formatString.format(1 - condProb_PD_isPositiveOrZero_on_FE_isZero_total))\n",
    "print(\"Number of datapoints for FE = 0 [total]: \" + str(data_isZero_total.count()))"
   ]
  },
  {
   "cell_type": "markdown",
   "metadata": {},
   "source": [
    "# Expectations"
   ]
  },
  {
   "cell_type": "markdown",
   "metadata": {},
   "source": [
    "Expectation: P(PD_negative  | FE_pos) > P(PD_posOrZero  | FE_pos)\n",
    "    - since increased supply should lead to lower prices in intraday\n",
    "Expectation: P(PD_posOrZero | FE_negative) > P(PD_negative | FE_negative)\n",
    "    - since demand shortage should lead to higher prices in intraday\n",
    "Expectation P(PD_posOrZero | FE_zero) ~~ P(PD_negative | FE_zero)\n",
    "    - we expect them to be roughly equal (i.e 50/50) since a FE of zero should not provide any price signals"
   ]
  },
  {
   "cell_type": "markdown",
   "metadata": {},
   "source": [
    "# Conclusion"
   ]
  },
  {
   "cell_type": "markdown",
   "metadata": {},
   "source": [
    "###### Case FE_pos or FE_neg:\n",
    "\n",
    "All expectations are met:\n",
    "\n",
    "Total\n",
    "    - Both expectations are met with at least 16% deviation from the random distribution of 50% (up and down)\n",
    "Wind:\n",
    "    - Both expectations are met with at least 13% deviation from the random distribution of 50% (up and down)\n",
    "Solar\n",
    "    - Both expectations are met with at 8% deviation from the random distribution of 50% (up and down)\n",
    "    \n",
    "###### Case: FE_zero:\n",
    "\n",
    "Total\n",
    "    - The expectation is not met with a deviation of 25% from the random distribution of 50%. But there are only 4 datapoints with FE = 0 so the validity of the conditional probabilities is questionable.\n",
    "Wind:\n",
    "    - The expectation is met precisely but the are only 8 datapoints with FE = 0 so the validity of the conditional probabilities is questionable.\n",
    "Solar\n",
    "    - The expectation is almost met with a slight deviation of 1.6% from the random distribution of 50%. The high number of datapoints with FE = 0 (7516) suggests that the conditional probabilities are valid.\n",
    "    \n",
    "\n",
    "###### ==> We conclude from the above analyses, that all of our expectations are met.\n"
   ]
  }
 ],
 "metadata": {
  "kernelspec": {
   "display_name": "Python 3",
   "language": "python",
   "name": "python3"
  },
  "language_info": {
   "codemirror_mode": {
    "name": "ipython",
    "version": 3
   },
   "file_extension": ".py",
   "mimetype": "text/x-python",
   "name": "python",
   "nbconvert_exporter": "python",
   "pygments_lexer": "ipython3",
   "version": "3.7.0"
  }
 },
 "nbformat": 4,
 "nbformat_minor": 2
}
