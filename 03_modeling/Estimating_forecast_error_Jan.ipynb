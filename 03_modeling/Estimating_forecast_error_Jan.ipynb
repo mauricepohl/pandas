{
 "cells": [
  {
   "cell_type": "markdown",
   "metadata": {},
   "source": [
    "# Imports and Data Preparation"
   ]
  },
  {
   "cell_type": "code",
   "execution_count": 638,
   "metadata": {},
   "outputs": [],
   "source": [
    "import pandas as pd\n",
    "import numpy as np\n",
    "\n",
    "import matplotlib.pyplot as plt\n",
    "\n",
    "from datetime import datetime\n",
    "\n",
    "from statsmodels.tsa.ar_model import AR\n",
    "from sklearn.model_selection import cross_val_score, cross_val_predict, TimeSeriesSplit, cross_validate, validation_curve\n",
    "from sklearn.ensemble import RandomForestRegressor, AdaBoostRegressor, BaggingRegressor, GradientBoostingRegressor, BaggingRegressor\n",
    "from sklearn.tree import DecisionTreeRegressor\n",
    "from sklearn.decomposition import PCA\n",
    "from sklearn.preprocessing import StandardScaler\n",
    "from sklearn.pipeline import make_pipeline\n",
    "from sklearn.linear_model import Ridge, LogisticRegression\n",
    "#from sklearn.metrics import mean_squared_error\n",
    "from IPython.display import Image"
   ]
  },
  {
   "cell_type": "code",
   "execution_count": 549,
   "metadata": {},
   "outputs": [],
   "source": [
    "df = pd.read_csv(\"data_with_calc_fields.csv\", sep=';', decimal=\",\")\n",
    "\n",
    "df[\"datetime\"] = pd.to_datetime(df[\"datetime\"])\n",
    "df = df.set_index('datetime')\n",
    "df = df.drop(\"date\", axis=1)\n",
    "\n",
    "# Add column with 24h max\n",
    "df[\"solar_24h_max\"] = df.solar_generation_actual.rolling(24,  min_periods=1).max()\n",
    "\n",
    "# Calculate a moving average FOR EACH HOUR: MOV_AVG_Thur <-- AVG(Mon 1am, Tue 1am, Wed 1am, Thur 1am)\n",
    "for i in range (24):\n",
    "    df.loc[df.index.hour == i,\"hourly_moving_avg\"] = df.loc[df.index.hour == i,\"solar_generation_actual\"].rolling(4,  min_periods=1).mean()\n",
    "\n",
    "for i in range (24):\n",
    "    df.loc[df.index.hour == i,\"hourly_moving_avg_2\"] = df.loc[df.index.hour == i,\"solar_generation_actual\"].rolling(2,  min_periods=1).mean()\n",
    "\n",
    "for i in range (24):\n",
    "    df.loc[df.index.hour == i,\"hourly_moving_avg_7\"] = df.loc[df.index.hour == i,\"solar_generation_actual\"].rolling(7,  min_periods=1).mean()\n",
    "    \n",
    "# Add columns with forecast errors shiftet by one hour\n",
    "df[\"solar_forecast_error_shifted\"] = df.solar_forecast_error.shift(1)\n",
    "df.loc[\"2016-01-01 00:00:00\",\"solar_forecast_error_shifted\"] = 0 # to avoid NaN value\n",
    "df[\"wind_forecast_error_shifted\"] = df.wind_forecast_error.shift(1)\n",
    "df.loc[\"2016-01-01 00:00:00\",\"wind_forecast_error_shifted\"] = 0 # to avoid NaN value\n",
    "df[\"price_difference_shifted\"] = df.price_diff.shift(1)\n",
    "df.loc[\"2016-01-01 00:00:00\",\"price_difference_shifted\"] = 0 # to avoid NaN value"
   ]
  },
  {
   "cell_type": "code",
   "execution_count": 550,
   "metadata": {},
   "outputs": [
    {
     "data": {
      "text/html": [
       "<div>\n",
       "<style scoped>\n",
       "    .dataframe tbody tr th:only-of-type {\n",
       "        vertical-align: middle;\n",
       "    }\n",
       "\n",
       "    .dataframe tbody tr th {\n",
       "        vertical-align: top;\n",
       "    }\n",
       "\n",
       "    .dataframe thead th {\n",
       "        text-align: right;\n",
       "    }\n",
       "</style>\n",
       "<table border=\"1\" class=\"dataframe\">\n",
       "  <thead>\n",
       "    <tr style=\"text-align: right;\">\n",
       "      <th></th>\n",
       "      <th>hour</th>\n",
       "      <th>day_ahead_price</th>\n",
       "      <th>intraday_price</th>\n",
       "      <th>price_diff</th>\n",
       "      <th>solar_capacity</th>\n",
       "      <th>solar_generation_actual</th>\n",
       "      <th>wind_capacity</th>\n",
       "      <th>wind_generation_actual</th>\n",
       "      <th>wind_generation_forecast</th>\n",
       "      <th>solar_generation_forecast</th>\n",
       "      <th>...</th>\n",
       "      <th>season</th>\n",
       "      <th>month</th>\n",
       "      <th>weekday</th>\n",
       "      <th>solar_24h_max</th>\n",
       "      <th>hourly_moving_avg</th>\n",
       "      <th>hourly_moving_avg_2</th>\n",
       "      <th>hourly_moving_avg_7</th>\n",
       "      <th>solar_forecast_error_shifted</th>\n",
       "      <th>wind_forecast_error_shifted</th>\n",
       "      <th>price_difference_shifted</th>\n",
       "    </tr>\n",
       "    <tr>\n",
       "      <th>datetime</th>\n",
       "      <th></th>\n",
       "      <th></th>\n",
       "      <th></th>\n",
       "      <th></th>\n",
       "      <th></th>\n",
       "      <th></th>\n",
       "      <th></th>\n",
       "      <th></th>\n",
       "      <th></th>\n",
       "      <th></th>\n",
       "      <th></th>\n",
       "      <th></th>\n",
       "      <th></th>\n",
       "      <th></th>\n",
       "      <th></th>\n",
       "      <th></th>\n",
       "      <th></th>\n",
       "      <th></th>\n",
       "      <th></th>\n",
       "      <th></th>\n",
       "      <th></th>\n",
       "    </tr>\n",
       "  </thead>\n",
       "  <tbody>\n",
       "    <tr>\n",
       "      <th>2016-01-01 00:00:00</th>\n",
       "      <td>0</td>\n",
       "      <td>23.86</td>\n",
       "      <td>29.34</td>\n",
       "      <td>5.48</td>\n",
       "      <td>39021</td>\n",
       "      <td>0</td>\n",
       "      <td>44325</td>\n",
       "      <td>8648</td>\n",
       "      <td>6033</td>\n",
       "      <td>0</td>\n",
       "      <td>...</td>\n",
       "      <td>0</td>\n",
       "      <td>1</td>\n",
       "      <td>4</td>\n",
       "      <td>0.0</td>\n",
       "      <td>0.0</td>\n",
       "      <td>0.0</td>\n",
       "      <td>0.0</td>\n",
       "      <td>0.0</td>\n",
       "      <td>0.0</td>\n",
       "      <td>0.00</td>\n",
       "    </tr>\n",
       "    <tr>\n",
       "      <th>2016-01-01 01:00:00</th>\n",
       "      <td>1</td>\n",
       "      <td>22.39</td>\n",
       "      <td>24.28</td>\n",
       "      <td>1.89</td>\n",
       "      <td>39021</td>\n",
       "      <td>0</td>\n",
       "      <td>44325</td>\n",
       "      <td>8579</td>\n",
       "      <td>7421</td>\n",
       "      <td>0</td>\n",
       "      <td>...</td>\n",
       "      <td>0</td>\n",
       "      <td>1</td>\n",
       "      <td>4</td>\n",
       "      <td>0.0</td>\n",
       "      <td>0.0</td>\n",
       "      <td>0.0</td>\n",
       "      <td>0.0</td>\n",
       "      <td>0.0</td>\n",
       "      <td>2615.0</td>\n",
       "      <td>5.48</td>\n",
       "    </tr>\n",
       "    <tr>\n",
       "      <th>2016-01-01 02:00:00</th>\n",
       "      <td>2</td>\n",
       "      <td>20.59</td>\n",
       "      <td>25.26</td>\n",
       "      <td>4.67</td>\n",
       "      <td>39021</td>\n",
       "      <td>0</td>\n",
       "      <td>44325</td>\n",
       "      <td>8542</td>\n",
       "      <td>7266</td>\n",
       "      <td>0</td>\n",
       "      <td>...</td>\n",
       "      <td>0</td>\n",
       "      <td>1</td>\n",
       "      <td>4</td>\n",
       "      <td>0.0</td>\n",
       "      <td>0.0</td>\n",
       "      <td>0.0</td>\n",
       "      <td>0.0</td>\n",
       "      <td>0.0</td>\n",
       "      <td>1158.0</td>\n",
       "      <td>1.89</td>\n",
       "    </tr>\n",
       "  </tbody>\n",
       "</table>\n",
       "<p>3 rows × 39 columns</p>\n",
       "</div>"
      ],
      "text/plain": [
       "                     hour  day_ahead_price  intraday_price  price_diff  \\\n",
       "datetime                                                                 \n",
       "2016-01-01 00:00:00     0            23.86           29.34        5.48   \n",
       "2016-01-01 01:00:00     1            22.39           24.28        1.89   \n",
       "2016-01-01 02:00:00     2            20.59           25.26        4.67   \n",
       "\n",
       "                     solar_capacity  solar_generation_actual  wind_capacity  \\\n",
       "datetime                                                                      \n",
       "2016-01-01 00:00:00           39021                        0          44325   \n",
       "2016-01-01 01:00:00           39021                        0          44325   \n",
       "2016-01-01 02:00:00           39021                        0          44325   \n",
       "\n",
       "                     wind_generation_actual  wind_generation_forecast  \\\n",
       "datetime                                                                \n",
       "2016-01-01 00:00:00                    8648                      6033   \n",
       "2016-01-01 01:00:00                    8579                      7421   \n",
       "2016-01-01 02:00:00                    8542                      7266   \n",
       "\n",
       "                     solar_generation_forecast            ...             \\\n",
       "datetime                                                  ...              \n",
       "2016-01-01 00:00:00                          0            ...              \n",
       "2016-01-01 01:00:00                          0            ...              \n",
       "2016-01-01 02:00:00                          0            ...              \n",
       "\n",
       "                     season  month  weekday  solar_24h_max  hourly_moving_avg  \\\n",
       "datetime                                                                        \n",
       "2016-01-01 00:00:00       0      1        4            0.0                0.0   \n",
       "2016-01-01 01:00:00       0      1        4            0.0                0.0   \n",
       "2016-01-01 02:00:00       0      1        4            0.0                0.0   \n",
       "\n",
       "                     hourly_moving_avg_2  hourly_moving_avg_7  \\\n",
       "datetime                                                        \n",
       "2016-01-01 00:00:00                  0.0                  0.0   \n",
       "2016-01-01 01:00:00                  0.0                  0.0   \n",
       "2016-01-01 02:00:00                  0.0                  0.0   \n",
       "\n",
       "                     solar_forecast_error_shifted  \\\n",
       "datetime                                            \n",
       "2016-01-01 00:00:00                           0.0   \n",
       "2016-01-01 01:00:00                           0.0   \n",
       "2016-01-01 02:00:00                           0.0   \n",
       "\n",
       "                     wind_forecast_error_shifted  price_difference_shifted  \n",
       "datetime                                                                    \n",
       "2016-01-01 00:00:00                          0.0                      0.00  \n",
       "2016-01-01 01:00:00                       2615.0                      5.48  \n",
       "2016-01-01 02:00:00                       1158.0                      1.89  \n",
       "\n",
       "[3 rows x 39 columns]"
      ]
     },
     "execution_count": 550,
     "metadata": {},
     "output_type": "execute_result"
    }
   ],
   "source": [
    "df.head(3)"
   ]
  },
  {
   "cell_type": "code",
   "execution_count": 551,
   "metadata": {},
   "outputs": [
    {
     "name": "stdout",
     "output_type": "stream",
     "text": [
      "<class 'pandas.core.frame.DataFrame'>\n",
      "DatetimeIndex: 17542 entries, 2016-01-01 00:00:00 to 2017-12-31 23:00:00\n",
      "Data columns (total 39 columns):\n",
      "hour                               17542 non-null int64\n",
      "day_ahead_price                    17542 non-null float64\n",
      "intraday_price                     17542 non-null float64\n",
      "price_diff                         17542 non-null float64\n",
      "solar_capacity                     17542 non-null int64\n",
      "solar_generation_actual            17542 non-null int64\n",
      "wind_capacity                      17542 non-null int64\n",
      "wind_generation_actual             17542 non-null int64\n",
      "wind_generation_forecast           17542 non-null int64\n",
      "solar_generation_forecast          17542 non-null int64\n",
      "total_generation_forecast          17542 non-null int64\n",
      "total_generation_actual            17542 non-null int64\n",
      "wind_forecast_error                17542 non-null int64\n",
      "solar_forecast_error               17542 non-null int64\n",
      "forecast_error                     17542 non-null int64\n",
      "wind_forecast_error_percent        0 non-null float64\n",
      "solar_forecast_error_percent       7420 non-null float64\n",
      "pricediff_percent                  17542 non-null float64\n",
      "mov_avg_30_forecast_error          17542 non-null float64\n",
      "mov_avg_30_wind_forecast_error     17542 non-null float64\n",
      "mov_avg_30_solar_forecast_error    17542 non-null float64\n",
      "mov_avg_10_forecast_error          17542 non-null float64\n",
      "mov_avg_10_wind_forecast_error     17542 non-null float64\n",
      "mov_avg_10_solar_forecast_error    17542 non-null float64\n",
      "mov_avg_1_forecast_error           17542 non-null float64\n",
      "mov_avg_1_wind_forecast_error      17542 non-null float64\n",
      "mov_avg_1_solar_forecast_error     17542 non-null float64\n",
      "mov_avg_1_day_ahead                17542 non-null float64\n",
      "mov_avg_1_intraday                 17542 non-null float64\n",
      "season                             17542 non-null int64\n",
      "month                              17542 non-null int64\n",
      "weekday                            17542 non-null int64\n",
      "solar_24h_max                      17542 non-null float64\n",
      "hourly_moving_avg                  17542 non-null float64\n",
      "hourly_moving_avg_2                17542 non-null float64\n",
      "hourly_moving_avg_7                17542 non-null float64\n",
      "solar_forecast_error_shifted       17542 non-null float64\n",
      "wind_forecast_error_shifted        17542 non-null float64\n",
      "price_difference_shifted           17542 non-null float64\n",
      "dtypes: float64(24), int64(15)\n",
      "memory usage: 6.0 MB\n"
     ]
    }
   ],
   "source": [
    "df.info()"
   ]
  },
  {
   "cell_type": "markdown",
   "metadata": {},
   "source": [
    "# Testing different Prediction Methods"
   ]
  },
  {
   "cell_type": "markdown",
   "metadata": {},
   "source": [
    "## Time Series Analysis"
   ]
  },
  {
   "cell_type": "code",
   "execution_count": 414,
   "metadata": {},
   "outputs": [],
   "source": [
    "df_SG = df[[\"solar_generation_actual\"]]"
   ]
  },
  {
   "cell_type": "code",
   "execution_count": 415,
   "metadata": {},
   "outputs": [
    {
     "name": "stderr",
     "output_type": "stream",
     "text": [
      "/Applications/anaconda3/lib/python3.6/site-packages/statsmodels/tsa/base/tsa_model.py:225: ValueWarning: A date index has been provided, but it has no associated frequency information and so will be ignored when e.g. forecasting.\n",
      "  ' ignored when e.g. forecasting.', ValueWarning)\n"
     ]
    }
   ],
   "source": [
    "model = AR(df_SG)"
   ]
  },
  {
   "cell_type": "code",
   "execution_count": 416,
   "metadata": {},
   "outputs": [
    {
     "name": "stdout",
     "output_type": "stream",
     "text": [
      "17542    5.534279\n",
      "dtype: float64\n"
     ]
    },
    {
     "name": "stderr",
     "output_type": "stream",
     "text": [
      "/Applications/anaconda3/lib/python3.6/site-packages/statsmodels/tsa/base/tsa_model.py:531: ValueWarning: No supported index is available. Prediction results will be given with an integer index beginning at `start`.\n",
      "  ValueWarning)\n"
     ]
    }
   ],
   "source": [
    "model_fit = model.fit()\n",
    "yhat = model_fit.predict(len(df_SG), len(df_SG))\n",
    "print(yhat)"
   ]
  },
  {
   "cell_type": "code",
   "execution_count": 101,
   "metadata": {},
   "outputs": [
    {
     "name": "stderr",
     "output_type": "stream",
     "text": [
      "/Applications/anaconda3/lib/python3.6/site-packages/statsmodels/tsa/base/tsa_model.py:225: ValueWarning: A date index has been provided, but it has no associated frequency information and so will be ignored when e.g. forecasting.\n",
      "  ' ignored when e.g. forecasting.', ValueWarning)\n"
     ]
    },
    {
     "name": "stdout",
     "output_type": "stream",
     "text": [
      "17542    2130.752525\n",
      "dtype: float64\n"
     ]
    },
    {
     "name": "stderr",
     "output_type": "stream",
     "text": [
      "/Applications/anaconda3/lib/python3.6/site-packages/statsmodels/tsa/base/tsa_model.py:531: ValueWarning: No supported index is available. Prediction results will be given with an integer index beginning at `start`.\n",
      "  ValueWarning)\n"
     ]
    }
   ],
   "source": [
    "from statsmodels.tsa.arima_model import ARMA\n",
    "model = ARMA(df_SG, order=(0, 1))\n",
    "model_fit = model.fit(disp=False)\n",
    "yhat = model_fit.predict(len(df_SG), len(df_SG))\n",
    "print(yhat)"
   ]
  },
  {
   "cell_type": "code",
   "execution_count": 115,
   "metadata": {},
   "outputs": [
    {
     "name": "stdout",
     "output_type": "stream",
     "text": [
      "[[165.71293742  -5.06380007]]\n"
     ]
    }
   ],
   "source": [
    "df_VAR = df[[\"solar_generation_actual\",\"solar_forecast_error\"]]\n",
    "\n",
    "# VAR example\n",
    "from statsmodels.tsa.vector_ar.var_model import VAR\n",
    "from random import random\n",
    "# fit model\n",
    "model = VAR(df_VAR)\n",
    "model_fit = model.fit()\n",
    "# make prediction\n",
    "yhat = model_fit.forecast(model_fit.y, steps=1)\n",
    "print(yhat)"
   ]
  },
  {
   "cell_type": "markdown",
   "metadata": {},
   "source": [
    "## Classical Predictors"
   ]
  },
  {
   "cell_type": "markdown",
   "metadata": {},
   "source": [
    "Classical Time Series Methods do not seem to be appropriate for our problem since most of them take a 1d array and search for trends. Instead different regression methods (which take several input variables) are used"
   ]
  },
  {
   "cell_type": "code",
   "execution_count": 552,
   "metadata": {},
   "outputs": [
    {
     "name": "stdout",
     "output_type": "stream",
     "text": [
      "<class 'pandas.core.frame.DataFrame'>\n",
      "RangeIndex: 17542 entries, 0 to 17541\n",
      "Data columns (total 25 columns):\n",
      "hour                               17542 non-null int64\n",
      "day_ahead_price                    17542 non-null float64\n",
      "intraday_price                     17542 non-null float64\n",
      "solar_capacity                     17542 non-null int64\n",
      "solar_generation_forecast          17542 non-null int64\n",
      "mov_avg_30_forecast_error          17542 non-null float64\n",
      "mov_avg_30_wind_forecast_error     17542 non-null float64\n",
      "mov_avg_30_solar_forecast_error    17542 non-null float64\n",
      "mov_avg_10_forecast_error          17542 non-null float64\n",
      "mov_avg_10_wind_forecast_error     17542 non-null float64\n",
      "mov_avg_10_solar_forecast_error    17542 non-null float64\n",
      "mov_avg_1_forecast_error           17542 non-null float64\n",
      "mov_avg_1_solar_forecast_error     17542 non-null float64\n",
      "mov_avg_1_day_ahead                17542 non-null float64\n",
      "mov_avg_1_intraday                 17542 non-null float64\n",
      "season                             17542 non-null int64\n",
      "month                              17542 non-null int64\n",
      "weekday                            17542 non-null int64\n",
      "solar_24h_max                      17542 non-null float64\n",
      "hourly_moving_avg                  17542 non-null float64\n",
      "hourly_moving_avg_2                17542 non-null float64\n",
      "hourly_moving_avg_7                17542 non-null float64\n",
      "solar_forecast_error_shifted       17542 non-null float64\n",
      "wind_forecast_error_shifted        17542 non-null float64\n",
      "price_difference_shifted           17542 non-null float64\n",
      "dtypes: float64(19), int64(6)\n",
      "memory usage: 3.3 MB\n"
     ]
    },
    {
     "data": {
      "text/html": [
       "<div>\n",
       "<style scoped>\n",
       "    .dataframe tbody tr th:only-of-type {\n",
       "        vertical-align: middle;\n",
       "    }\n",
       "\n",
       "    .dataframe tbody tr th {\n",
       "        vertical-align: top;\n",
       "    }\n",
       "\n",
       "    .dataframe thead th {\n",
       "        text-align: right;\n",
       "    }\n",
       "</style>\n",
       "<table border=\"1\" class=\"dataframe\">\n",
       "  <thead>\n",
       "    <tr style=\"text-align: right;\">\n",
       "      <th></th>\n",
       "      <th>hour</th>\n",
       "      <th>day_ahead_price</th>\n",
       "      <th>intraday_price</th>\n",
       "      <th>solar_capacity</th>\n",
       "      <th>solar_generation_forecast</th>\n",
       "      <th>mov_avg_30_forecast_error</th>\n",
       "      <th>mov_avg_30_wind_forecast_error</th>\n",
       "      <th>mov_avg_30_solar_forecast_error</th>\n",
       "      <th>mov_avg_10_forecast_error</th>\n",
       "      <th>mov_avg_10_wind_forecast_error</th>\n",
       "      <th>...</th>\n",
       "      <th>season</th>\n",
       "      <th>month</th>\n",
       "      <th>weekday</th>\n",
       "      <th>solar_24h_max</th>\n",
       "      <th>hourly_moving_avg</th>\n",
       "      <th>hourly_moving_avg_2</th>\n",
       "      <th>hourly_moving_avg_7</th>\n",
       "      <th>solar_forecast_error_shifted</th>\n",
       "      <th>wind_forecast_error_shifted</th>\n",
       "      <th>price_difference_shifted</th>\n",
       "    </tr>\n",
       "  </thead>\n",
       "  <tbody>\n",
       "    <tr>\n",
       "      <th>0</th>\n",
       "      <td>0</td>\n",
       "      <td>23.86</td>\n",
       "      <td>29.34</td>\n",
       "      <td>39021</td>\n",
       "      <td>0</td>\n",
       "      <td>2615.000000</td>\n",
       "      <td>2615.000000</td>\n",
       "      <td>0.0</td>\n",
       "      <td>2615.000000</td>\n",
       "      <td>2615.000000</td>\n",
       "      <td>...</td>\n",
       "      <td>0</td>\n",
       "      <td>1</td>\n",
       "      <td>4</td>\n",
       "      <td>0.0</td>\n",
       "      <td>0.0</td>\n",
       "      <td>0.0</td>\n",
       "      <td>0.0</td>\n",
       "      <td>0.0</td>\n",
       "      <td>0.0</td>\n",
       "      <td>0.00</td>\n",
       "    </tr>\n",
       "    <tr>\n",
       "      <th>1</th>\n",
       "      <td>1</td>\n",
       "      <td>22.39</td>\n",
       "      <td>24.28</td>\n",
       "      <td>39021</td>\n",
       "      <td>0</td>\n",
       "      <td>1885.488194</td>\n",
       "      <td>1885.488194</td>\n",
       "      <td>0.0</td>\n",
       "      <td>1883.464583</td>\n",
       "      <td>1883.464583</td>\n",
       "      <td>...</td>\n",
       "      <td>0</td>\n",
       "      <td>1</td>\n",
       "      <td>4</td>\n",
       "      <td>0.0</td>\n",
       "      <td>0.0</td>\n",
       "      <td>0.0</td>\n",
       "      <td>0.0</td>\n",
       "      <td>0.0</td>\n",
       "      <td>2615.0</td>\n",
       "      <td>5.48</td>\n",
       "    </tr>\n",
       "    <tr>\n",
       "      <th>2</th>\n",
       "      <td>2</td>\n",
       "      <td>20.59</td>\n",
       "      <td>25.26</td>\n",
       "      <td>39021</td>\n",
       "      <td>0</td>\n",
       "      <td>1681.760861</td>\n",
       "      <td>1681.760861</td>\n",
       "      <td>0.0</td>\n",
       "      <td>1679.286653</td>\n",
       "      <td>1679.286653</td>\n",
       "      <td>...</td>\n",
       "      <td>0</td>\n",
       "      <td>1</td>\n",
       "      <td>4</td>\n",
       "      <td>0.0</td>\n",
       "      <td>0.0</td>\n",
       "      <td>0.0</td>\n",
       "      <td>0.0</td>\n",
       "      <td>0.0</td>\n",
       "      <td>1158.0</td>\n",
       "      <td>1.89</td>\n",
       "    </tr>\n",
       "  </tbody>\n",
       "</table>\n",
       "<p>3 rows × 25 columns</p>\n",
       "</div>"
      ],
      "text/plain": [
       "   hour  day_ahead_price  intraday_price  solar_capacity  \\\n",
       "0     0            23.86           29.34           39021   \n",
       "1     1            22.39           24.28           39021   \n",
       "2     2            20.59           25.26           39021   \n",
       "\n",
       "   solar_generation_forecast  mov_avg_30_forecast_error  \\\n",
       "0                          0                2615.000000   \n",
       "1                          0                1885.488194   \n",
       "2                          0                1681.760861   \n",
       "\n",
       "   mov_avg_30_wind_forecast_error  mov_avg_30_solar_forecast_error  \\\n",
       "0                     2615.000000                              0.0   \n",
       "1                     1885.488194                              0.0   \n",
       "2                     1681.760861                              0.0   \n",
       "\n",
       "   mov_avg_10_forecast_error  mov_avg_10_wind_forecast_error  \\\n",
       "0                2615.000000                     2615.000000   \n",
       "1                1883.464583                     1883.464583   \n",
       "2                1679.286653                     1679.286653   \n",
       "\n",
       "             ...             season  month  weekday  solar_24h_max  \\\n",
       "0            ...                  0      1        4            0.0   \n",
       "1            ...                  0      1        4            0.0   \n",
       "2            ...                  0      1        4            0.0   \n",
       "\n",
       "   hourly_moving_avg  hourly_moving_avg_2  hourly_moving_avg_7  \\\n",
       "0                0.0                  0.0                  0.0   \n",
       "1                0.0                  0.0                  0.0   \n",
       "2                0.0                  0.0                  0.0   \n",
       "\n",
       "   solar_forecast_error_shifted  wind_forecast_error_shifted  \\\n",
       "0                           0.0                          0.0   \n",
       "1                           0.0                       2615.0   \n",
       "2                           0.0                       1158.0   \n",
       "\n",
       "   price_difference_shifted  \n",
       "0                      0.00  \n",
       "1                      5.48  \n",
       "2                      1.89  \n",
       "\n",
       "[3 rows x 25 columns]"
      ]
     },
     "execution_count": 552,
     "metadata": {},
     "output_type": "execute_result"
    }
   ],
   "source": [
    "# Set with which features the prediction should be made and with feature should be predicted\n",
    "y = df.solar_forecast_error\n",
    "X = df.drop([\"solar_forecast_error\",\n",
    "             \"solar_generation_actual\",\n",
    "             \"wind_forecast_error_percent\",\n",
    "             \"solar_forecast_error_percent\",\"wind_capacity\",\n",
    "             \"wind_generation_actual\",\n",
    "             \"wind_generation_forecast\",\n",
    "             \"wind_forecast_error\",\n",
    "             \"pricediff_percent\",\n",
    "             \"total_generation_forecast\",\n",
    "             \"total_generation_actual\",\n",
    "             \"forecast_error\",\n",
    "             \"mov_avg_1_wind_forecast_error\",\n",
    "             \"price_diff\"], axis=1)\n",
    "X = X.reset_index()\n",
    "X = X.drop(\"datetime\", axis=1)\n",
    "X.info()\n",
    "X.head(3)"
   ]
  },
  {
   "cell_type": "code",
   "execution_count": 596,
   "metadata": {},
   "outputs": [],
   "source": [
    "# Create splitter for cross validation appropriate for time series data. This splitter will be handed over to cross_val_score()\n",
    "\n",
    "tscv = TimeSeriesSplit(n_splits=7)"
   ]
  },
  {
   "cell_type": "markdown",
   "metadata": {},
   "source": [
    "Regurlar cross-validation splits the whole dataset in k folds. In the k-th split it returns the k-th fold as the test set and the remaining folds as training set.\n",
    "Here the dataset is split into 7 folds. In the k-th split it returns the first k folds as train set and the (k+1)th fold as test set. This has to be done because each data point in the time series depends on the previous ones. Due to the splitting, except for the last split not every fold is taken either as training or test split. Take a look at the follwing visualisation from scikit-learn:"
   ]
  },
  {
   "cell_type": "markdown",
   "metadata": {},
   "source": [
    "![title](https://scikit-learn.org/stable/_images/sphx_glr_plot_cv_indices_010.png)"
   ]
  },
  {
   "cell_type": "code",
   "execution_count": 613,
   "metadata": {},
   "outputs": [
    {
     "name": "stdout",
     "output_type": "stream",
     "text": [
      "3: 115621.14455426484\n",
      "4: 90094.09760960199\n",
      "5: 87702.30422016005\n",
      "6: 89603.41211647233\n",
      "7: 88484.29836367206\n",
      "8: 96198.52421209964\n",
      "9: 105431.27120594327\n",
      "10: 112019.10677107528\n",
      "Done!\n"
     ]
    }
   ],
   "source": [
    "# Test different depths of decision tree regressor\n",
    "\n",
    "for i in range(3,11):\n",
    "    DTR = DecisionTreeRegressor(max_depth=i)\n",
    "    print(str(i)+\": \"+ str(-cross_val_score(DTR, X, y, cv=tscv, scoring=\"neg_mean_squared_error\").mean()))\n",
    "print(\"Done!\")"
   ]
  },
  {
   "cell_type": "code",
   "execution_count": 606,
   "metadata": {},
   "outputs": [
    {
     "name": "stdout",
     "output_type": "stream",
     "text": [
      "3: 101676.1462252948\n",
      "4: 82064.11124263333\n",
      "5: 75150.7541619065\n",
      "6: 72674.38044657731\n",
      "7: 70822.05605461572\n",
      "8: 70867.21388805113\n",
      "9: 75406.52987402836\n",
      "10: 75322.11621095864\n",
      "Done!\n"
     ]
    }
   ],
   "source": [
    "# Test different depths of random forest regressor\n",
    "\n",
    "for i in range(3,11):\n",
    "    RFR = RandomForestRegressor(max_depth=i)\n",
    "    print(str(i)+\": \"+ str(-cross_val_score(RFR, X, y, cv=tscv, scoring=\"neg_mean_squared_error\").mean()))\n",
    "print(\"Done!\")"
   ]
  },
  {
   "cell_type": "code",
   "execution_count": 637,
   "metadata": {},
   "outputs": [
    {
     "data": {
      "image/png": "[encoded data removed]",
      "text/plain": [
       "<Figure size 432x288 with 1 Axes>"
      ]
     },
     "metadata": {},
     "output_type": "display_data"
    },
    {
     "data": {
      "text/plain": [
       "[(0.928, 'solar_forecast_error_shifted'),\n",
       " (0.04, 'hour'),\n",
       " (0.0056, 'hourly_moving_avg_7'),\n",
       " (0.0053, 'mov_avg_1_solar_forecast_error'),\n",
       " (0.0049, 'solar_generation_forecast'),\n",
       " (0.0032, 'hourly_moving_avg_2'),\n",
       " (0.0024, 'hourly_moving_avg'),\n",
       " (0.0011, 'solar_24h_max'),\n",
       " (0.0009, 'solar_capacity'),\n",
       " (0.0008, 'wind_forecast_error_shifted'),\n",
       " (0.0008, 'price_difference_shifted'),\n",
       " (0.0008, 'mov_avg_1_forecast_error'),\n",
       " (0.0008, 'intraday_price'),\n",
       " (0.0008, 'day_ahead_price'),\n",
       " (0.0007, 'mov_avg_10_solar_forecast_error'),\n",
       " (0.0006, 'mov_avg_30_solar_forecast_error'),\n",
       " (0.0006, 'mov_avg_1_intraday'),\n",
       " (0.0005, 'mov_avg_10_forecast_error'),\n",
       " (0.0004, 'mov_avg_30_forecast_error'),\n",
       " (0.0004, 'month'),\n",
       " (0.0003, 'weekday'),\n",
       " (0.0003, 'mov_avg_30_wind_forecast_error'),\n",
       " (0.0003, 'mov_avg_1_day_ahead'),\n",
       " (0.0003, 'mov_avg_10_wind_forecast_error'),\n",
       " (0.0001, 'season')]"
      ]
     },
     "execution_count": 637,
     "metadata": {},
     "output_type": "execute_result"
    }
   ],
   "source": [
    "# See how important the features of the data frame are for the prediction with Random Forests\n",
    "\n",
    "RFR = RandomForestRegressor(max_depth=7)\n",
    "RFR.fit(X,y)\n",
    "features = sorted(zip(map(lambda x: round(x, 4), RFR.feature_importances_), X.columns), reverse=True)\n",
    "#scores = cross_val_score(RFR, X, y, cv=tscv)\n",
    "#print(scores.mean())\n",
    "#print(scores.std())\n",
    "#scores\n",
    "ys, labels = zip(*features)\n",
    "xs = np.arange(len(labels)) \n",
    "width = 1\n",
    "plt.bar(xs, ys, width, align='center')\n",
    "plt.xticks(xs, labels, rotation='vertical')\n",
    "plt.show()\n",
    "features"
   ]
  },
  {
   "cell_type": "markdown",
   "metadata": {},
   "source": [
    "The solar forcast error of the previous hour has the biggest impact on the prediction of the current solar forcast error."
   ]
  },
  {
   "cell_type": "code",
   "execution_count": 607,
   "metadata": {},
   "outputs": [
    {
     "data": {
      "text/plain": [
       "{'fit_time': array([0.13143229, 0.25328708, 0.40493202, 0.53305197, 0.767802  ,\n",
       "        0.82181406, 0.94813299]),\n",
       " 'score_time': array([0.00169396, 0.00169802, 0.00164199, 0.00170398, 0.00175285,\n",
       "        0.00174069, 0.00187707]),\n",
       " 'test_score': array([-143782.22433662,  -62010.47953752,  -36832.07974975,\n",
       "         -58578.27849661,  -94396.47860407,  -73269.41739417,\n",
       "         -25596.11492557]),\n",
       " 'train_score': array([-27435.03213807, -49104.82249933, -50917.04139767, -46015.42931259,\n",
       "        -47048.50990836, -52389.22656486, -55146.39556696])}"
      ]
     },
     "execution_count": 607,
     "metadata": {},
     "output_type": "execute_result"
    }
   ],
   "source": [
    "RFR = RandomForestRegressor(max_depth=6)\n",
    "cross_validate(RFR, X, y, cv=tscv.split(y), return_train_score=True, scoring=\"neg_mean_squared_error\")"
   ]
  },
  {
   "cell_type": "markdown",
   "metadata": {},
   "source": [
    "As you can see the estimator performs good on the training set and still quite good on the test set. "
   ]
  },
  {
   "cell_type": "code",
   "execution_count": 587,
   "metadata": {},
   "outputs": [],
   "source": [
    "# cross_val_predict only works for partitions\n",
    "\n",
    "#RFR = RandomForestRegressor(max_depth=6)\n",
    "#cross_val_predict(RFR, X, y, cv=tscv.split(y))"
   ]
  },
  {
   "cell_type": "code",
   "execution_count": 623,
   "metadata": {},
   "outputs": [
    {
     "name": "stdout",
     "output_type": "stream",
     "text": [
      "0.01: 77955.84630116433\n",
      "0.1: 77955.44898280468\n",
      "1.0: 77951.50921205073\n",
      "10: 77914.01482690811\n",
      "100: 77572.70672216828\n",
      "1000: 76602.35248791221\n",
      "1778: 76496.16477914107\n",
      "3162: 76469.18718000314\n",
      "5623: 76479.92399322495\n",
      "10000: 76500.35314150712\n",
      "31623: 76553.5894476484\n",
      "100000: 76608.49752490528\n",
      "1000000: 76464.10594933534\n",
      "10000000: 76594.50331543195\n",
      "100000000: 79192.0560137451\n",
      "1000000000: 121352.05906979405\n",
      "Done!\n"
     ]
    }
   ],
   "source": [
    "for alpha in (0.01, 0.1, 1.0, 10, 100, 1000, 1778, 3162, 5623, 10000, 31623, 100000, 1000000, 10000000, 100000000, 1000000000):\n",
    "    RR = Ridge(alpha=alpha)\n",
    "    print(str(alpha)+\": \"+ str(-cross_val_score(RR, X, y, cv=tscv, scoring=\"neg_mean_squared_error\").mean()))\n",
    "print(\"Done!\")"
   ]
  },
  {
   "cell_type": "code",
   "execution_count": 562,
   "metadata": {},
   "outputs": [
    {
     "name": "stdout",
     "output_type": "stream",
     "text": [
      "0.8519475017610024\n"
     ]
    }
   ],
   "source": [
    "ABR = AdaBoostRegressor(RandomForestRegressor(max_depth=6), n_estimators=12) # Default is with DecisionTreeRegressor(max_depth=3)\n",
    "print(cross_val_score(ABR, X, y, cv=tscv).mean())"
   ]
  },
  {
   "cell_type": "markdown",
   "metadata": {},
   "source": [
    "Takes long and is not better than the RFR without AdaBoost, even with high number of estimators"
   ]
  },
  {
   "cell_type": "code",
   "execution_count": 579,
   "metadata": {},
   "outputs": [
    {
     "name": "stdout",
     "output_type": "stream",
     "text": [
      "0.8542693249306391\n",
      "0.029562876221822975\n"
     ]
    }
   ],
   "source": [
    "GBR = GradientBoostingRegressor(max_depth=6) # Parameter max_features=\"sqrt\" reduces variance, but also reduces CV score to 0.80\n",
    "scores = cross_val_score(GBR, X, y, cv=tscv)\n",
    "print(scores.mean())\n",
    "print(scores.std())"
   ]
  },
  {
   "cell_type": "code",
   "execution_count": 578,
   "metadata": {},
   "outputs": [
    {
     "name": "stdout",
     "output_type": "stream",
     "text": [
      "0.8574572482711751\n",
      "0.027188311522937682\n"
     ]
    }
   ],
   "source": [
    "BR = BaggingRegressor(RandomForestRegressor(max_depth=6)) # RandomForestRegressor(max_depth=6)\n",
    "scores = cross_val_score(BR, X, y, cv=tscv)\n",
    "print(scores.mean())\n",
    "print(scores.std())"
   ]
  },
  {
   "cell_type": "markdown",
   "metadata": {},
   "source": [
    "By now best result: High mean and low std"
   ]
  },
  {
   "cell_type": "code",
   "execution_count": null,
   "metadata": {},
   "outputs": [],
   "source": [
    "# Multiclass\n",
    "# Wenn man mehrere Target-Variablen hat, muss man sich überlegen, wie man damit umgehen möchte\n",
    "# from sklearn.multiclass import OneVSRestClassifiert\tliefert für jedes Attribut des Targets einen eigenen Classifier\n",
    "# clf = OneVSRestClassifiert(LogisticRegression())"
   ]
  },
  {
   "cell_type": "code",
   "execution_count": 539,
   "metadata": {},
   "outputs": [
    {
     "data": {
      "image/png": "[encoded data removed]",
      "text/plain": [
       "<Figure size 432x288 with 1 Axes>"
      ]
     },
     "metadata": {},
     "output_type": "display_data"
    }
   ],
   "source": [
    "# PCA\n",
    "\n",
    "scaler = StandardScaler()\n",
    "pca = PCA()\n",
    "pipeline = make_pipeline(scaler, pca)\n",
    "pipeline.fit_transform(X)\n",
    "features = range(pca.n_components_)\n",
    "plt.bar(features, pca.explained_variance_)\n",
    "plt.xlabel('PCA feature')\n",
    "plt.ylabel('variance')\n",
    "plt.xticks(features)\n",
    "plt.show()"
   ]
  }
 ],
 "metadata": {
  "kernelspec": {
   "display_name": "Python 3",
   "language": "python",
   "name": "python3"
  },
  "language_info": {
   "codemirror_mode": {
    "name": "ipython",
    "version": 3
   },
   "file_extension": ".py",
   "mimetype": "text/x-python",
   "name": "python",
   "nbconvert_exporter": "python",
   "pygments_lexer": "ipython3",
   "version": "3.6.5"
  }
 },
 "nbformat": 4,
 "nbformat_minor": 2
}
