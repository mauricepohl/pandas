{
 "cells": [
  {
   "cell_type": "markdown",
   "metadata": {},
   "source": [
    "# Imports and Data Preparation"
   ]
  },
  {
   "cell_type": "code",
   "execution_count": 1,
   "metadata": {},
   "outputs": [],
   "source": [
    "# Standard imports\n",
    "import pandas as pd\n",
    "import numpy as np\n",
    "import matplotlib.pyplot as plt\n",
    "from datetime import datetime\n",
    "\n",
    "# Imports for time series analysis\n",
    "from statsmodels.tsa.ar_model import AR\n",
    "from statsmodels.tsa.arima_model import ARMA\n",
    "from statsmodels.tsa.vector_ar.var_model import VAR\n",
    "\n",
    "# Imports for regression\n",
    "from sklearn.model_selection import TimeSeriesSplit, cross_validate, train_test_split, GridSearchCV\n",
    "from sklearn.ensemble import RandomForestRegressor, AdaBoostRegressor, BaggingRegressor, GradientBoostingRegressor, BaggingRegressor\n",
    "from sklearn.tree import DecisionTreeRegressor\n",
    "from sklearn.linear_model import Ridge\n",
    "\n",
    "# Imports for evaluation\n",
    "from sklearn.metrics import r2_score\n",
    "\n",
    "# Imports for PCA\n",
    "from sklearn.decomposition import PCA\n",
    "from sklearn.preprocessing import StandardScaler\n",
    "from sklearn.pipeline import make_pipeline\n",
    "\n",
    "from IPython.display import Image"
   ]
  },
  {
   "cell_type": "code",
   "execution_count": 2,
   "metadata": {},
   "outputs": [
    {
     "data": {
      "text/plain": [
       "Index(['hour', 'day_ahead_price', 'intraday_price', 'price_diff',\n",
       "       'wind_capacity', 'wind_generation_actual', 'wind_generation_forecast',\n",
       "       'wind_forecast_error', 'forecast_error', 'wind_24h_max', 'season',\n",
       "       'month', 'weekday', 'mov_avg_30_forecast_error_shifted',\n",
       "       'mov_avg_30_wind_forecast_error_shifted',\n",
       "       'mov_avg_10_forecast_error_shifted',\n",
       "       'mov_avg_10_wind_forecast_error_shifted',\n",
       "       'mov_avg_1_forecast_error_shifted',\n",
       "       'mov_avg_1_wind_forecast_error_shifted', 'mov_avg_1_day_ahead_shifted',\n",
       "       'mov_avg_1_intraday_shifted', 'hourly_moving_avg_wind_shifted',\n",
       "       'hourly_moving_avg_2_wind_shifted', 'hourly_moving_avg_7_wind_shifted'],\n",
       "      dtype='object')"
      ]
     },
     "execution_count": 2,
     "metadata": {},
     "output_type": "execute_result"
    }
   ],
   "source": [
    "df = pd.read_csv(\"../00_data/data_with_calc_fields.csv\", sep=';', decimal=\",\")\n",
    "df[\"datetime\"] = pd.to_datetime(df[\"datetime\"])\n",
    "df = df.set_index('datetime')\n",
    "\n",
    "# Shift moving averages because values are not known at time of prediction\n",
    "for c in df.columns:\n",
    "    if \"avg\" in c:\n",
    "        df[c+\"_shifted\"] = df[c].shift(24)\n",
    "        df.loc[\"2016-01-01 00:00:00\":\"2016-01-01 23:00:00\", c+\"_shifted\"] = 0 # to avoid NaN value\n",
    "        \n",
    "for c in df.columns:\n",
    "    if (\"solar\" in c) | (\"total\" in c):\n",
    "        df.drop(c, axis=1, inplace=True)\n",
    "        \n",
    "for c in df.columns:\n",
    "    if (\"avg\" in c) & (\"shifted\" not in c):\n",
    "        df.drop(c, axis=1, inplace=True)\n",
    "\n",
    "df.columns"
   ]
  },
  {
   "cell_type": "markdown",
   "metadata": {},
   "source": [
    "# Testing two options for forecast error prediction"
   ]
  },
  {
   "cell_type": "markdown",
   "metadata": {},
   "source": [
    "### Thoughts on evaluation\n",
    "\n",
    "By default cross_val_score seems to calculate the coefficient of determination (R^2) for regression instead of accuracy (https://www.quora.com/What-does-sklearn-cross_val_score-do-in-a-regression-problem). Recall: Acurracy measures if the class has been predicted correctly or not.\n",
    "\n",
    "According to scikit-learn (https://scikit-learn.org/stable/modules/model_evaluation.html#regression-metrics) the follwing metrics are appropriate for regression:\n",
    "\n",
    " - Explained variance score ('explained_variance')\n",
    " - Mean absolute error ('neg_mean_absolute_error')\n",
    " - Mean squared error ('neg_mean_squared_error')\n",
    " - Mean squared logarithmic error ('neg_mean_squared_log_error')\n",
    " - Median absolute error ('neg_median_absolute_error')\n",
    " - R² score, the coefficient of determination ('r2')\n",
    "\n",
    "Calulating Mean Squared Logarithmic Error yields the following error: \"Mean Squared Logarithmic Error cannot be used when targets contain negative values.\" Thus it is not used for evaluation."
   ]
  },
  {
   "cell_type": "code",
   "execution_count": 3,
   "metadata": {},
   "outputs": [],
   "source": [
    "# Dict containing the scorers to be used\n",
    "scoring = {'explained_variance': 'explained_variance',\n",
    "           'neg_mean_absolute_error': 'neg_mean_absolute_error',\n",
    "           'neg_mean_squared_error': 'neg_mean_squared_error',\n",
    "           'neg_median_absolute_error': 'neg_median_absolute_error',\n",
    "           'r2': 'r2'\n",
    "          }\n",
    "\n",
    "# Function which returns a table with scores achieved with different parameters\n",
    "def print_scores(scores_list, param_range):\n",
    "    scores_list = [{k:v.mean() for k,v in alpha.items()} for alpha in scores_list]\n",
    "    scores_df = pd.DataFrame(scores_list, index=param_range).drop([\"fit_time\", \"score_time\"],axis=1)\n",
    "    scores_df.columns=[\"expl_var\",\n",
    "                       \"mean_abs_err\",\n",
    "                       \"mean_sqrd_err\",\n",
    "                       \"median_abs_err\",\n",
    "                       \"r2\"]\n",
    "    scores_df[\"expl_var\"] = scores_df[\"expl_var\"].round(4)\n",
    "    scores_df[\"mean_abs_err\"] = scores_df[\"mean_abs_err\"].abs().round(2)\n",
    "    scores_df[\"mean_sqrd_err\"] = scores_df[\"mean_sqrd_err\"].abs().round(1)\n",
    "    scores_df[\"median_abs_err\"] = scores_df[\"median_abs_err\"].abs().round(3)\n",
    "    scores_df[\"r2\"] = scores_df[\"r2\"].round(4)\n",
    "    return scores_df"
   ]
  },
  {
   "cell_type": "markdown",
   "metadata": {},
   "source": [
    "## Classical Predictors\n",
    "\n",
    "In this option we assume the forecast error does not depend on a specific point in time (e.g. 07-07-2016 13:00). Thus we can use classical ML models (e.g. Regression Trees) and classical CV instead of TimeSeriesSplit. Nevertheless, we explicitly can use moving averages and shifted values.\n",
    "\n",
    "### Splitting into dependent and independent variables\n",
    "First, the dataset will be splitted into dependent (the ones used for prediction) and independent variables (the one to be predicted)."
   ]
  },
  {
   "cell_type": "code",
   "execution_count": 7,
   "metadata": {},
   "outputs": [
    {
     "data": {
      "text/plain": [
       "17"
      ]
     },
     "execution_count": 7,
     "metadata": {},
     "output_type": "execute_result"
    }
   ],
   "source": [
    "# Set with which features the prediction should be made and with feature should be predicted\n",
    "y = df.wind_forecast_error\n",
    "X = df.drop([\n",
    "             # What we want to predict\n",
    "             \"wind_forecast_error\",\n",
    "             \"forecast_error\",\n",
    "    \n",
    "             # Not known then\n",
    "             \"wind_generation_actual\",\n",
    "             \"day_ahead_price\",\n",
    "             \"intraday_price\",\n",
    "             \"price_diff\",\n",
    "             \n",
    "             \"wind_24h_max\"\n",
    "            ], axis=1)\n",
    "X = X.reset_index()\n",
    "X = X.drop(\"datetime\", axis=1)\n",
    "len(X.columns)"
   ]
  },
  {
   "cell_type": "markdown",
   "metadata": {},
   "source": [
    "### Splitting into training and test sets\n",
    "\n",
    "Sedond, the dataset will be splitted into a training and a test part. The first one is used for hyperparameter tuning and CV, the second one is used as holdout set for final evaluation. Since we assume the forecast error not depending on a specific point in time, we can split the whole dataset randomly."
   ]
  },
  {
   "cell_type": "code",
   "execution_count": 8,
   "metadata": {},
   "outputs": [],
   "source": [
    "X_train, X_test, y_train, y_test = train_test_split(X, y, random_state=42)"
   ]
  },
  {
   "cell_type": "markdown",
   "metadata": {},
   "source": [
    "### Model 1: Decision Tree Regressor"
   ]
  },
  {
   "cell_type": "code",
   "execution_count": 12,
   "metadata": {},
   "outputs": [
    {
     "data": {
      "text/html": [
       "<div>\n",
       "<style scoped>\n",
       "    .dataframe tbody tr th:only-of-type {\n",
       "        vertical-align: middle;\n",
       "    }\n",
       "\n",
       "    .dataframe tbody tr th {\n",
       "        vertical-align: top;\n",
       "    }\n",
       "\n",
       "    .dataframe thead th {\n",
       "        text-align: right;\n",
       "    }\n",
       "</style>\n",
       "<table border=\"1\" class=\"dataframe\">\n",
       "  <thead>\n",
       "    <tr style=\"text-align: right;\">\n",
       "      <th></th>\n",
       "      <th>expl_var</th>\n",
       "      <th>mean_abs_err</th>\n",
       "      <th>mean_sqrd_err</th>\n",
       "      <th>median_abs_err</th>\n",
       "      <th>r2</th>\n",
       "    </tr>\n",
       "  </thead>\n",
       "  <tbody>\n",
       "    <tr>\n",
       "      <th>3</th>\n",
       "      <td>0.0438</td>\n",
       "      <td>1055.01</td>\n",
       "      <td>2155044.2</td>\n",
       "      <td>759.021</td>\n",
       "      <td>0.0437</td>\n",
       "    </tr>\n",
       "    <tr>\n",
       "      <th>4</th>\n",
       "      <td>0.0538</td>\n",
       "      <td>1049.94</td>\n",
       "      <td>2132026.9</td>\n",
       "      <td>758.764</td>\n",
       "      <td>0.0537</td>\n",
       "    </tr>\n",
       "    <tr>\n",
       "      <th>5</th>\n",
       "      <td>0.0686</td>\n",
       "      <td>1039.94</td>\n",
       "      <td>2098739.9</td>\n",
       "      <td>751.782</td>\n",
       "      <td>0.0685</td>\n",
       "    </tr>\n",
       "    <tr>\n",
       "      <th>6</th>\n",
       "      <td>0.0888</td>\n",
       "      <td>1028.32</td>\n",
       "      <td>2053155.2</td>\n",
       "      <td>744.765</td>\n",
       "      <td>0.0887</td>\n",
       "    </tr>\n",
       "    <tr>\n",
       "      <th>7</th>\n",
       "      <td>0.1129</td>\n",
       "      <td>1014.33</td>\n",
       "      <td>1998507.4</td>\n",
       "      <td>737.987</td>\n",
       "      <td>0.1128</td>\n",
       "    </tr>\n",
       "    <tr>\n",
       "      <th>8</th>\n",
       "      <td>0.1400</td>\n",
       "      <td>998.72</td>\n",
       "      <td>1938311.8</td>\n",
       "      <td>724.791</td>\n",
       "      <td>0.1399</td>\n",
       "    </tr>\n",
       "    <tr>\n",
       "      <th>9</th>\n",
       "      <td>0.1683</td>\n",
       "      <td>981.07</td>\n",
       "      <td>1874706.3</td>\n",
       "      <td>711.137</td>\n",
       "      <td>0.1682</td>\n",
       "    </tr>\n",
       "    <tr>\n",
       "      <th>10</th>\n",
       "      <td>0.1974</td>\n",
       "      <td>959.16</td>\n",
       "      <td>1809971.3</td>\n",
       "      <td>686.290</td>\n",
       "      <td>0.1973</td>\n",
       "    </tr>\n",
       "    <tr>\n",
       "      <th>11</th>\n",
       "      <td>0.2245</td>\n",
       "      <td>941.50</td>\n",
       "      <td>1748883.3</td>\n",
       "      <td>670.082</td>\n",
       "      <td>0.2243</td>\n",
       "    </tr>\n",
       "    <tr>\n",
       "      <th>12</th>\n",
       "      <td>0.2566</td>\n",
       "      <td>918.06</td>\n",
       "      <td>1676241.8</td>\n",
       "      <td>654.704</td>\n",
       "      <td>0.2565</td>\n",
       "    </tr>\n",
       "    <tr>\n",
       "      <th>13</th>\n",
       "      <td>0.2891</td>\n",
       "      <td>891.08</td>\n",
       "      <td>1601836.3</td>\n",
       "      <td>619.703</td>\n",
       "      <td>0.2889</td>\n",
       "    </tr>\n",
       "    <tr>\n",
       "      <th>14</th>\n",
       "      <td>0.3214</td>\n",
       "      <td>860.76</td>\n",
       "      <td>1528434.7</td>\n",
       "      <td>592.188</td>\n",
       "      <td>0.3212</td>\n",
       "    </tr>\n",
       "    <tr>\n",
       "      <th>15</th>\n",
       "      <td>0.3493</td>\n",
       "      <td>834.48</td>\n",
       "      <td>1464544.9</td>\n",
       "      <td>566.474</td>\n",
       "      <td>0.3491</td>\n",
       "    </tr>\n",
       "    <tr>\n",
       "      <th>16</th>\n",
       "      <td>0.3925</td>\n",
       "      <td>799.97</td>\n",
       "      <td>1368288.8</td>\n",
       "      <td>540.255</td>\n",
       "      <td>0.3923</td>\n",
       "    </tr>\n",
       "    <tr>\n",
       "      <th>17</th>\n",
       "      <td>0.4110</td>\n",
       "      <td>780.93</td>\n",
       "      <td>1327053.5</td>\n",
       "      <td>518.207</td>\n",
       "      <td>0.4109</td>\n",
       "    </tr>\n",
       "    <tr>\n",
       "      <th>18</th>\n",
       "      <td>0.4368</td>\n",
       "      <td>753.90</td>\n",
       "      <td>1267978.4</td>\n",
       "      <td>488.058</td>\n",
       "      <td>0.4367</td>\n",
       "    </tr>\n",
       "    <tr>\n",
       "      <th>19</th>\n",
       "      <td>0.4346</td>\n",
       "      <td>736.67</td>\n",
       "      <td>1272317.3</td>\n",
       "      <td>458.278</td>\n",
       "      <td>0.4345</td>\n",
       "    </tr>\n",
       "    <tr>\n",
       "      <th>20</th>\n",
       "      <td>0.4415</td>\n",
       "      <td>722.82</td>\n",
       "      <td>1255951.0</td>\n",
       "      <td>440.188</td>\n",
       "      <td>0.4415</td>\n",
       "    </tr>\n",
       "    <tr>\n",
       "      <th>21</th>\n",
       "      <td>0.4583</td>\n",
       "      <td>703.45</td>\n",
       "      <td>1219537.9</td>\n",
       "      <td>417.149</td>\n",
       "      <td>0.4582</td>\n",
       "    </tr>\n",
       "    <tr>\n",
       "      <th>22</th>\n",
       "      <td>0.4640</td>\n",
       "      <td>693.21</td>\n",
       "      <td>1206544.8</td>\n",
       "      <td>407.138</td>\n",
       "      <td>0.4638</td>\n",
       "    </tr>\n",
       "    <tr>\n",
       "      <th>23</th>\n",
       "      <td>0.4771</td>\n",
       "      <td>678.38</td>\n",
       "      <td>1177399.3</td>\n",
       "      <td>389.347</td>\n",
       "      <td>0.4770</td>\n",
       "    </tr>\n",
       "    <tr>\n",
       "      <th>24</th>\n",
       "      <td>0.4810</td>\n",
       "      <td>672.23</td>\n",
       "      <td>1167301.4</td>\n",
       "      <td>382.619</td>\n",
       "      <td>0.4809</td>\n",
       "    </tr>\n",
       "    <tr>\n",
       "      <th>25</th>\n",
       "      <td>0.4783</td>\n",
       "      <td>666.95</td>\n",
       "      <td>1173954.3</td>\n",
       "      <td>374.640</td>\n",
       "      <td>0.4781</td>\n",
       "    </tr>\n",
       "    <tr>\n",
       "      <th>26</th>\n",
       "      <td>0.4813</td>\n",
       "      <td>658.05</td>\n",
       "      <td>1168052.0</td>\n",
       "      <td>365.076</td>\n",
       "      <td>0.4810</td>\n",
       "    </tr>\n",
       "    <tr>\n",
       "      <th>27</th>\n",
       "      <td>0.4814</td>\n",
       "      <td>657.36</td>\n",
       "      <td>1170061.8</td>\n",
       "      <td>363.374</td>\n",
       "      <td>0.4813</td>\n",
       "    </tr>\n",
       "    <tr>\n",
       "      <th>28</th>\n",
       "      <td>0.4829</td>\n",
       "      <td>654.82</td>\n",
       "      <td>1163651.9</td>\n",
       "      <td>361.243</td>\n",
       "      <td>0.4827</td>\n",
       "    </tr>\n",
       "    <tr>\n",
       "      <th>29</th>\n",
       "      <td>0.4842</td>\n",
       "      <td>651.68</td>\n",
       "      <td>1161133.7</td>\n",
       "      <td>356.800</td>\n",
       "      <td>0.4840</td>\n",
       "    </tr>\n",
       "  </tbody>\n",
       "</table>\n",
       "</div>"
      ],
      "text/plain": [
       "    expl_var  mean_abs_err  mean_sqrd_err  median_abs_err      r2\n",
       "3     0.0438       1055.01      2155044.2         759.021  0.0437\n",
       "4     0.0538       1049.94      2132026.9         758.764  0.0537\n",
       "5     0.0686       1039.94      2098739.9         751.782  0.0685\n",
       "6     0.0888       1028.32      2053155.2         744.765  0.0887\n",
       "7     0.1129       1014.33      1998507.4         737.987  0.1128\n",
       "8     0.1400        998.72      1938311.8         724.791  0.1399\n",
       "9     0.1683        981.07      1874706.3         711.137  0.1682\n",
       "10    0.1974        959.16      1809971.3         686.290  0.1973\n",
       "11    0.2245        941.50      1748883.3         670.082  0.2243\n",
       "12    0.2566        918.06      1676241.8         654.704  0.2565\n",
       "13    0.2891        891.08      1601836.3         619.703  0.2889\n",
       "14    0.3214        860.76      1528434.7         592.188  0.3212\n",
       "15    0.3493        834.48      1464544.9         566.474  0.3491\n",
       "16    0.3925        799.97      1368288.8         540.255  0.3923\n",
       "17    0.4110        780.93      1327053.5         518.207  0.4109\n",
       "18    0.4368        753.90      1267978.4         488.058  0.4367\n",
       "19    0.4346        736.67      1272317.3         458.278  0.4345\n",
       "20    0.4415        722.82      1255951.0         440.188  0.4415\n",
       "21    0.4583        703.45      1219537.9         417.149  0.4582\n",
       "22    0.4640        693.21      1206544.8         407.138  0.4638\n",
       "23    0.4771        678.38      1177399.3         389.347  0.4770\n",
       "24    0.4810        672.23      1167301.4         382.619  0.4809\n",
       "25    0.4783        666.95      1173954.3         374.640  0.4781\n",
       "26    0.4813        658.05      1168052.0         365.076  0.4810\n",
       "27    0.4814        657.36      1170061.8         363.374  0.4813\n",
       "28    0.4829        654.82      1163651.9         361.243  0.4827\n",
       "29    0.4842        651.68      1161133.7         356.800  0.4840"
      ]
     },
     "execution_count": 12,
     "metadata": {},
     "output_type": "execute_result"
    }
   ],
   "source": [
    "scores_list = []\n",
    "param_range = range(3,30)\n",
    "\n",
    "for i in param_range:\n",
    "    DTR = DecisionTreeRegressor(max_depth=i)\n",
    "    scores_list.append(cross_validate(DTR, X_train, y_train, cv=5, scoring=scoring, return_train_score=False, n_jobs=-1))\n",
    "print_scores(scores_list, param_range)"
   ]
  },
  {
   "cell_type": "code",
   "execution_count": 13,
   "metadata": {},
   "outputs": [
    {
     "data": {
      "text/plain": [
       "0.5725903464413987"
      ]
     },
     "execution_count": 13,
     "metadata": {},
     "output_type": "execute_result"
    }
   ],
   "source": [
    "# Final Evaluation\n",
    "\n",
    "DTR = DecisionTreeRegressor(max_depth=24)\n",
    "DTR.fit(X_train, y_train)\n",
    "y_pred = DTR.predict(X_test)\n",
    "r2_score(y_test, y_pred)"
   ]
  },
  {
   "cell_type": "markdown",
   "metadata": {},
   "source": [
    "### Model 2: Random Forest Regressor"
   ]
  },
  {
   "cell_type": "code",
   "execution_count": 14,
   "metadata": {},
   "outputs": [
    {
     "data": {
      "text/html": [
       "<div>\n",
       "<style scoped>\n",
       "    .dataframe tbody tr th:only-of-type {\n",
       "        vertical-align: middle;\n",
       "    }\n",
       "\n",
       "    .dataframe tbody tr th {\n",
       "        vertical-align: top;\n",
       "    }\n",
       "\n",
       "    .dataframe thead th {\n",
       "        text-align: right;\n",
       "    }\n",
       "</style>\n",
       "<table border=\"1\" class=\"dataframe\">\n",
       "  <thead>\n",
       "    <tr style=\"text-align: right;\">\n",
       "      <th></th>\n",
       "      <th>expl_var</th>\n",
       "      <th>mean_abs_err</th>\n",
       "      <th>mean_sqrd_err</th>\n",
       "      <th>median_abs_err</th>\n",
       "      <th>r2</th>\n",
       "    </tr>\n",
       "  </thead>\n",
       "  <tbody>\n",
       "    <tr>\n",
       "      <th>3</th>\n",
       "      <td>0.0591</td>\n",
       "      <td>1045.61</td>\n",
       "      <td>2120543.8</td>\n",
       "      <td>751.939</td>\n",
       "      <td>0.0590</td>\n",
       "    </tr>\n",
       "    <tr>\n",
       "      <th>4</th>\n",
       "      <td>0.0820</td>\n",
       "      <td>1033.74</td>\n",
       "      <td>2068617.7</td>\n",
       "      <td>746.400</td>\n",
       "      <td>0.0819</td>\n",
       "    </tr>\n",
       "    <tr>\n",
       "      <th>5</th>\n",
       "      <td>0.1098</td>\n",
       "      <td>1020.38</td>\n",
       "      <td>2005531.2</td>\n",
       "      <td>738.882</td>\n",
       "      <td>0.1097</td>\n",
       "    </tr>\n",
       "    <tr>\n",
       "      <th>6</th>\n",
       "      <td>0.1397</td>\n",
       "      <td>1003.49</td>\n",
       "      <td>1937764.7</td>\n",
       "      <td>726.882</td>\n",
       "      <td>0.1397</td>\n",
       "    </tr>\n",
       "    <tr>\n",
       "      <th>7</th>\n",
       "      <td>0.1792</td>\n",
       "      <td>981.46</td>\n",
       "      <td>1848631.4</td>\n",
       "      <td>717.317</td>\n",
       "      <td>0.1791</td>\n",
       "    </tr>\n",
       "    <tr>\n",
       "      <th>8</th>\n",
       "      <td>0.2251</td>\n",
       "      <td>955.39</td>\n",
       "      <td>1745521.0</td>\n",
       "      <td>700.027</td>\n",
       "      <td>0.2250</td>\n",
       "    </tr>\n",
       "    <tr>\n",
       "      <th>9</th>\n",
       "      <td>0.2696</td>\n",
       "      <td>928.34</td>\n",
       "      <td>1644891.2</td>\n",
       "      <td>675.988</td>\n",
       "      <td>0.2694</td>\n",
       "    </tr>\n",
       "    <tr>\n",
       "      <th>10</th>\n",
       "      <td>0.3167</td>\n",
       "      <td>899.10</td>\n",
       "      <td>1539164.7</td>\n",
       "      <td>658.154</td>\n",
       "      <td>0.3166</td>\n",
       "    </tr>\n",
       "    <tr>\n",
       "      <th>11</th>\n",
       "      <td>0.3621</td>\n",
       "      <td>867.83</td>\n",
       "      <td>1436892.1</td>\n",
       "      <td>635.544</td>\n",
       "      <td>0.3619</td>\n",
       "    </tr>\n",
       "    <tr>\n",
       "      <th>12</th>\n",
       "      <td>0.4104</td>\n",
       "      <td>834.67</td>\n",
       "      <td>1327813.1</td>\n",
       "      <td>614.828</td>\n",
       "      <td>0.4102</td>\n",
       "    </tr>\n",
       "    <tr>\n",
       "      <th>13</th>\n",
       "      <td>0.4509</td>\n",
       "      <td>804.14</td>\n",
       "      <td>1236950.9</td>\n",
       "      <td>589.930</td>\n",
       "      <td>0.4507</td>\n",
       "    </tr>\n",
       "    <tr>\n",
       "      <th>14</th>\n",
       "      <td>0.4954</td>\n",
       "      <td>769.54</td>\n",
       "      <td>1137071.7</td>\n",
       "      <td>558.577</td>\n",
       "      <td>0.4952</td>\n",
       "    </tr>\n",
       "    <tr>\n",
       "      <th>15</th>\n",
       "      <td>0.5318</td>\n",
       "      <td>738.17</td>\n",
       "      <td>1055312.5</td>\n",
       "      <td>528.971</td>\n",
       "      <td>0.5316</td>\n",
       "    </tr>\n",
       "    <tr>\n",
       "      <th>16</th>\n",
       "      <td>0.5698</td>\n",
       "      <td>706.25</td>\n",
       "      <td>969581.0</td>\n",
       "      <td>504.003</td>\n",
       "      <td>0.5696</td>\n",
       "    </tr>\n",
       "    <tr>\n",
       "      <th>17</th>\n",
       "      <td>0.5966</td>\n",
       "      <td>679.25</td>\n",
       "      <td>909373.5</td>\n",
       "      <td>484.238</td>\n",
       "      <td>0.5964</td>\n",
       "    </tr>\n",
       "    <tr>\n",
       "      <th>18</th>\n",
       "      <td>0.6189</td>\n",
       "      <td>656.41</td>\n",
       "      <td>858684.9</td>\n",
       "      <td>460.280</td>\n",
       "      <td>0.6187</td>\n",
       "    </tr>\n",
       "    <tr>\n",
       "      <th>19</th>\n",
       "      <td>0.6417</td>\n",
       "      <td>631.84</td>\n",
       "      <td>807467.7</td>\n",
       "      <td>441.900</td>\n",
       "      <td>0.6415</td>\n",
       "    </tr>\n",
       "    <tr>\n",
       "      <th>20</th>\n",
       "      <td>0.6588</td>\n",
       "      <td>613.12</td>\n",
       "      <td>769414.4</td>\n",
       "      <td>427.884</td>\n",
       "      <td>0.6587</td>\n",
       "    </tr>\n",
       "    <tr>\n",
       "      <th>21</th>\n",
       "      <td>0.6709</td>\n",
       "      <td>599.38</td>\n",
       "      <td>741771.7</td>\n",
       "      <td>410.356</td>\n",
       "      <td>0.6708</td>\n",
       "    </tr>\n",
       "    <tr>\n",
       "      <th>22</th>\n",
       "      <td>0.6847</td>\n",
       "      <td>584.82</td>\n",
       "      <td>710519.4</td>\n",
       "      <td>399.382</td>\n",
       "      <td>0.6846</td>\n",
       "    </tr>\n",
       "    <tr>\n",
       "      <th>23</th>\n",
       "      <td>0.6937</td>\n",
       "      <td>574.59</td>\n",
       "      <td>690527.8</td>\n",
       "      <td>390.937</td>\n",
       "      <td>0.6936</td>\n",
       "    </tr>\n",
       "    <tr>\n",
       "      <th>24</th>\n",
       "      <td>0.7000</td>\n",
       "      <td>565.80</td>\n",
       "      <td>675995.4</td>\n",
       "      <td>382.526</td>\n",
       "      <td>0.6999</td>\n",
       "    </tr>\n",
       "    <tr>\n",
       "      <th>25</th>\n",
       "      <td>0.7038</td>\n",
       "      <td>560.45</td>\n",
       "      <td>667558.0</td>\n",
       "      <td>378.930</td>\n",
       "      <td>0.7038</td>\n",
       "    </tr>\n",
       "    <tr>\n",
       "      <th>26</th>\n",
       "      <td>0.7059</td>\n",
       "      <td>556.39</td>\n",
       "      <td>662583.1</td>\n",
       "      <td>372.215</td>\n",
       "      <td>0.7058</td>\n",
       "    </tr>\n",
       "    <tr>\n",
       "      <th>27</th>\n",
       "      <td>0.7105</td>\n",
       "      <td>551.72</td>\n",
       "      <td>652364.6</td>\n",
       "      <td>363.651</td>\n",
       "      <td>0.7104</td>\n",
       "    </tr>\n",
       "    <tr>\n",
       "      <th>28</th>\n",
       "      <td>0.7114</td>\n",
       "      <td>549.30</td>\n",
       "      <td>650454.1</td>\n",
       "      <td>364.024</td>\n",
       "      <td>0.7113</td>\n",
       "    </tr>\n",
       "    <tr>\n",
       "      <th>29</th>\n",
       "      <td>0.7110</td>\n",
       "      <td>549.35</td>\n",
       "      <td>651518.6</td>\n",
       "      <td>363.824</td>\n",
       "      <td>0.7109</td>\n",
       "    </tr>\n",
       "  </tbody>\n",
       "</table>\n",
       "</div>"
      ],
      "text/plain": [
       "    expl_var  mean_abs_err  mean_sqrd_err  median_abs_err      r2\n",
       "3     0.0591       1045.61      2120543.8         751.939  0.0590\n",
       "4     0.0820       1033.74      2068617.7         746.400  0.0819\n",
       "5     0.1098       1020.38      2005531.2         738.882  0.1097\n",
       "6     0.1397       1003.49      1937764.7         726.882  0.1397\n",
       "7     0.1792        981.46      1848631.4         717.317  0.1791\n",
       "8     0.2251        955.39      1745521.0         700.027  0.2250\n",
       "9     0.2696        928.34      1644891.2         675.988  0.2694\n",
       "10    0.3167        899.10      1539164.7         658.154  0.3166\n",
       "11    0.3621        867.83      1436892.1         635.544  0.3619\n",
       "12    0.4104        834.67      1327813.1         614.828  0.4102\n",
       "13    0.4509        804.14      1236950.9         589.930  0.4507\n",
       "14    0.4954        769.54      1137071.7         558.577  0.4952\n",
       "15    0.5318        738.17      1055312.5         528.971  0.5316\n",
       "16    0.5698        706.25       969581.0         504.003  0.5696\n",
       "17    0.5966        679.25       909373.5         484.238  0.5964\n",
       "18    0.6189        656.41       858684.9         460.280  0.6187\n",
       "19    0.6417        631.84       807467.7         441.900  0.6415\n",
       "20    0.6588        613.12       769414.4         427.884  0.6587\n",
       "21    0.6709        599.38       741771.7         410.356  0.6708\n",
       "22    0.6847        584.82       710519.4         399.382  0.6846\n",
       "23    0.6937        574.59       690527.8         390.937  0.6936\n",
       "24    0.7000        565.80       675995.4         382.526  0.6999\n",
       "25    0.7038        560.45       667558.0         378.930  0.7038\n",
       "26    0.7059        556.39       662583.1         372.215  0.7058\n",
       "27    0.7105        551.72       652364.6         363.651  0.7104\n",
       "28    0.7114        549.30       650454.1         364.024  0.7113\n",
       "29    0.7110        549.35       651518.6         363.824  0.7109"
      ]
     },
     "execution_count": 14,
     "metadata": {},
     "output_type": "execute_result"
    }
   ],
   "source": [
    "scores_list = []\n",
    "param_range = range(3,30)\n",
    "\n",
    "for depth in param_range:\n",
    "    RFR = RandomForestRegressor(max_depth=depth)\n",
    "    scores_list.append(cross_validate(RFR, X_train, y_train, cv=5, scoring=scoring, return_train_score=False, n_jobs=-1))\n",
    "print_scores(scores_list, param_range)"
   ]
  },
  {
   "cell_type": "code",
   "execution_count": 22,
   "metadata": {},
   "outputs": [],
   "source": [
    "param_grid = {'max_depth': range(26, 30),\n",
    "              #'min_samples_split': range(2,5),\n",
    "              #'min_samples_leaf': range(1,10),\n",
    "              #'max_features': [\"auto\", \"sqrt\",\"log2\"]\n",
    "              'n_estimators': [10, 20, 50]\n",
    "             }\n",
    "\n",
    "RFR = RandomForestRegressor(random_state=42, n_estimators=50)\n",
    "\n",
    "grid = GridSearchCV(estimator=RFR,\n",
    "                    param_grid=param_grid,\n",
    "                    scoring=\"r2\",\n",
    "                    refit=\"r2\",\n",
    "                    return_train_score=False,\n",
    "                    n_jobs=-1)"
   ]
  },
  {
   "cell_type": "code",
   "execution_count": 23,
   "metadata": {},
   "outputs": [
    {
     "name": "stdout",
     "output_type": "stream",
     "text": [
      "{'max_depth': 29, 'n_estimators': 50}\n"
     ]
    }
   ],
   "source": [
    "grid.fit(X_train, y_train)\n",
    "best_plist = grid.best_params_\n",
    "print(best_plist)"
   ]
  },
  {
   "cell_type": "code",
   "execution_count": 24,
   "metadata": {},
   "outputs": [
    {
     "data": {
      "text/plain": [
       "0.7113616007018946"
      ]
     },
     "execution_count": 24,
     "metadata": {},
     "output_type": "execute_result"
    }
   ],
   "source": [
    "grid.best_score_"
   ]
  },
  {
   "cell_type": "code",
   "execution_count": 25,
   "metadata": {},
   "outputs": [
    {
     "data": {
      "text/plain": [
       "0.8088734249675775"
      ]
     },
     "execution_count": 25,
     "metadata": {},
     "output_type": "execute_result"
    }
   ],
   "source": [
    "# Final Evaluation\n",
    "\n",
    "RFR = RandomForestRegressor(max_depth=29,\n",
    "                            n_estimators=50,\n",
    "                            min_samples_split=2, # i.e. default\n",
    "                            min_samples_leaf=1, # i.e. default\n",
    "                            max_features=\"auto\" # i.e. default\n",
    "                           )\n",
    "RFR.fit(X_train, y_train)\n",
    "y_pred = RFR.predict(X_test)\n",
    "r2_score(y_test, y_pred)"
   ]
  },
  {
   "cell_type": "code",
   "execution_count": 26,
   "metadata": {},
   "outputs": [
    {
     "data": {
      "image/png": "[encoded data removed]",
      "text/plain": [
       "<Figure size 432x288 with 1 Axes>"
      ]
     },
     "metadata": {},
     "output_type": "display_data"
    },
    {
     "data": {
      "text/plain": [
       "[(0.1154, 'wind_generation_forecast'),\n",
       " (0.1091, 'wind_capacity'),\n",
       " (0.0721, 'mov_avg_30_wind_forecast_error_shifted'),\n",
       " (0.0669, 'mov_avg_30_forecast_error_shifted'),\n",
       " (0.0625, 'mov_avg_10_wind_forecast_error_shifted'),\n",
       " (0.0614, 'mov_avg_10_forecast_error_shifted'),\n",
       " (0.0602, 'hourly_moving_avg_7_wind_shifted'),\n",
       " (0.0584, 'hourly_moving_avg_wind_shifted'),\n",
       " (0.0564, 'mov_avg_1_intraday_shifted'),\n",
       " (0.0557, 'mov_avg_1_day_ahead_shifted'),\n",
       " (0.0557, 'hourly_moving_avg_2_wind_shifted'),\n",
       " (0.0555, 'mov_avg_1_wind_forecast_error_shifted'),\n",
       " (0.0551, 'mov_avg_1_forecast_error_shifted'),\n",
       " (0.0506, 'hour'),\n",
       " (0.0351, 'weekday'),\n",
       " (0.0217, 'month'),\n",
       " (0.008, 'season')]"
      ]
     },
     "execution_count": 26,
     "metadata": {},
     "output_type": "execute_result"
    }
   ],
   "source": [
    "# See how important the features of the data frame are for the prediction with Random Forests\n",
    "\n",
    "RFR = RandomForestRegressor(max_depth=23)\n",
    "RFR.fit(X,y)\n",
    "features = sorted(zip(map(lambda x: round(x, 4), RFR.feature_importances_), X.columns), reverse=True)\n",
    "ys, labels = zip(*features)\n",
    "xs = np.arange(len(labels)) \n",
    "width = 1\n",
    "plt.bar(xs, ys, width, align='center')\n",
    "plt.xticks(xs, labels, rotation='vertical')\n",
    "plt.show()\n",
    "features[:]"
   ]
  },
  {
   "cell_type": "markdown",
   "metadata": {},
   "source": [
    "### Model 3: Ridge Regression"
   ]
  },
  {
   "cell_type": "code",
   "execution_count": 29,
   "metadata": {},
   "outputs": [
    {
     "data": {
      "text/html": [
       "<div>\n",
       "<style scoped>\n",
       "    .dataframe tbody tr th:only-of-type {\n",
       "        vertical-align: middle;\n",
       "    }\n",
       "\n",
       "    .dataframe tbody tr th {\n",
       "        vertical-align: top;\n",
       "    }\n",
       "\n",
       "    .dataframe thead th {\n",
       "        text-align: right;\n",
       "    }\n",
       "</style>\n",
       "<table border=\"1\" class=\"dataframe\">\n",
       "  <thead>\n",
       "    <tr style=\"text-align: right;\">\n",
       "      <th></th>\n",
       "      <th>expl_var</th>\n",
       "      <th>mean_abs_err</th>\n",
       "      <th>mean_sqrd_err</th>\n",
       "      <th>median_abs_err</th>\n",
       "      <th>r2</th>\n",
       "    </tr>\n",
       "  </thead>\n",
       "  <tbody>\n",
       "    <tr>\n",
       "      <th>0.1</th>\n",
       "      <td>0.0252</td>\n",
       "      <td>1062.83</td>\n",
       "      <td>2198923.6</td>\n",
       "      <td>763.183</td>\n",
       "      <td>0.0252</td>\n",
       "    </tr>\n",
       "    <tr>\n",
       "      <th>1.0</th>\n",
       "      <td>0.0252</td>\n",
       "      <td>1062.83</td>\n",
       "      <td>2198923.6</td>\n",
       "      <td>763.183</td>\n",
       "      <td>0.0252</td>\n",
       "    </tr>\n",
       "    <tr>\n",
       "      <th>10.0</th>\n",
       "      <td>0.0252</td>\n",
       "      <td>1062.83</td>\n",
       "      <td>2198923.2</td>\n",
       "      <td>763.187</td>\n",
       "      <td>0.0252</td>\n",
       "    </tr>\n",
       "    <tr>\n",
       "      <th>100.0</th>\n",
       "      <td>0.0252</td>\n",
       "      <td>1062.83</td>\n",
       "      <td>2198919.6</td>\n",
       "      <td>763.186</td>\n",
       "      <td>0.0252</td>\n",
       "    </tr>\n",
       "    <tr>\n",
       "      <th>1000.0</th>\n",
       "      <td>0.0253</td>\n",
       "      <td>1062.85</td>\n",
       "      <td>2198896.0</td>\n",
       "      <td>763.120</td>\n",
       "      <td>0.0252</td>\n",
       "    </tr>\n",
       "    <tr>\n",
       "      <th>10000.0</th>\n",
       "      <td>0.0252</td>\n",
       "      <td>1062.90</td>\n",
       "      <td>2198947.7</td>\n",
       "      <td>764.090</td>\n",
       "      <td>0.0252</td>\n",
       "    </tr>\n",
       "    <tr>\n",
       "      <th>100000.0</th>\n",
       "      <td>0.0248</td>\n",
       "      <td>1062.80</td>\n",
       "      <td>2199833.7</td>\n",
       "      <td>764.420</td>\n",
       "      <td>0.0248</td>\n",
       "    </tr>\n",
       "    <tr>\n",
       "      <th>1000000.0</th>\n",
       "      <td>0.0235</td>\n",
       "      <td>1062.79</td>\n",
       "      <td>2202826.0</td>\n",
       "      <td>760.960</td>\n",
       "      <td>0.0235</td>\n",
       "    </tr>\n",
       "    <tr>\n",
       "      <th>10000000.0</th>\n",
       "      <td>0.0223</td>\n",
       "      <td>1062.71</td>\n",
       "      <td>2205534.3</td>\n",
       "      <td>760.688</td>\n",
       "      <td>0.0222</td>\n",
       "    </tr>\n",
       "    <tr>\n",
       "      <th>100000000.0</th>\n",
       "      <td>0.0219</td>\n",
       "      <td>1062.50</td>\n",
       "      <td>2206586.7</td>\n",
       "      <td>758.239</td>\n",
       "      <td>0.0218</td>\n",
       "    </tr>\n",
       "  </tbody>\n",
       "</table>\n",
       "</div>"
      ],
      "text/plain": [
       "             expl_var  mean_abs_err  mean_sqrd_err  median_abs_err      r2\n",
       "0.1            0.0252       1062.83      2198923.6         763.183  0.0252\n",
       "1.0            0.0252       1062.83      2198923.6         763.183  0.0252\n",
       "10.0           0.0252       1062.83      2198923.2         763.187  0.0252\n",
       "100.0          0.0252       1062.83      2198919.6         763.186  0.0252\n",
       "1000.0         0.0253       1062.85      2198896.0         763.120  0.0252\n",
       "10000.0        0.0252       1062.90      2198947.7         764.090  0.0252\n",
       "100000.0       0.0248       1062.80      2199833.7         764.420  0.0248\n",
       "1000000.0      0.0235       1062.79      2202826.0         760.960  0.0235\n",
       "10000000.0     0.0223       1062.71      2205534.3         760.688  0.0222\n",
       "100000000.0    0.0219       1062.50      2206586.7         758.239  0.0218"
      ]
     },
     "execution_count": 29,
     "metadata": {},
     "output_type": "execute_result"
    }
   ],
   "source": [
    "scores_list = []\n",
    "param_range = (0.1, 1, 10, 100, 1000, 10000, 100000, 1000000, 10000000, 100000000)\n",
    "\n",
    "for alpha in param_range:\n",
    "    RR = Ridge(alpha=alpha)\n",
    "    scores_list.append(cross_validate(RR, X_train, y_train, cv=5, scoring=scoring, return_train_score=False, n_jobs=-1))\n",
    "print_scores(scores_list, param_range)"
   ]
  },
  {
   "cell_type": "code",
   "execution_count": 30,
   "metadata": {},
   "outputs": [
    {
     "data": {
      "text/plain": [
       "0.02745052421779326"
      ]
     },
     "execution_count": 30,
     "metadata": {},
     "output_type": "execute_result"
    }
   ],
   "source": [
    "# Final Evaluation\n",
    "\n",
    "RR = Ridge(alpha=100000)\n",
    "RR.fit(X_train, y_train)\n",
    "y_pred = RR.predict(X_test)\n",
    "r2_score(y_test, y_pred)"
   ]
  },
  {
   "cell_type": "markdown",
   "metadata": {},
   "source": [
    "### Model 4: AdaBoost"
   ]
  },
  {
   "cell_type": "code",
   "execution_count": 31,
   "metadata": {},
   "outputs": [
    {
     "data": {
      "text/html": [
       "<div>\n",
       "<style scoped>\n",
       "    .dataframe tbody tr th:only-of-type {\n",
       "        vertical-align: middle;\n",
       "    }\n",
       "\n",
       "    .dataframe tbody tr th {\n",
       "        vertical-align: top;\n",
       "    }\n",
       "\n",
       "    .dataframe thead th {\n",
       "        text-align: right;\n",
       "    }\n",
       "</style>\n",
       "<table border=\"1\" class=\"dataframe\">\n",
       "  <thead>\n",
       "    <tr style=\"text-align: right;\">\n",
       "      <th></th>\n",
       "      <th>expl_var</th>\n",
       "      <th>mean_abs_err</th>\n",
       "      <th>mean_sqrd_err</th>\n",
       "      <th>median_abs_err</th>\n",
       "      <th>r2</th>\n",
       "    </tr>\n",
       "  </thead>\n",
       "  <tbody>\n",
       "    <tr>\n",
       "      <th>100</th>\n",
       "      <td>0.2035</td>\n",
       "      <td>1005.1</td>\n",
       "      <td>1804435.2</td>\n",
       "      <td>758.172</td>\n",
       "      <td>0.1989</td>\n",
       "    </tr>\n",
       "  </tbody>\n",
       "</table>\n",
       "</div>"
      ],
      "text/plain": [
       "     expl_var  mean_abs_err  mean_sqrd_err  median_abs_err      r2\n",
       "100    0.2035        1005.1      1804435.2         758.172  0.1989"
      ]
     },
     "execution_count": 31,
     "metadata": {},
     "output_type": "execute_result"
    }
   ],
   "source": [
    "# Boosting: combining several weak learners to form a strong learner.\n",
    "# Weak learner: Model doing slightly better than random guessing (e.g. a decision tree with low depth)\n",
    "# Incorrectly predicted data points get more weight in the next step\n",
    "# Regression: Weighted average (AdaBoostRegressor)\n",
    "\n",
    "scores_list = []\n",
    "param_range = [100]\n",
    "\n",
    "ABR = AdaBoostRegressor(base_estimator=RandomForestRegressor(max_depth=5), n_estimators=50) # Default is with DecisionTreeRegressor(max_depth=3)\n",
    "scores_list.append(cross_validate(ABR, X_train, y_train, cv=5, scoring=scoring, return_train_score=False, n_jobs=-1))\n",
    "print_scores(scores_list, param_range)"
   ]
  },
  {
   "cell_type": "code",
   "execution_count": 32,
   "metadata": {},
   "outputs": [
    {
     "data": {
      "text/plain": [
       "0.19926158776635072"
      ]
     },
     "execution_count": 32,
     "metadata": {},
     "output_type": "execute_result"
    }
   ],
   "source": [
    "# Final Evaluation\n",
    "\n",
    "ABR = AdaBoostRegressor(base_estimator=RandomForestRegressor(max_depth=5), n_estimators=50)\n",
    "ABR.fit(X_train, y_train)\n",
    "y_pred = ABR.predict(X_test)\n",
    "r2_score(y_test, y_pred)"
   ]
  },
  {
   "cell_type": "markdown",
   "metadata": {},
   "source": [
    "### Model 5: Gradient Boosting"
   ]
  },
  {
   "cell_type": "code",
   "execution_count": 33,
   "metadata": {},
   "outputs": [
    {
     "data": {
      "text/html": [
       "<div>\n",
       "<style scoped>\n",
       "    .dataframe tbody tr th:only-of-type {\n",
       "        vertical-align: middle;\n",
       "    }\n",
       "\n",
       "    .dataframe tbody tr th {\n",
       "        vertical-align: top;\n",
       "    }\n",
       "\n",
       "    .dataframe thead th {\n",
       "        text-align: right;\n",
       "    }\n",
       "</style>\n",
       "<table border=\"1\" class=\"dataframe\">\n",
       "  <thead>\n",
       "    <tr style=\"text-align: right;\">\n",
       "      <th></th>\n",
       "      <th>expl_var</th>\n",
       "      <th>mean_abs_err</th>\n",
       "      <th>mean_sqrd_err</th>\n",
       "      <th>median_abs_err</th>\n",
       "      <th>r2</th>\n",
       "    </tr>\n",
       "  </thead>\n",
       "  <tbody>\n",
       "    <tr>\n",
       "      <th>6</th>\n",
       "      <td>0.5222</td>\n",
       "      <td>756.39</td>\n",
       "      <td>1076561.4</td>\n",
       "      <td>559.331</td>\n",
       "      <td>0.5221</td>\n",
       "    </tr>\n",
       "  </tbody>\n",
       "</table>\n",
       "</div>"
      ],
      "text/plain": [
       "   expl_var  mean_abs_err  mean_sqrd_err  median_abs_err      r2\n",
       "6    0.5222        756.39      1076561.4         559.331  0.5221"
      ]
     },
     "execution_count": 33,
     "metadata": {},
     "output_type": "execute_result"
    }
   ],
   "source": [
    "scores_list = []\n",
    "param_range = [6]\n",
    "\n",
    "GBR = GradientBoostingRegressor(max_depth=6) # Parameter max_features=\"sqrt\" reduces variance, but also reduces CV score to 0.80\n",
    "scores_list.append(cross_validate(GBR, X_train, y_train, cv=5, scoring=scoring, return_train_score=False, n_jobs=-1))\n",
    "print_scores(scores_list, param_range)"
   ]
  },
  {
   "cell_type": "code",
   "execution_count": 34,
   "metadata": {},
   "outputs": [
    {
     "data": {
      "text/plain": [
       "0.5201736826970473"
      ]
     },
     "execution_count": 34,
     "metadata": {},
     "output_type": "execute_result"
    }
   ],
   "source": [
    "# Final Evaluation\n",
    "\n",
    "GBR = GradientBoostingRegressor(max_depth=6)\n",
    "GBR.fit(X_train, y_train)\n",
    "y_pred = GBR.predict(X_test)\n",
    "r2_score(y_test, y_pred)"
   ]
  },
  {
   "cell_type": "markdown",
   "metadata": {},
   "source": [
    "### Model 6: Stochastic Gradient Boosting"
   ]
  },
  {
   "cell_type": "code",
   "execution_count": 35,
   "metadata": {},
   "outputs": [
    {
     "data": {
      "text/html": [
       "<div>\n",
       "<style scoped>\n",
       "    .dataframe tbody tr th:only-of-type {\n",
       "        vertical-align: middle;\n",
       "    }\n",
       "\n",
       "    .dataframe tbody tr th {\n",
       "        vertical-align: top;\n",
       "    }\n",
       "\n",
       "    .dataframe thead th {\n",
       "        text-align: right;\n",
       "    }\n",
       "</style>\n",
       "<table border=\"1\" class=\"dataframe\">\n",
       "  <thead>\n",
       "    <tr style=\"text-align: right;\">\n",
       "      <th></th>\n",
       "      <th>expl_var</th>\n",
       "      <th>mean_abs_err</th>\n",
       "      <th>mean_sqrd_err</th>\n",
       "      <th>median_abs_err</th>\n",
       "      <th>r2</th>\n",
       "    </tr>\n",
       "  </thead>\n",
       "  <tbody>\n",
       "    <tr>\n",
       "      <th>0.70</th>\n",
       "      <td>0.5341</td>\n",
       "      <td>747.72</td>\n",
       "      <td>1048193.9</td>\n",
       "      <td>554.760</td>\n",
       "      <td>0.5340</td>\n",
       "    </tr>\n",
       "    <tr>\n",
       "      <th>0.75</th>\n",
       "      <td>0.5306</td>\n",
       "      <td>748.06</td>\n",
       "      <td>1056944.4</td>\n",
       "      <td>549.764</td>\n",
       "      <td>0.5306</td>\n",
       "    </tr>\n",
       "    <tr>\n",
       "      <th>0.80</th>\n",
       "      <td>0.5335</td>\n",
       "      <td>748.90</td>\n",
       "      <td>1050228.9</td>\n",
       "      <td>553.240</td>\n",
       "      <td>0.5334</td>\n",
       "    </tr>\n",
       "    <tr>\n",
       "      <th>0.85</th>\n",
       "      <td>0.5382</td>\n",
       "      <td>746.35</td>\n",
       "      <td>1039376.5</td>\n",
       "      <td>554.908</td>\n",
       "      <td>0.5382</td>\n",
       "    </tr>\n",
       "    <tr>\n",
       "      <th>0.90</th>\n",
       "      <td>0.5298</td>\n",
       "      <td>747.16</td>\n",
       "      <td>1057861.2</td>\n",
       "      <td>546.710</td>\n",
       "      <td>0.5297</td>\n",
       "    </tr>\n",
       "    <tr>\n",
       "      <th>0.95</th>\n",
       "      <td>0.5276</td>\n",
       "      <td>753.39</td>\n",
       "      <td>1063378.5</td>\n",
       "      <td>560.236</td>\n",
       "      <td>0.5276</td>\n",
       "    </tr>\n",
       "  </tbody>\n",
       "</table>\n",
       "</div>"
      ],
      "text/plain": [
       "      expl_var  mean_abs_err  mean_sqrd_err  median_abs_err      r2\n",
       "0.70    0.5341        747.72      1048193.9         554.760  0.5340\n",
       "0.75    0.5306        748.06      1056944.4         549.764  0.5306\n",
       "0.80    0.5335        748.90      1050228.9         553.240  0.5334\n",
       "0.85    0.5382        746.35      1039376.5         554.908  0.5382\n",
       "0.90    0.5298        747.16      1057861.2         546.710  0.5297\n",
       "0.95    0.5276        753.39      1063378.5         560.236  0.5276"
      ]
     },
     "execution_count": 35,
     "metadata": {},
     "output_type": "execute_result"
    }
   ],
   "source": [
    "# Uses same method as gradient boosting, but subsample parameter is changed (default=1.0)\n",
    "# See the doku of subsample parameter:\n",
    "# The fraction of samples to be used for fitting the individual base learners.\n",
    "# If smaller than 1.0 this results in Stochastic Gradient Boosting.\n",
    "# subsample interacts with the parameter n_estimators.\n",
    "# Choosing subsample < 1.0 leads to a reduction of variance and an increase in bias.\n",
    "\n",
    "scores_list = []\n",
    "param_range = [0.7, 0.75, 0.8, 0.85, 0.9, 0.95]\n",
    "\n",
    "for subsample in param_range:\n",
    "    SGBR = GradientBoostingRegressor(max_depth=6, subsample=subsample)\n",
    "    scores_list.append(cross_validate(SGBR, X_train, y_train, cv=5, scoring=scoring, return_train_score=False, n_jobs=-1))\n",
    "print_scores(scores_list, param_range)"
   ]
  },
  {
   "cell_type": "code",
   "execution_count": 36,
   "metadata": {},
   "outputs": [
    {
     "data": {
      "text/plain": [
       "0.5398686444590259"
      ]
     },
     "execution_count": 36,
     "metadata": {},
     "output_type": "execute_result"
    }
   ],
   "source": [
    "# Final Evaluation\n",
    "\n",
    "SGBR = GradientBoostingRegressor(max_depth=6, subsample=0.9)\n",
    "SGBR.fit(X_train, y_train)\n",
    "y_pred = SGBR.predict(X_test)\n",
    "r2_score(y_test, y_pred)"
   ]
  },
  {
   "cell_type": "markdown",
   "metadata": {},
   "source": [
    "### Model 7: Bagging"
   ]
  },
  {
   "cell_type": "code",
   "execution_count": 41,
   "metadata": {},
   "outputs": [
    {
     "data": {
      "text/html": [
       "<div>\n",
       "<style scoped>\n",
       "    .dataframe tbody tr th:only-of-type {\n",
       "        vertical-align: middle;\n",
       "    }\n",
       "\n",
       "    .dataframe tbody tr th {\n",
       "        vertical-align: top;\n",
       "    }\n",
       "\n",
       "    .dataframe thead th {\n",
       "        text-align: right;\n",
       "    }\n",
       "</style>\n",
       "<table border=\"1\" class=\"dataframe\">\n",
       "  <thead>\n",
       "    <tr style=\"text-align: right;\">\n",
       "      <th></th>\n",
       "      <th>expl_var</th>\n",
       "      <th>mean_abs_err</th>\n",
       "      <th>mean_sqrd_err</th>\n",
       "      <th>median_abs_err</th>\n",
       "      <th>r2</th>\n",
       "    </tr>\n",
       "  </thead>\n",
       "  <tbody>\n",
       "    <tr>\n",
       "      <th>6</th>\n",
       "      <td>0.5001</td>\n",
       "      <td>767.07</td>\n",
       "      <td>1127567.6</td>\n",
       "      <td>565.113</td>\n",
       "      <td>0.5001</td>\n",
       "    </tr>\n",
       "  </tbody>\n",
       "</table>\n",
       "</div>"
      ],
      "text/plain": [
       "   expl_var  mean_abs_err  mean_sqrd_err  median_abs_err      r2\n",
       "6    0.5001        767.07      1127567.6         565.113  0.5001"
      ]
     },
     "execution_count": 41,
     "metadata": {},
     "output_type": "execute_result"
    }
   ],
   "source": [
    "# Short for \"Bootstrap Aggregation\"\n",
    "# Voting Classifier has the same training set, but several algorithms\n",
    "# In contrast, bagging uses the same algorithm, but several subsets of the training set.\n",
    "# N different bootstrap samples are created from the original dataset and a model is trained on each of them.\n",
    "# A bootstrap sample is created by dragging elements from the original dataset (with put back), i.e. a data point can be dragged multiple times\n",
    "# With regression, the average of the predicted values is calculated\n",
    "\n",
    "scores_list = []\n",
    "param_range = [6]\n",
    "\n",
    "BR = BaggingRegressor(RandomForestRegressor(max_depth=15))\n",
    "scores_list.append(cross_validate(BR, X_train, y_train, cv=5, scoring=scoring, return_train_score=False, n_jobs=-1))\n",
    "print_scores(scores_list, param_range)"
   ]
  },
  {
   "cell_type": "code",
   "execution_count": 38,
   "metadata": {},
   "outputs": [
    {
     "data": {
      "text/plain": [
       "0.32750581003806445"
      ]
     },
     "execution_count": 38,
     "metadata": {},
     "output_type": "execute_result"
    }
   ],
   "source": [
    "# Final Evaluation\n",
    "\n",
    "BR = BaggingRegressor(RandomForestRegressor(max_depth=15))\n",
    "BR.fit(X_train, y_train)\n",
    "y_pred = BR.predict(X_test)\n",
    "r2_score(y_test, y_pred)"
   ]
  },
  {
   "cell_type": "code",
   "execution_count": 39,
   "metadata": {},
   "outputs": [
    {
     "name": "stderr",
     "output_type": "stream",
     "text": [
      "/Applications/anaconda3/lib/python3.6/site-packages/sklearn/ensemble/bagging.py:987: UserWarning: Some inputs do not have OOB scores. This probably means too few estimators were used to compute any reliable oob estimates.\n",
      "  warn(\"Some inputs do not have OOB scores. \"\n"
     ]
    },
    {
     "data": {
      "text/plain": [
       "0.3086064711113843"
      ]
     },
     "execution_count": 39,
     "metadata": {},
     "output_type": "execute_result"
    }
   ],
   "source": [
    "BR = BaggingRegressor(RandomForestRegressor(max_depth=15), oob_score=True)\n",
    "BR.fit(X,y)\n",
    "BR.oob_score_"
   ]
  },
  {
   "cell_type": "markdown",
   "metadata": {},
   "source": [
    "Since the samples are sampled with putting back, some of the data points can be sampled several times, while others have never been sampled (out of bag). The letter are used to calculate the oob-score, which measures the generalization error (yields the precision of data never seen before)."
   ]
  },
  {
   "cell_type": "markdown",
   "metadata": {},
   "source": [
    "### Experiment on PCA\n",
    "\n",
    "Does not make sense here since neither computing speed needs to be imporved nor visualisation needs to be simplified"
   ]
  },
  {
   "cell_type": "code",
   "execution_count": 42,
   "metadata": {},
   "outputs": [
    {
     "data": {
      "image/png": "[encoded data removed]",
      "text/plain": [
       "<Figure size 432x288 with 1 Axes>"
      ]
     },
     "metadata": {},
     "output_type": "display_data"
    }
   ],
   "source": [
    "scaler = StandardScaler()\n",
    "pca = PCA()\n",
    "pipeline = make_pipeline(scaler, pca)\n",
    "pipeline.fit_transform(X)\n",
    "features = range(pca.n_components_)\n",
    "plt.bar(features, pca.explained_variance_)\n",
    "plt.xlabel('PCA feature')\n",
    "plt.ylabel('variance')\n",
    "plt.xticks(features)\n",
    "plt.show()"
   ]
  },
  {
   "cell_type": "code",
   "execution_count": null,
   "metadata": {},
   "outputs": [],
   "source": []
  }
 ],
 "metadata": {
  "kernelspec": {
   "display_name": "Python 3",
   "language": "python",
   "name": "python3"
  },
  "language_info": {
   "codemirror_mode": {
    "name": "ipython",
    "version": 3
   },
   "file_extension": ".py",
   "mimetype": "text/x-python",
   "name": "python",
   "nbconvert_exporter": "python",
   "pygments_lexer": "ipython3",
   "version": "3.6.5"
  }
 },
 "nbformat": 4,
 "nbformat_minor": 2
}
