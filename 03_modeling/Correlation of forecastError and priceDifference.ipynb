{
 "cells": [
  {
   "cell_type": "code",
   "execution_count": 19,
   "metadata": {},
   "outputs": [],
   "source": [
    "import pandas as pd"
   ]
  },
  {
   "cell_type": "code",
   "execution_count": 22,
   "metadata": {},
   "outputs": [
    {
     "name": "stdout",
     "output_type": "stream",
     "text": [
      "Correlation of Price Difference & Wind Forecast Error: -0.3940734957646056\n",
      "Correlation of Price Difference & Solar Forecast Error: -0.21789173437621973\n"
     ]
    }
   ],
   "source": [
    "fullData = pd.read_csv(\"../00_data/data_with_calc_fields.csv\", sep=\";\", decimal=\",\", index_col=\"datetime\")\n",
    "fullData.index = pd.to_datetime(fullData.index)\n",
    "\n",
    "series_forecastError_wind = fullData[\"wind_forecast_error\"]\n",
    "series_forecastError_solar = fullData[\"solar_forecast_error\"]\n",
    "series_priceDifference = fullData[\"price_diff\"]\n",
    "\n",
    "corrCoeff_price_wind = series_priceDifference.corr(series_forecastError_wind)\n",
    "corrCoeff_price_solar = series_priceDifference.corr(series_forecastError_solar)\n",
    "\n",
    "print(\"Correlation of Price Difference & Wind Forecast Error: \" + str(corrCoeff_price_wind))\n",
    "print(\"Correlation of Price Difference & Solar Forecast Error: \" + str(corrCoeff_price_solar))"
   ]
  },
  {
   "cell_type": "code",
   "execution_count": null,
   "metadata": {},
   "outputs": [],
   "source": []
  }
 ],
 "metadata": {
  "kernelspec": {
   "display_name": "Python 3",
   "language": "python",
   "name": "python3"
  },
  "language_info": {
   "codemirror_mode": {
    "name": "ipython",
    "version": 3
   },
   "file_extension": ".py",
   "mimetype": "text/x-python",
   "name": "python",
   "nbconvert_exporter": "python",
   "pygments_lexer": "ipython3",
   "version": "3.7.0"
  }
 },
 "nbformat": 4,
 "nbformat_minor": 2
}
