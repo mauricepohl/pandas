{
 "cells": [
  {
   "cell_type": "markdown",
   "metadata": {},
   "source": [
    "# Imports and Data Preparation"
   ]
  },
  {
   "cell_type": "code",
   "execution_count": 2,
   "metadata": {},
   "outputs": [
    {
     "name": "stderr",
     "output_type": "stream",
     "text": [
      "C:\\Users\\Tabea\\Anaconda3\\lib\\site-packages\\sklearn\\ensemble\\weight_boosting.py:29: DeprecationWarning: numpy.core.umath_tests is an internal NumPy module and should not be imported. It will be removed in a future NumPy release.\n",
      "  from numpy.core.umath_tests import inner1d\n"
     ]
    }
   ],
   "source": [
    "# Standard imports\n",
    "import pandas as pd\n",
    "import numpy as np\n",
    "import matplotlib.pyplot as plt\n",
    "from datetime import datetime\n",
    "\n",
    "# Imports for time series analysis\n",
    "from statsmodels.tsa.ar_model import AR\n",
    "from statsmodels.tsa.arima_model import ARMA\n",
    "from statsmodels.tsa.vector_ar.var_model import VAR\n",
    "\n",
    "# Imports for regression\n",
    "from sklearn.model_selection import TimeSeriesSplit, cross_validate, train_test_split, GridSearchCV\n",
    "from sklearn.ensemble import RandomForestRegressor, AdaBoostRegressor, BaggingRegressor, GradientBoostingRegressor, BaggingRegressor\n",
    "from sklearn.tree import DecisionTreeRegressor\n",
    "from sklearn.linear_model import Ridge\n",
    "\n",
    "# Imports for evaluation\n",
    "from sklearn.metrics import r2_score\n",
    "\n",
    "# Imports for PCA\n",
    "from sklearn.decomposition import PCA\n",
    "from sklearn.preprocessing import StandardScaler\n",
    "from sklearn.pipeline import make_pipeline\n",
    "\n",
    "from IPython.display import Image"
   ]
  },
  {
   "cell_type": "code",
   "execution_count": 3,
   "metadata": {},
   "outputs": [
    {
     "data": {
      "text/plain": [
       "Index(['hour', 'day_ahead_price', 'intraday_price', 'price_diff',\n",
       "       'solar_capacity', 'solar_generation_actual',\n",
       "       'solar_generation_forecast', 'solar_forecast_error', 'forecast_error',\n",
       "       'season', 'month', 'weekday', 'mov_avg_30_forecast_error_shifted',\n",
       "       'mov_avg_30_solar_forecast_error_shifted',\n",
       "       'mov_avg_10_forecast_error_shifted',\n",
       "       'mov_avg_10_solar_forecast_error_shifted',\n",
       "       'mov_avg_1_forecast_error_shifted',\n",
       "       'mov_avg_1_solar_forecast_error_shifted', 'mov_avg_1_day_ahead_shifted',\n",
       "       'mov_avg_1_intraday_shifted', 'solar_24h_max_shifted',\n",
       "       'hourly_moving_avg_solar_shifted', 'hourly_moving_avg_2_solar_shifted',\n",
       "       'hourly_moving_avg_7_solar_shifted'],\n",
       "      dtype='object')"
      ]
     },
     "execution_count": 3,
     "metadata": {},
     "output_type": "execute_result"
    }
   ],
   "source": [
    "df = pd.read_csv(\"../00_data/data_with_calc_fields.csv\", sep=';', decimal=\",\")\n",
    "df[\"datetime\"] = pd.to_datetime(df[\"datetime\"])\n",
    "df = df.set_index('datetime')\n",
    "\n",
    "# Shift moving averages because values are not known at time of prediction\n",
    "for c in df.columns:\n",
    "    if \"avg\" in c or \"max\" in c:\n",
    "        df[c+\"_shifted\"] = df[c].shift(24)\n",
    "        df.loc[\"2016-01-01 00:00:00\":\"2016-01-01 23:00:00\", c+\"_shifted\"] = 0 # to avoid NaN value\n",
    "        \n",
    "for c in df.columns:\n",
    "    if (\"wind\" in c) | (\"total\" in c):\n",
    "        df.drop(c, axis=1, inplace=True)\n",
    "        \n",
    "for c in df.columns:\n",
    "    if (\"avg\" in c or \"max\" in c) & (\"shifted\" not in c):\n",
    "        df.drop(c, axis=1, inplace=True)\n",
    "\n",
    "df.columns"
   ]
  },
  {
   "cell_type": "markdown",
   "metadata": {},
   "source": [
    "# Testing two options for forecast error prediction"
   ]
  },
  {
   "cell_type": "markdown",
   "metadata": {},
   "source": [
    "### Thoughts on evaluation\n",
    "\n",
    "By default cross_val_score seems to calculate the coefficient of determination (R^2) for regression instead of accuracy (https://www.quora.com/What-does-sklearn-cross_val_score-do-in-a-regression-problem). Recall: Acurracy measures if the class has been predicted correctly or not.\n",
    "\n",
    "According to scikit-learn (https://scikit-learn.org/stable/modules/model_evaluation.html#regression-metrics) the follwing metrics are appropriate for regression:\n",
    "\n",
    " - Explained variance score ('explained_variance')\n",
    " - Mean absolute error ('neg_mean_absolute_error')\n",
    " - Mean squared error ('neg_mean_squared_error')\n",
    " - Mean squared logarithmic error ('neg_mean_squared_log_error')\n",
    " - Median absolute error ('neg_median_absolute_error')\n",
    " - R² score, the coefficient of determination ('r2')\n",
    "\n",
    "Calulating Mean Squared Logarithmic Error yields the following error: \"Mean Squared Logarithmic Error cannot be used when targets contain negative values.\" Thus it is not used for evaluation."
   ]
  },
  {
   "cell_type": "code",
   "execution_count": 50,
   "metadata": {},
   "outputs": [],
   "source": [
    "# Dict containing the scorers to be used\n",
    "scoring = {'explained_variance': 'explained_variance',\n",
    "           'neg_mean_absolute_error': 'neg_mean_absolute_error',\n",
    "           'neg_mean_squared_error': 'neg_mean_squared_error',\n",
    "           'neg_median_absolute_error': 'neg_median_absolute_error',\n",
    "           'r2': 'r2'\n",
    "          }\n",
    "\n",
    "# Function which returns a table with scores achieved with different parameters\n",
    "def print_scores(scores_list, param_range):\n",
    "    scores_list = [{k:v.mean() for k,v in alpha.items()} for alpha in scores_list]\n",
    "    scores_df = pd.DataFrame(scores_list, index=param_range).drop([\"fit_time\", \"score_time\"],axis=1)\n",
    "    scores_df.columns=[\"expl_var\",\n",
    "                       \"mean_abs_err\",\n",
    "                       \"mean_sqrd_err\",\n",
    "                       \"median_abs_err\",\n",
    "                       \"r2\"]\n",
    "    scores_df[\"expl_var\"] = scores_df[\"expl_var\"].round(4)\n",
    "    scores_df[\"mean_abs_err\"] = scores_df[\"mean_abs_err\"].abs().round(2)\n",
    "    scores_df[\"mean_sqrd_err\"] = scores_df[\"mean_sqrd_err\"].abs().round(1)\n",
    "    scores_df[\"median_abs_err\"] = scores_df[\"median_abs_err\"].abs().round(3)\n",
    "    scores_df[\"r2\"] = scores_df[\"r2\"].round(4)\n",
    "    return scores_df"
   ]
  },
  {
   "cell_type": "markdown",
   "metadata": {},
   "source": [
    "## Classical Predictors\n",
    "\n",
    "In this option we assume the forecast error does not depend on a specific point in time (e.g. 07-07-2016 13:00). Thus we can use classical ML models (e.g. Regression Trees) and classical CV instead of TimeSeriesSplit. Nevertheless, we explicitly can use moving averages and shifted values.\n",
    "\n",
    "### Splitting into dependent and independent variables\n",
    "First, the dataset will be splitted into dependent (the ones used for prediction) and independent variables (the one to be predicted)."
   ]
  },
  {
   "cell_type": "code",
   "execution_count": 51,
   "metadata": {},
   "outputs": [
    {
     "data": {
      "text/plain": [
       "17"
      ]
     },
     "execution_count": 51,
     "metadata": {},
     "output_type": "execute_result"
    }
   ],
   "source": [
    "# Set with which features the prediction should be made and with feature should be predicted\n",
    "y = df.solar_forecast_error\n",
    "X = df.drop([\n",
    "             # What we want to predict\n",
    "             \"solar_forecast_error\",\n",
    "             \"forecast_error\",\n",
    "    \n",
    "             # Not known then\n",
    "             \"solar_generation_actual\",\n",
    "             \"day_ahead_price\",\n",
    "             \"intraday_price\",\n",
    "             \"price_diff\",\n",
    "             \n",
    "             \"solar_24h_max\"\n",
    "            ], axis=1)\n",
    "X = X.reset_index()\n",
    "X = X.drop(\"datetime\", axis=1)\n",
    "len(X.columns)"
   ]
  },
  {
   "cell_type": "markdown",
   "metadata": {},
   "source": [
    "### Splitting into training and test sets\n",
    "\n",
    "Sedond, the dataset will be splitted into a training and a test part. The first one is used for hyperparameter tuning and CV, the second one is used as holdout set for final evaluation. Since we assume the forecast error not depending on a specific point in time, we can split the whole dataset randomly."
   ]
  },
  {
   "cell_type": "code",
   "execution_count": 52,
   "metadata": {},
   "outputs": [],
   "source": [
    "X_train, X_test, y_train, y_test = train_test_split(X, y, random_state=42)"
   ]
  },
  {
   "cell_type": "markdown",
   "metadata": {},
   "source": [
    "### Model 1: Decision Tree Regressor"
   ]
  },
  {
   "cell_type": "code",
   "execution_count": 53,
   "metadata": {},
   "outputs": [
    {
     "data": {
      "text/html": [
       "<div>\n",
       "<style scoped>\n",
       "    .dataframe tbody tr th:only-of-type {\n",
       "        vertical-align: middle;\n",
       "    }\n",
       "\n",
       "    .dataframe tbody tr th {\n",
       "        vertical-align: top;\n",
       "    }\n",
       "\n",
       "    .dataframe thead th {\n",
       "        text-align: right;\n",
       "    }\n",
       "</style>\n",
       "<table border=\"1\" class=\"dataframe\">\n",
       "  <thead>\n",
       "    <tr style=\"text-align: right;\">\n",
       "      <th></th>\n",
       "      <th>expl_var</th>\n",
       "      <th>mean_abs_err</th>\n",
       "      <th>mean_sqrd_err</th>\n",
       "      <th>median_abs_err</th>\n",
       "      <th>r2</th>\n",
       "    </tr>\n",
       "  </thead>\n",
       "  <tbody>\n",
       "    <tr>\n",
       "      <th>3</th>\n",
       "      <td>0.0353</td>\n",
       "      <td>331.39</td>\n",
       "      <td>471841.6</td>\n",
       "      <td>14.241</td>\n",
       "      <td>0.0350</td>\n",
       "    </tr>\n",
       "    <tr>\n",
       "      <th>4</th>\n",
       "      <td>0.0534</td>\n",
       "      <td>327.83</td>\n",
       "      <td>462890.9</td>\n",
       "      <td>14.827</td>\n",
       "      <td>0.0532</td>\n",
       "    </tr>\n",
       "    <tr>\n",
       "      <th>5</th>\n",
       "      <td>0.0734</td>\n",
       "      <td>325.15</td>\n",
       "      <td>453331.9</td>\n",
       "      <td>15.405</td>\n",
       "      <td>0.0731</td>\n",
       "    </tr>\n",
       "    <tr>\n",
       "      <th>6</th>\n",
       "      <td>0.0950</td>\n",
       "      <td>322.51</td>\n",
       "      <td>442328.1</td>\n",
       "      <td>14.737</td>\n",
       "      <td>0.0947</td>\n",
       "    </tr>\n",
       "    <tr>\n",
       "      <th>7</th>\n",
       "      <td>0.1360</td>\n",
       "      <td>312.75</td>\n",
       "      <td>422005.4</td>\n",
       "      <td>15.072</td>\n",
       "      <td>0.1355</td>\n",
       "    </tr>\n",
       "    <tr>\n",
       "      <th>8</th>\n",
       "      <td>0.1534</td>\n",
       "      <td>305.89</td>\n",
       "      <td>412911.8</td>\n",
       "      <td>13.566</td>\n",
       "      <td>0.1529</td>\n",
       "    </tr>\n",
       "    <tr>\n",
       "      <th>9</th>\n",
       "      <td>0.1824</td>\n",
       "      <td>300.56</td>\n",
       "      <td>398521.0</td>\n",
       "      <td>13.724</td>\n",
       "      <td>0.1818</td>\n",
       "    </tr>\n",
       "    <tr>\n",
       "      <th>10</th>\n",
       "      <td>0.2142</td>\n",
       "      <td>295.54</td>\n",
       "      <td>383685.9</td>\n",
       "      <td>13.462</td>\n",
       "      <td>0.2137</td>\n",
       "    </tr>\n",
       "    <tr>\n",
       "      <th>11</th>\n",
       "      <td>0.2097</td>\n",
       "      <td>293.19</td>\n",
       "      <td>385456.5</td>\n",
       "      <td>13.590</td>\n",
       "      <td>0.2094</td>\n",
       "    </tr>\n",
       "    <tr>\n",
       "      <th>12</th>\n",
       "      <td>0.2245</td>\n",
       "      <td>289.35</td>\n",
       "      <td>378247.4</td>\n",
       "      <td>14.304</td>\n",
       "      <td>0.2242</td>\n",
       "    </tr>\n",
       "    <tr>\n",
       "      <th>13</th>\n",
       "      <td>0.2269</td>\n",
       "      <td>285.99</td>\n",
       "      <td>377297.6</td>\n",
       "      <td>13.505</td>\n",
       "      <td>0.2265</td>\n",
       "    </tr>\n",
       "    <tr>\n",
       "      <th>14</th>\n",
       "      <td>0.2420</td>\n",
       "      <td>283.02</td>\n",
       "      <td>370427.7</td>\n",
       "      <td>14.717</td>\n",
       "      <td>0.2416</td>\n",
       "    </tr>\n",
       "    <tr>\n",
       "      <th>15</th>\n",
       "      <td>0.2290</td>\n",
       "      <td>282.54</td>\n",
       "      <td>376646.6</td>\n",
       "      <td>13.661</td>\n",
       "      <td>0.2285</td>\n",
       "    </tr>\n",
       "    <tr>\n",
       "      <th>16</th>\n",
       "      <td>0.2605</td>\n",
       "      <td>275.87</td>\n",
       "      <td>360955.7</td>\n",
       "      <td>14.177</td>\n",
       "      <td>0.2600</td>\n",
       "    </tr>\n",
       "    <tr>\n",
       "      <th>17</th>\n",
       "      <td>0.2634</td>\n",
       "      <td>275.54</td>\n",
       "      <td>359373.6</td>\n",
       "      <td>14.964</td>\n",
       "      <td>0.2630</td>\n",
       "    </tr>\n",
       "    <tr>\n",
       "      <th>18</th>\n",
       "      <td>0.2660</td>\n",
       "      <td>274.01</td>\n",
       "      <td>358429.9</td>\n",
       "      <td>14.308</td>\n",
       "      <td>0.2656</td>\n",
       "    </tr>\n",
       "    <tr>\n",
       "      <th>19</th>\n",
       "      <td>0.2607</td>\n",
       "      <td>273.03</td>\n",
       "      <td>361463.6</td>\n",
       "      <td>13.974</td>\n",
       "      <td>0.2603</td>\n",
       "    </tr>\n",
       "    <tr>\n",
       "      <th>20</th>\n",
       "      <td>0.2307</td>\n",
       "      <td>275.14</td>\n",
       "      <td>376240.5</td>\n",
       "      <td>13.397</td>\n",
       "      <td>0.2301</td>\n",
       "    </tr>\n",
       "    <tr>\n",
       "      <th>21</th>\n",
       "      <td>0.2388</td>\n",
       "      <td>275.06</td>\n",
       "      <td>372168.6</td>\n",
       "      <td>13.941</td>\n",
       "      <td>0.2381</td>\n",
       "    </tr>\n",
       "    <tr>\n",
       "      <th>22</th>\n",
       "      <td>0.2601</td>\n",
       "      <td>273.19</td>\n",
       "      <td>361702.6</td>\n",
       "      <td>14.530</td>\n",
       "      <td>0.2597</td>\n",
       "    </tr>\n",
       "    <tr>\n",
       "      <th>23</th>\n",
       "      <td>0.2533</td>\n",
       "      <td>273.98</td>\n",
       "      <td>364484.7</td>\n",
       "      <td>13.938</td>\n",
       "      <td>0.2529</td>\n",
       "    </tr>\n",
       "    <tr>\n",
       "      <th>24</th>\n",
       "      <td>0.2420</td>\n",
       "      <td>274.07</td>\n",
       "      <td>369609.6</td>\n",
       "      <td>15.102</td>\n",
       "      <td>0.2414</td>\n",
       "    </tr>\n",
       "    <tr>\n",
       "      <th>25</th>\n",
       "      <td>0.2412</td>\n",
       "      <td>275.10</td>\n",
       "      <td>370292.8</td>\n",
       "      <td>14.900</td>\n",
       "      <td>0.2408</td>\n",
       "    </tr>\n",
       "    <tr>\n",
       "      <th>26</th>\n",
       "      <td>0.2575</td>\n",
       "      <td>274.36</td>\n",
       "      <td>362619.2</td>\n",
       "      <td>14.818</td>\n",
       "      <td>0.2571</td>\n",
       "    </tr>\n",
       "    <tr>\n",
       "      <th>27</th>\n",
       "      <td>0.2614</td>\n",
       "      <td>272.21</td>\n",
       "      <td>360851.6</td>\n",
       "      <td>14.603</td>\n",
       "      <td>0.2608</td>\n",
       "    </tr>\n",
       "    <tr>\n",
       "      <th>28</th>\n",
       "      <td>0.2757</td>\n",
       "      <td>270.86</td>\n",
       "      <td>353497.1</td>\n",
       "      <td>14.100</td>\n",
       "      <td>0.2753</td>\n",
       "    </tr>\n",
       "    <tr>\n",
       "      <th>29</th>\n",
       "      <td>0.2505</td>\n",
       "      <td>273.09</td>\n",
       "      <td>366333.5</td>\n",
       "      <td>14.285</td>\n",
       "      <td>0.2497</td>\n",
       "    </tr>\n",
       "  </tbody>\n",
       "</table>\n",
       "</div>"
      ],
      "text/plain": [
       "    expl_var  mean_abs_err  mean_sqrd_err  median_abs_err      r2\n",
       "3     0.0353        331.39       471841.6          14.241  0.0350\n",
       "4     0.0534        327.83       462890.9          14.827  0.0532\n",
       "5     0.0734        325.15       453331.9          15.405  0.0731\n",
       "6     0.0950        322.51       442328.1          14.737  0.0947\n",
       "7     0.1360        312.75       422005.4          15.072  0.1355\n",
       "8     0.1534        305.89       412911.8          13.566  0.1529\n",
       "9     0.1824        300.56       398521.0          13.724  0.1818\n",
       "10    0.2142        295.54       383685.9          13.462  0.2137\n",
       "11    0.2097        293.19       385456.5          13.590  0.2094\n",
       "12    0.2245        289.35       378247.4          14.304  0.2242\n",
       "13    0.2269        285.99       377297.6          13.505  0.2265\n",
       "14    0.2420        283.02       370427.7          14.717  0.2416\n",
       "15    0.2290        282.54       376646.6          13.661  0.2285\n",
       "16    0.2605        275.87       360955.7          14.177  0.2600\n",
       "17    0.2634        275.54       359373.6          14.964  0.2630\n",
       "18    0.2660        274.01       358429.9          14.308  0.2656\n",
       "19    0.2607        273.03       361463.6          13.974  0.2603\n",
       "20    0.2307        275.14       376240.5          13.397  0.2301\n",
       "21    0.2388        275.06       372168.6          13.941  0.2381\n",
       "22    0.2601        273.19       361702.6          14.530  0.2597\n",
       "23    0.2533        273.98       364484.7          13.938  0.2529\n",
       "24    0.2420        274.07       369609.6          15.102  0.2414\n",
       "25    0.2412        275.10       370292.8          14.900  0.2408\n",
       "26    0.2575        274.36       362619.2          14.818  0.2571\n",
       "27    0.2614        272.21       360851.6          14.603  0.2608\n",
       "28    0.2757        270.86       353497.1          14.100  0.2753\n",
       "29    0.2505        273.09       366333.5          14.285  0.2497"
      ]
     },
     "execution_count": 53,
     "metadata": {},
     "output_type": "execute_result"
    }
   ],
   "source": [
    "scores_list = []\n",
    "param_range = range(3,30)\n",
    "\n",
    "for i in param_range:\n",
    "    DTR = DecisionTreeRegressor(max_depth=i)\n",
    "    scores_list.append(cross_validate(DTR, X_train, y_train, cv=5, scoring=scoring, return_train_score=False, n_jobs=-1))\n",
    "print_scores(scores_list, param_range)"
   ]
  },
  {
   "cell_type": "code",
   "execution_count": 54,
   "metadata": {},
   "outputs": [
    {
     "data": {
      "text/plain": [
       "0.33350041407386266"
      ]
     },
     "execution_count": 54,
     "metadata": {},
     "output_type": "execute_result"
    }
   ],
   "source": [
    "# Final Evaluation\n",
    "\n",
    "DTR = DecisionTreeRegressor(max_depth=28)\n",
    "DTR.fit(X_train, y_train)\n",
    "y_pred = DTR.predict(X_test)\n",
    "r2_score(y_test, y_pred)"
   ]
  },
  {
   "cell_type": "markdown",
   "metadata": {},
   "source": [
    "### Model 2: Random Forest Regressor"
   ]
  },
  {
   "cell_type": "code",
   "execution_count": 56,
   "metadata": {},
   "outputs": [
    {
     "data": {
      "text/html": [
       "<div>\n",
       "<style scoped>\n",
       "    .dataframe tbody tr th:only-of-type {\n",
       "        vertical-align: middle;\n",
       "    }\n",
       "\n",
       "    .dataframe tbody tr th {\n",
       "        vertical-align: top;\n",
       "    }\n",
       "\n",
       "    .dataframe thead th {\n",
       "        text-align: right;\n",
       "    }\n",
       "</style>\n",
       "<table border=\"1\" class=\"dataframe\">\n",
       "  <thead>\n",
       "    <tr style=\"text-align: right;\">\n",
       "      <th></th>\n",
       "      <th>expl_var</th>\n",
       "      <th>mean_abs_err</th>\n",
       "      <th>mean_sqrd_err</th>\n",
       "      <th>median_abs_err</th>\n",
       "      <th>r2</th>\n",
       "    </tr>\n",
       "  </thead>\n",
       "  <tbody>\n",
       "    <tr>\n",
       "      <th>20</th>\n",
       "      <td>0.5582</td>\n",
       "      <td>226.52</td>\n",
       "      <td>215676.6</td>\n",
       "      <td>12.163</td>\n",
       "      <td>0.5579</td>\n",
       "    </tr>\n",
       "    <tr>\n",
       "      <th>21</th>\n",
       "      <td>0.5595</td>\n",
       "      <td>225.80</td>\n",
       "      <td>215107.4</td>\n",
       "      <td>12.296</td>\n",
       "      <td>0.5591</td>\n",
       "    </tr>\n",
       "    <tr>\n",
       "      <th>22</th>\n",
       "      <td>0.5652</td>\n",
       "      <td>224.45</td>\n",
       "      <td>212474.8</td>\n",
       "      <td>11.675</td>\n",
       "      <td>0.5648</td>\n",
       "    </tr>\n",
       "    <tr>\n",
       "      <th>23</th>\n",
       "      <td>0.5638</td>\n",
       "      <td>224.61</td>\n",
       "      <td>212952.8</td>\n",
       "      <td>12.282</td>\n",
       "      <td>0.5634</td>\n",
       "    </tr>\n",
       "    <tr>\n",
       "      <th>24</th>\n",
       "      <td>0.5660</td>\n",
       "      <td>223.98</td>\n",
       "      <td>212053.0</td>\n",
       "      <td>12.353</td>\n",
       "      <td>0.5656</td>\n",
       "    </tr>\n",
       "    <tr>\n",
       "      <th>25</th>\n",
       "      <td>0.5685</td>\n",
       "      <td>223.06</td>\n",
       "      <td>210801.9</td>\n",
       "      <td>12.274</td>\n",
       "      <td>0.5682</td>\n",
       "    </tr>\n",
       "    <tr>\n",
       "      <th>26</th>\n",
       "      <td>0.5709</td>\n",
       "      <td>223.19</td>\n",
       "      <td>209600.7</td>\n",
       "      <td>11.916</td>\n",
       "      <td>0.5705</td>\n",
       "    </tr>\n",
       "    <tr>\n",
       "      <th>27</th>\n",
       "      <td>0.5687</td>\n",
       "      <td>223.92</td>\n",
       "      <td>210813.5</td>\n",
       "      <td>12.122</td>\n",
       "      <td>0.5684</td>\n",
       "    </tr>\n",
       "    <tr>\n",
       "      <th>28</th>\n",
       "      <td>0.5696</td>\n",
       "      <td>223.14</td>\n",
       "      <td>210209.4</td>\n",
       "      <td>12.510</td>\n",
       "      <td>0.5692</td>\n",
       "    </tr>\n",
       "    <tr>\n",
       "      <th>29</th>\n",
       "      <td>0.5721</td>\n",
       "      <td>222.01</td>\n",
       "      <td>209034.1</td>\n",
       "      <td>12.586</td>\n",
       "      <td>0.5718</td>\n",
       "    </tr>\n",
       "  </tbody>\n",
       "</table>\n",
       "</div>"
      ],
      "text/plain": [
       "    expl_var  mean_abs_err  mean_sqrd_err  median_abs_err      r2\n",
       "20    0.5582        226.52       215676.6          12.163  0.5579\n",
       "21    0.5595        225.80       215107.4          12.296  0.5591\n",
       "22    0.5652        224.45       212474.8          11.675  0.5648\n",
       "23    0.5638        224.61       212952.8          12.282  0.5634\n",
       "24    0.5660        223.98       212053.0          12.353  0.5656\n",
       "25    0.5685        223.06       210801.9          12.274  0.5682\n",
       "26    0.5709        223.19       209600.7          11.916  0.5705\n",
       "27    0.5687        223.92       210813.5          12.122  0.5684\n",
       "28    0.5696        223.14       210209.4          12.510  0.5692\n",
       "29    0.5721        222.01       209034.1          12.586  0.5718"
      ]
     },
     "execution_count": 56,
     "metadata": {},
     "output_type": "execute_result"
    }
   ],
   "source": [
    "scores_list = []\n",
    "param_range = range(20,30)\n",
    "\n",
    "for depth in param_range:\n",
    "    RFR = RandomForestRegressor(max_depth=depth)\n",
    "    scores_list.append(cross_validate(RFR, X_train, y_train, cv=5, scoring=scoring, return_train_score=False, n_jobs=-1))\n",
    "print_scores(scores_list, param_range)"
   ]
  },
  {
   "cell_type": "code",
   "execution_count": 45,
   "metadata": {},
   "outputs": [],
   "source": [
    "param_grid = {'max_depth': range(25, 30),\n",
    "              #'min_samples_split': range(2,5),\n",
    "              #'min_samples_leaf': range(1,10),\n",
    "              #'max_features': [\"auto\", \"sqrt\",\"log2\"]\n",
    "              'n_estimators': [10, 20, 50, 100]\n",
    "             }\n",
    "\n",
    "RFR = RandomForestRegressor(random_state=42, n_estimators=50)\n",
    "\n",
    "grid = GridSearchCV(estimator=RFR,\n",
    "                    param_grid=param_grid,\n",
    "                    scoring=\"r2\",\n",
    "                    refit=\"r2\",\n",
    "                    return_train_score=False,\n",
    "                    n_jobs=-1)"
   ]
  },
  {
   "cell_type": "code",
   "execution_count": 46,
   "metadata": {},
   "outputs": [
    {
     "name": "stdout",
     "output_type": "stream",
     "text": [
      "{'max_depth': 27, 'n_estimators': 100}\n"
     ]
    }
   ],
   "source": [
    "grid.fit(X_train, y_train)\n",
    "best_plist = grid.best_params_\n",
    "print(best_plist)"
   ]
  },
  {
   "cell_type": "code",
   "execution_count": 47,
   "metadata": {},
   "outputs": [
    {
     "data": {
      "text/plain": [
       "0.5791111075198058"
      ]
     },
     "execution_count": 47,
     "metadata": {},
     "output_type": "execute_result"
    }
   ],
   "source": [
    "grid.best_score_"
   ]
  },
  {
   "cell_type": "code",
   "execution_count": 43,
   "metadata": {},
   "outputs": [
    {
     "data": {
      "text/plain": [
       "0.68306961193504"
      ]
     },
     "execution_count": 43,
     "metadata": {},
     "output_type": "execute_result"
    }
   ],
   "source": [
    "# Final Evaluation\n",
    "\n",
    "RFR = RandomForestRegressor(max_depth=27,\n",
    "                            n_estimators=50,\n",
    "                            min_samples_split=2, # i.e. default\n",
    "                            min_samples_leaf=1, # i.e. default\n",
    "                            max_features=\"auto\" # i.e. default\n",
    "                           )\n",
    "RFR.fit(X_train, y_train)\n",
    "y_pred = RFR.predict(X_test)\n",
    "r2_score(y_test, y_pred)"
   ]
  },
  {
   "cell_type": "code",
   "execution_count": 44,
   "metadata": {},
   "outputs": [
    {
     "data": {
      "image/png": "[encoded data removed]",
      "text/plain": [
       "<Figure size 432x288 with 1 Axes>"
      ]
     },
     "metadata": {},
     "output_type": "display_data"
    },
    {
     "data": {
      "text/plain": [
       "[(0.0899, 'solar_capacity'),\n",
       " (0.0817, 'solar_generation_forecast'),\n",
       " (0.0785, 'mov_avg_1_intraday_shifted'),\n",
       " (0.0779, 'mov_avg_1_day_ahead_shifted'),\n",
       " (0.077, 'mov_avg_30_solar_forecast_error_shifted'),\n",
       " (0.0769, 'mov_avg_30_forecast_error_shifted'),\n",
       " (0.0761, 'mov_avg_10_forecast_error_shifted'),\n",
       " (0.0727, 'mov_avg_10_solar_forecast_error_shifted'),\n",
       " (0.0652, 'hourly_moving_avg_7_solar_shifted'),\n",
       " (0.0615, 'mov_avg_1_solar_forecast_error_shifted'),\n",
       " (0.0604, 'mov_avg_1_forecast_error_shifted'),\n",
       " (0.049, 'hourly_moving_avg_2_solar_shifted'),\n",
       " (0.0383, 'hourly_moving_avg_solar_shifted'),\n",
       " (0.0372, 'weekday'),\n",
       " (0.029, 'month'),\n",
       " (0.021, 'hour'),\n",
       " (0.0078, 'season')]"
      ]
     },
     "execution_count": 44,
     "metadata": {},
     "output_type": "execute_result"
    }
   ],
   "source": [
    "# See how important the features of the data frame are for the prediction with Random Forests\n",
    "\n",
    "RFR = RandomForestRegressor(max_depth=23)\n",
    "RFR.fit(X,y)\n",
    "features = sorted(zip(map(lambda x: round(x, 4), RFR.feature_importances_), X.columns), reverse=True)\n",
    "ys, labels = zip(*features)\n",
    "xs = np.arange(len(labels)) \n",
    "width = 1\n",
    "plt.bar(xs, ys, width, align='center')\n",
    "plt.xticks(xs, labels, rotation='vertical')\n",
    "plt.show()\n",
    "features[:]"
   ]
  },
  {
   "cell_type": "markdown",
   "metadata": {},
   "source": [
    "### Model 3: Ridge Regression"
   ]
  },
  {
   "cell_type": "code",
   "execution_count": 57,
   "metadata": {},
   "outputs": [
    {
     "data": {
      "text/html": [
       "<div>\n",
       "<style scoped>\n",
       "    .dataframe tbody tr th:only-of-type {\n",
       "        vertical-align: middle;\n",
       "    }\n",
       "\n",
       "    .dataframe tbody tr th {\n",
       "        vertical-align: top;\n",
       "    }\n",
       "\n",
       "    .dataframe thead th {\n",
       "        text-align: right;\n",
       "    }\n",
       "</style>\n",
       "<table border=\"1\" class=\"dataframe\">\n",
       "  <thead>\n",
       "    <tr style=\"text-align: right;\">\n",
       "      <th></th>\n",
       "      <th>expl_var</th>\n",
       "      <th>mean_abs_err</th>\n",
       "      <th>mean_sqrd_err</th>\n",
       "      <th>median_abs_err</th>\n",
       "      <th>r2</th>\n",
       "    </tr>\n",
       "  </thead>\n",
       "  <tbody>\n",
       "    <tr>\n",
       "      <th>1</th>\n",
       "      <td>0.0271</td>\n",
       "      <td>364.85</td>\n",
       "      <td>475649.7</td>\n",
       "      <td>116.374</td>\n",
       "      <td>0.0269</td>\n",
       "    </tr>\n",
       "    <tr>\n",
       "      <th>10</th>\n",
       "      <td>0.0271</td>\n",
       "      <td>364.85</td>\n",
       "      <td>475649.6</td>\n",
       "      <td>116.372</td>\n",
       "      <td>0.0269</td>\n",
       "    </tr>\n",
       "    <tr>\n",
       "      <th>100</th>\n",
       "      <td>0.0271</td>\n",
       "      <td>364.84</td>\n",
       "      <td>475648.9</td>\n",
       "      <td>116.349</td>\n",
       "      <td>0.0269</td>\n",
       "    </tr>\n",
       "    <tr>\n",
       "      <th>1000</th>\n",
       "      <td>0.0271</td>\n",
       "      <td>364.73</td>\n",
       "      <td>475643.4</td>\n",
       "      <td>115.988</td>\n",
       "      <td>0.0269</td>\n",
       "    </tr>\n",
       "    <tr>\n",
       "      <th>10000</th>\n",
       "      <td>0.0272</td>\n",
       "      <td>363.92</td>\n",
       "      <td>475630.1</td>\n",
       "      <td>114.199</td>\n",
       "      <td>0.0269</td>\n",
       "    </tr>\n",
       "    <tr>\n",
       "      <th>100000</th>\n",
       "      <td>0.0265</td>\n",
       "      <td>361.41</td>\n",
       "      <td>475951.4</td>\n",
       "      <td>105.596</td>\n",
       "      <td>0.0262</td>\n",
       "    </tr>\n",
       "    <tr>\n",
       "      <th>1000000</th>\n",
       "      <td>0.0251</td>\n",
       "      <td>360.06</td>\n",
       "      <td>476648.9</td>\n",
       "      <td>101.247</td>\n",
       "      <td>0.0248</td>\n",
       "    </tr>\n",
       "    <tr>\n",
       "      <th>10000000</th>\n",
       "      <td>0.0243</td>\n",
       "      <td>358.89</td>\n",
       "      <td>477005.8</td>\n",
       "      <td>97.854</td>\n",
       "      <td>0.0241</td>\n",
       "    </tr>\n",
       "    <tr>\n",
       "      <th>100000000</th>\n",
       "      <td>0.0235</td>\n",
       "      <td>357.37</td>\n",
       "      <td>477425.4</td>\n",
       "      <td>93.920</td>\n",
       "      <td>0.0232</td>\n",
       "    </tr>\n",
       "  </tbody>\n",
       "</table>\n",
       "</div>"
      ],
      "text/plain": [
       "           expl_var  mean_abs_err  mean_sqrd_err  median_abs_err      r2\n",
       "1            0.0271        364.85       475649.7         116.374  0.0269\n",
       "10           0.0271        364.85       475649.6         116.372  0.0269\n",
       "100          0.0271        364.84       475648.9         116.349  0.0269\n",
       "1000         0.0271        364.73       475643.4         115.988  0.0269\n",
       "10000        0.0272        363.92       475630.1         114.199  0.0269\n",
       "100000       0.0265        361.41       475951.4         105.596  0.0262\n",
       "1000000      0.0251        360.06       476648.9         101.247  0.0248\n",
       "10000000     0.0243        358.89       477005.8          97.854  0.0241\n",
       "100000000    0.0235        357.37       477425.4          93.920  0.0232"
      ]
     },
     "execution_count": 57,
     "metadata": {},
     "output_type": "execute_result"
    }
   ],
   "source": [
    "scores_list = []\n",
    "param_range = (1, 10, 100, 1000, 10000, 100000, 1000000, 10000000, 100000000)\n",
    "\n",
    "for alpha in param_range:\n",
    "    RR = Ridge(alpha=alpha)\n",
    "    scores_list.append(cross_validate(RR, X_train, y_train, cv=5, scoring=scoring, return_train_score=False, n_jobs=-1))\n",
    "print_scores(scores_list, param_range)"
   ]
  },
  {
   "cell_type": "code",
   "execution_count": 58,
   "metadata": {},
   "outputs": [
    {
     "data": {
      "text/plain": [
       "0.03710203632457243"
      ]
     },
     "execution_count": 58,
     "metadata": {},
     "output_type": "execute_result"
    }
   ],
   "source": [
    "# Final Evaluation\n",
    "\n",
    "RR = Ridge(alpha=1)\n",
    "RR.fit(X_train, y_train)\n",
    "y_pred = RR.predict(X_test)\n",
    "r2_score(y_test, y_pred)"
   ]
  },
  {
   "cell_type": "markdown",
   "metadata": {},
   "source": [
    "### Model 4: AdaBoost"
   ]
  },
  {
   "cell_type": "code",
   "execution_count": 59,
   "metadata": {},
   "outputs": [
    {
     "data": {
      "text/html": [
       "<div>\n",
       "<style scoped>\n",
       "    .dataframe tbody tr th:only-of-type {\n",
       "        vertical-align: middle;\n",
       "    }\n",
       "\n",
       "    .dataframe tbody tr th {\n",
       "        vertical-align: top;\n",
       "    }\n",
       "\n",
       "    .dataframe thead th {\n",
       "        text-align: right;\n",
       "    }\n",
       "</style>\n",
       "<table border=\"1\" class=\"dataframe\">\n",
       "  <thead>\n",
       "    <tr style=\"text-align: right;\">\n",
       "      <th></th>\n",
       "      <th>expl_var</th>\n",
       "      <th>mean_abs_err</th>\n",
       "      <th>mean_sqrd_err</th>\n",
       "      <th>median_abs_err</th>\n",
       "      <th>r2</th>\n",
       "    </tr>\n",
       "  </thead>\n",
       "  <tbody>\n",
       "    <tr>\n",
       "      <th>100</th>\n",
       "      <td>0.2314</td>\n",
       "      <td>342.93</td>\n",
       "      <td>375846.6</td>\n",
       "      <td>124.067</td>\n",
       "      <td>0.2306</td>\n",
       "    </tr>\n",
       "  </tbody>\n",
       "</table>\n",
       "</div>"
      ],
      "text/plain": [
       "     expl_var  mean_abs_err  mean_sqrd_err  median_abs_err      r2\n",
       "100    0.2314        342.93       375846.6         124.067  0.2306"
      ]
     },
     "execution_count": 59,
     "metadata": {},
     "output_type": "execute_result"
    }
   ],
   "source": [
    "# Boosting: combining several weak learners to form a strong learner.\n",
    "# Weak learner: Model doing slightly better than random guessing (e.g. a decision tree with low depth)\n",
    "# Incorrectly predicted data points get more weight in the next step\n",
    "# Regression: Weighted average (AdaBoostRegressor)\n",
    "\n",
    "scores_list = []\n",
    "param_range = [100]\n",
    "\n",
    "ABR = AdaBoostRegressor(base_estimator=RandomForestRegressor(max_depth=5), n_estimators=50) # Default is with DecisionTreeRegressor(max_depth=3)\n",
    "scores_list.append(cross_validate(ABR, X_train, y_train, cv=5, scoring=scoring, return_train_score=False, n_jobs=-1))\n",
    "print_scores(scores_list, param_range)"
   ]
  },
  {
   "cell_type": "code",
   "execution_count": 60,
   "metadata": {},
   "outputs": [
    {
     "data": {
      "text/plain": [
       "0.23235803838732116"
      ]
     },
     "execution_count": 60,
     "metadata": {},
     "output_type": "execute_result"
    }
   ],
   "source": [
    "# Final Evaluation\n",
    "\n",
    "ABR = AdaBoostRegressor(base_estimator=RandomForestRegressor(max_depth=5), n_estimators=50)\n",
    "ABR.fit(X_train, y_train)\n",
    "y_pred = ABR.predict(X_test)\n",
    "r2_score(y_test, y_pred)"
   ]
  },
  {
   "cell_type": "markdown",
   "metadata": {},
   "source": [
    "### Model 5: Gradient Boosting"
   ]
  },
  {
   "cell_type": "code",
   "execution_count": 70,
   "metadata": {},
   "outputs": [
    {
     "data": {
      "text/html": [
       "<div>\n",
       "<style scoped>\n",
       "    .dataframe tbody tr th:only-of-type {\n",
       "        vertical-align: middle;\n",
       "    }\n",
       "\n",
       "    .dataframe tbody tr th {\n",
       "        vertical-align: top;\n",
       "    }\n",
       "\n",
       "    .dataframe thead th {\n",
       "        text-align: right;\n",
       "    }\n",
       "</style>\n",
       "<table border=\"1\" class=\"dataframe\">\n",
       "  <thead>\n",
       "    <tr style=\"text-align: right;\">\n",
       "      <th></th>\n",
       "      <th>expl_var</th>\n",
       "      <th>mean_abs_err</th>\n",
       "      <th>mean_sqrd_err</th>\n",
       "      <th>median_abs_err</th>\n",
       "      <th>r2</th>\n",
       "    </tr>\n",
       "  </thead>\n",
       "  <tbody>\n",
       "    <tr>\n",
       "      <th>6</th>\n",
       "      <td>0.4999</td>\n",
       "      <td>224.56</td>\n",
       "      <td>245518.3</td>\n",
       "      <td>11.581</td>\n",
       "      <td>0.4993</td>\n",
       "    </tr>\n",
       "  </tbody>\n",
       "</table>\n",
       "</div>"
      ],
      "text/plain": [
       "   expl_var  mean_abs_err  mean_sqrd_err  median_abs_err      r2\n",
       "6    0.4999        224.56       245518.3          11.581  0.4993"
      ]
     },
     "execution_count": 70,
     "metadata": {},
     "output_type": "execute_result"
    }
   ],
   "source": [
    "scores_list = []\n",
    "param_range = [6]\n",
    "\n",
    "GBR = GradientBoostingRegressor(max_depth=20) # Parameter max_features=\"sqrt\" reduces variance, but also reduces CV score\n",
    "scores_list.append(cross_validate(GBR, X_train, y_train, cv=5, scoring=scoring, return_train_score=False, n_jobs=-1))\n",
    "print_scores(scores_list, param_range)"
   ]
  },
  {
   "cell_type": "code",
   "execution_count": 71,
   "metadata": {},
   "outputs": [
    {
     "data": {
      "text/plain": [
       "0.5330441889061543"
      ]
     },
     "execution_count": 71,
     "metadata": {},
     "output_type": "execute_result"
    }
   ],
   "source": [
    "# Final Evaluation\n",
    "\n",
    "GBR = GradientBoostingRegressor(max_depth=20)\n",
    "GBR.fit(X_train, y_train)\n",
    "y_pred = GBR.predict(X_test)\n",
    "r2_score(y_test, y_pred)"
   ]
  },
  {
   "cell_type": "markdown",
   "metadata": {},
   "source": [
    "### Model 6: Stochastic Gradient Boosting"
   ]
  },
  {
   "cell_type": "code",
   "execution_count": 63,
   "metadata": {},
   "outputs": [
    {
     "data": {
      "text/html": [
       "<div>\n",
       "<style scoped>\n",
       "    .dataframe tbody tr th:only-of-type {\n",
       "        vertical-align: middle;\n",
       "    }\n",
       "\n",
       "    .dataframe tbody tr th {\n",
       "        vertical-align: top;\n",
       "    }\n",
       "\n",
       "    .dataframe thead th {\n",
       "        text-align: right;\n",
       "    }\n",
       "</style>\n",
       "<table border=\"1\" class=\"dataframe\">\n",
       "  <thead>\n",
       "    <tr style=\"text-align: right;\">\n",
       "      <th></th>\n",
       "      <th>expl_var</th>\n",
       "      <th>mean_abs_err</th>\n",
       "      <th>mean_sqrd_err</th>\n",
       "      <th>median_abs_err</th>\n",
       "      <th>r2</th>\n",
       "    </tr>\n",
       "  </thead>\n",
       "  <tbody>\n",
       "    <tr>\n",
       "      <th>0.70</th>\n",
       "      <td>0.4595</td>\n",
       "      <td>259.86</td>\n",
       "      <td>264157.6</td>\n",
       "      <td>32.545</td>\n",
       "      <td>0.4591</td>\n",
       "    </tr>\n",
       "    <tr>\n",
       "      <th>0.75</th>\n",
       "      <td>0.4620</td>\n",
       "      <td>260.05</td>\n",
       "      <td>263009.9</td>\n",
       "      <td>32.834</td>\n",
       "      <td>0.4617</td>\n",
       "    </tr>\n",
       "    <tr>\n",
       "      <th>0.80</th>\n",
       "      <td>0.4569</td>\n",
       "      <td>259.92</td>\n",
       "      <td>265289.6</td>\n",
       "      <td>33.781</td>\n",
       "      <td>0.4566</td>\n",
       "    </tr>\n",
       "    <tr>\n",
       "      <th>0.85</th>\n",
       "      <td>0.4754</td>\n",
       "      <td>256.77</td>\n",
       "      <td>256255.6</td>\n",
       "      <td>34.977</td>\n",
       "      <td>0.4751</td>\n",
       "    </tr>\n",
       "    <tr>\n",
       "      <th>0.90</th>\n",
       "      <td>0.4747</td>\n",
       "      <td>256.67</td>\n",
       "      <td>256788.4</td>\n",
       "      <td>35.264</td>\n",
       "      <td>0.4745</td>\n",
       "    </tr>\n",
       "    <tr>\n",
       "      <th>0.95</th>\n",
       "      <td>0.4680</td>\n",
       "      <td>257.71</td>\n",
       "      <td>260089.6</td>\n",
       "      <td>36.453</td>\n",
       "      <td>0.4677</td>\n",
       "    </tr>\n",
       "  </tbody>\n",
       "</table>\n",
       "</div>"
      ],
      "text/plain": [
       "      expl_var  mean_abs_err  mean_sqrd_err  median_abs_err      r2\n",
       "0.70    0.4595        259.86       264157.6          32.545  0.4591\n",
       "0.75    0.4620        260.05       263009.9          32.834  0.4617\n",
       "0.80    0.4569        259.92       265289.6          33.781  0.4566\n",
       "0.85    0.4754        256.77       256255.6          34.977  0.4751\n",
       "0.90    0.4747        256.67       256788.4          35.264  0.4745\n",
       "0.95    0.4680        257.71       260089.6          36.453  0.4677"
      ]
     },
     "execution_count": 63,
     "metadata": {},
     "output_type": "execute_result"
    }
   ],
   "source": [
    "# Uses same method as gradient boosting, but subsample parameter is changed (default=1.0)\n",
    "# See the doku of subsample parameter:\n",
    "# The fraction of samples to be used for fitting the individual base learners.\n",
    "# If smaller than 1.0 this results in Stochastic Gradient Boosting.\n",
    "# subsample interacts with the parameter n_estimators.\n",
    "# Choosing subsample < 1.0 leads to a reduction of variance and an increase in bias.\n",
    "\n",
    "scores_list = []\n",
    "param_range = [0.7, 0.75, 0.8, 0.85, 0.9, 0.95]\n",
    "\n",
    "for subsample in param_range:\n",
    "    SGBR = GradientBoostingRegressor(max_depth=6, subsample=subsample)\n",
    "    scores_list.append(cross_validate(SGBR, X_train, y_train, cv=5, scoring=scoring, return_train_score=False, n_jobs=-1))\n",
    "print_scores(scores_list, param_range)"
   ]
  },
  {
   "cell_type": "code",
   "execution_count": 64,
   "metadata": {},
   "outputs": [
    {
     "data": {
      "text/plain": [
       "0.5005603747939333"
      ]
     },
     "execution_count": 64,
     "metadata": {},
     "output_type": "execute_result"
    }
   ],
   "source": [
    "# Final Evaluation\n",
    "\n",
    "SGBR = GradientBoostingRegressor(max_depth=6, subsample=0.9)\n",
    "SGBR.fit(X_train, y_train)\n",
    "y_pred = SGBR.predict(X_test)\n",
    "r2_score(y_test, y_pred)"
   ]
  },
  {
   "cell_type": "markdown",
   "metadata": {},
   "source": [
    "### Model 7: Bagging"
   ]
  },
  {
   "cell_type": "code",
   "execution_count": 69,
   "metadata": {},
   "outputs": [
    {
     "data": {
      "text/html": [
       "<div>\n",
       "<style scoped>\n",
       "    .dataframe tbody tr th:only-of-type {\n",
       "        vertical-align: middle;\n",
       "    }\n",
       "\n",
       "    .dataframe tbody tr th {\n",
       "        vertical-align: top;\n",
       "    }\n",
       "\n",
       "    .dataframe thead th {\n",
       "        text-align: right;\n",
       "    }\n",
       "</style>\n",
       "<table border=\"1\" class=\"dataframe\">\n",
       "  <thead>\n",
       "    <tr style=\"text-align: right;\">\n",
       "      <th></th>\n",
       "      <th>expl_var</th>\n",
       "      <th>mean_abs_err</th>\n",
       "      <th>mean_sqrd_err</th>\n",
       "      <th>median_abs_err</th>\n",
       "      <th>r2</th>\n",
       "    </tr>\n",
       "  </thead>\n",
       "  <tbody>\n",
       "    <tr>\n",
       "      <th>6</th>\n",
       "      <td>0.1712</td>\n",
       "      <td>304.54</td>\n",
       "      <td>405341.8</td>\n",
       "      <td>18.865</td>\n",
       "      <td>0.1709</td>\n",
       "    </tr>\n",
       "  </tbody>\n",
       "</table>\n",
       "</div>"
      ],
      "text/plain": [
       "   expl_var  mean_abs_err  mean_sqrd_err  median_abs_err      r2\n",
       "6    0.1712        304.54       405341.8          18.865  0.1709"
      ]
     },
     "execution_count": 69,
     "metadata": {},
     "output_type": "execute_result"
    }
   ],
   "source": [
    "# Short for \"Bootstrap Aggregation\"\n",
    "# Voting Classifier has the same training set, but several algorithms\n",
    "# In contrast, bagging uses the same algorithm, but several subsets of the training set.\n",
    "# N different bootstrap samples are created from the original dataset and a model is trained on each of them.\n",
    "# A bootstrap sample is created by dragging elements from the original dataset (with put back), i.e. a data point can be dragged multiple times\n",
    "# With regression, the average of the predicted values is calculated\n",
    "\n",
    "scores_list = []\n",
    "param_range = [6]\n",
    "\n",
    "BR = BaggingRegressor(RandomForestRegressor(max_depth=10, max_features=16, min_samples_leaf=30, min_samples_split=2))\n",
    "scores_list.append(cross_validate(BR, X_train, y_train, cv=5, scoring=scoring, return_train_score=False, n_jobs=-1))\n",
    "print_scores(scores_list, param_range)"
   ]
  },
  {
   "cell_type": "code",
   "execution_count": 66,
   "metadata": {},
   "outputs": [
    {
     "data": {
      "text/plain": [
       "0.32090987324608966"
      ]
     },
     "execution_count": 66,
     "metadata": {},
     "output_type": "execute_result"
    }
   ],
   "source": [
    "# Final Evaluation\n",
    "\n",
    "BR = BaggingRegressor(RandomForestRegressor(max_depth=10))\n",
    "BR.fit(X_train, y_train)\n",
    "y_pred = BR.predict(X_test)\n",
    "r2_score(y_test, y_pred)"
   ]
  },
  {
   "cell_type": "code",
   "execution_count": 67,
   "metadata": {},
   "outputs": [
    {
     "name": "stderr",
     "output_type": "stream",
     "text": [
      "/Applications/anaconda3/lib/python3.6/site-packages/sklearn/ensemble/bagging.py:987: UserWarning: Some inputs do not have OOB scores. This probably means too few estimators were used to compute any reliable oob estimates.\n",
      "  warn(\"Some inputs do not have OOB scores. \"\n"
     ]
    },
    {
     "data": {
      "text/plain": [
       "0.3454994838737375"
      ]
     },
     "execution_count": 67,
     "metadata": {},
     "output_type": "execute_result"
    }
   ],
   "source": [
    "BR = BaggingRegressor(RandomForestRegressor(max_depth=10), oob_score=True)\n",
    "BR.fit(X,y)\n",
    "BR.oob_score_"
   ]
  },
  {
   "cell_type": "markdown",
   "metadata": {},
   "source": [
    "Since the samples are sampled with putting back, some of the data points can be sampled several times, while others have never been sampled (out of bag). The letter are used to calculate the oob-score, which measures the generalization error (yields the precision of data never seen before)."
   ]
  },
  {
   "cell_type": "markdown",
   "metadata": {},
   "source": [
    "### Experiment on PCA\n",
    "\n",
    "Does not make sense here since neither computing speed needs to be imporved nor visualisation needs to be simplified"
   ]
  },
  {
   "cell_type": "code",
   "execution_count": 68,
   "metadata": {},
   "outputs": [
    {
     "data": {
      "image/png": "[encoded data removed]",
      "text/plain": [
       "<Figure size 432x288 with 1 Axes>"
      ]
     },
     "metadata": {},
     "output_type": "display_data"
    }
   ],
   "source": [
    "scaler = StandardScaler()\n",
    "pca = PCA()\n",
    "pipeline = make_pipeline(scaler, pca)\n",
    "pipeline.fit_transform(X)\n",
    "features = range(pca.n_components_)\n",
    "plt.bar(features, pca.explained_variance_)\n",
    "plt.xlabel('PCA feature')\n",
    "plt.ylabel('variance')\n",
    "plt.xticks(features)\n",
    "plt.show()"
   ]
  },
  {
   "cell_type": "code",
   "execution_count": null,
   "metadata": {},
   "outputs": [],
   "source": []
  }
 ],
 "metadata": {
  "kernelspec": {
   "display_name": "Python 3",
   "language": "python",
   "name": "python3"
  },
  "language_info": {
   "codemirror_mode": {
    "name": "ipython",
    "version": 3
   },
   "file_extension": ".py",
   "mimetype": "text/x-python",
   "name": "python",
   "nbconvert_exporter": "python",
   "pygments_lexer": "ipython3",
   "version": "3.7.0"
  }
 },
 "nbformat": 4,
 "nbformat_minor": 2
}
