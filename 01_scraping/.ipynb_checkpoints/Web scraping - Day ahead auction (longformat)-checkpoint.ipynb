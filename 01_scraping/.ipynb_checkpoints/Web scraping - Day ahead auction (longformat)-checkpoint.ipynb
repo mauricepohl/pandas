{
 "cells": [
  {
   "cell_type": "code",
   "execution_count": null,
   "metadata": {},
   "outputs": [
    {
     "name": "stdout",
     "output_type": "stream",
     "text": [
      "['2016-01-03', '2016-01-10', '2016-01-17', '2016-01-24', '2016-01-31', '2016-02-07', '2016-02-14', '2016-02-21', '2016-02-28', '2016-03-06', '2016-03-13', '2016-03-20', '2016-03-27', '2016-04-03', '2016-04-10', '2016-04-17', '2016-04-24', '2016-05-01', '2016-05-08', '2016-05-15', '2016-05-22', '2016-05-29', '2016-06-05', '2016-06-12', '2016-06-19', '2016-06-26', '2016-07-03', '2016-07-10', '2016-07-17', '2016-07-24', '2016-07-31', '2016-08-07', '2016-08-14', '2016-08-21', '2016-08-28', '2016-09-04', '2016-09-11', '2016-09-18', '2016-09-25', '2016-10-02', '2016-10-09', '2016-10-16', '2016-10-23', '2016-10-30', '2016-11-06', '2016-11-13', '2016-11-20', '2016-11-27', '2016-12-04', '2016-12-11', '2016-12-18', '2016-12-25', '2017-01-01', '2017-01-08', '2017-01-15', '2017-01-22', '2017-01-29', '2017-02-05', '2017-02-12', '2017-02-19', '2017-02-26', '2017-03-05', '2017-03-12', '2017-03-19', '2017-03-26', '2017-04-02', '2017-04-09', '2017-04-16', '2017-04-23', '2017-04-30', '2017-05-07', '2017-05-14', '2017-05-21', '2017-05-28', '2017-06-04', '2017-06-11', '2017-06-18', '2017-06-25', '2017-07-02', '2017-07-09', '2017-07-16', '2017-07-23', '2017-07-30', '2017-08-06', '2017-08-13', '2017-08-20', '2017-08-27', '2017-09-03', '2017-09-10', '2017-09-17', '2017-09-24', '2017-10-01', '2017-10-08', '2017-10-15', '2017-10-22', '2017-10-29', '2017-11-05', '2017-11-12', '2017-11-19', '2017-11-26', '2017-12-03', '2017-12-10', '2017-12-17', '2017-12-24', '2017-12-31']\n",
      "https://www.epexspot.com/de/marktdaten/dayaheadauktion/auction-table/2016-01-03/DE\n",
      "https://www.epexspot.com/de/marktdaten/dayaheadauktion/auction-table/2016-01-10/DE\n",
      "https://www.epexspot.com/de/marktdaten/dayaheadauktion/auction-table/2016-01-17/DE\n",
      "https://www.epexspot.com/de/marktdaten/dayaheadauktion/auction-table/2016-01-24/DE\n",
      "https://www.epexspot.com/de/marktdaten/dayaheadauktion/auction-table/2016-01-31/DE\n",
      "https://www.epexspot.com/de/marktdaten/dayaheadauktion/auction-table/2016-02-07/DE\n",
      "https://www.epexspot.com/de/marktdaten/dayaheadauktion/auction-table/2016-02-14/DE\n",
      "https://www.epexspot.com/de/marktdaten/dayaheadauktion/auction-table/2016-02-21/DE\n",
      "https://www.epexspot.com/de/marktdaten/dayaheadauktion/auction-table/2016-02-28/DE\n"
     ]
    }
   ],
   "source": [
    "from robobrowser import RoboBrowser\n",
    "from bs4 import BeautifulSoup as bs\n",
    "import pandas as pd\n",
    "import numpy as np\n",
    "\n",
    "def get_number(s):\n",
    "    try:\n",
    "        return float(s.replace(\",\",\".\"))\n",
    "    except ValueError:\n",
    "        return None\n",
    "\n",
    "#Open URL and create RoboBrowser Instance\n",
    "browser = RoboBrowser(parser='html.parser', history=False)\n",
    "dates = pd.date_range('2016-01-01', periods=105, freq='W').format('YYYY-MM-dd')[1:] # weekly dates (always sunday)\n",
    "print(dates)\n",
    "results = pd.DataFrame()\n",
    "\n",
    "for d in dates:\n",
    "    \n",
    "    url='https://www.epexspot.com/de/marktdaten/dayaheadauktion/auction-table/' + d + '/DE'\n",
    "    print(url)\n",
    "    browser.open(url)  \n",
    "    soup = bs(str(browser.parsed), 'html.parser') # get html\n",
    "    germanData = soup.find(id=\"tab_de\")\n",
    "    weekData = germanData.find(\"table\", class_=\"hours\") # select german hourly table (last on tob DE/AT)\n",
    "    #print(soup.prettify())\n",
    "    dates = pd.date_range(pd.to_datetime(d) - pd.to_timedelta(6, 'D'), periods=7, freq=\"D\") # create dates for week\n",
    "    hours = [\"'00 - 01\", \"'01 - 02\", \"'02 - 03\", \"'03 - 04\", \"'04 - 05\", \"'05 - 06\", \n",
    "             \"'06 - 07\", \"'07 - 08\", \"'08 - 09\", \"'09 - 10\", \"'10 - 11\", \"'11 - 12\", \n",
    "             \"'12 - 13\", \"'13 - 14\", \"'14 - 15\", \"'15 - 16\", \"'16 - 17\", \"'17 - 18\", \n",
    "             \"'18 - 19\", \"'19 - 20\", \"'20 - 21\", \"'21 - 22\", \"'22 - 23\", \"'23 - 24\"] # table column names; \"'\" at beginning for opening in excel\n",
    "    priceRows = weekData.findAll(\"tr\", class_=\"no-border\") # get rows with €/Mwh\n",
    "    if d == \"2017-10-29\": # two rows for 2-3 period for this week, only keep first\n",
    "        del priceRows[3]\n",
    "    prices = np.zeros((24, 7))\n",
    "    for i in range(24):\n",
    "        prices[i] = [get_number(p.get_text()) for p in priceRows[i].findAll(\"td\")[2:]]\n",
    "    prices = prices.transpose()\n",
    "    df = pd.DataFrame(prices)\n",
    "    #print(df)\n",
    "    df.columns = hours\n",
    "    df[\"date\"] = dates\n",
    "    df = df.set_index(\"date\", drop=False)\n",
    "    # cut off last dates of 2015\n",
    "    if d == \"2016-01-03\":\n",
    "        df = df[4:]\n",
    "    #print(df)\n",
    "    df2 = pd.melt(df, id_vars=\"date\", var_name=\"hour\", value_name=\"dayAheadPrice\")\n",
    "    #print(df2)\n",
    "    if results.empty:\n",
    "        results = df2\n",
    "    else:\n",
    "        results = results.append(df2)\n",
    "print(results)\n",
    "results = results.set_index([\"date\", \"hour\"])\n",
    "results.to_csv(\"day_ahead_auction_longformat.csv\", sep=\";\", decimal=\",\")\n"
   ]
  },
  {
   "cell_type": "code",
   "execution_count": null,
   "metadata": {},
   "outputs": [],
   "source": []
  },
  {
   "cell_type": "code",
   "execution_count": null,
   "metadata": {},
   "outputs": [],
   "source": []
  },
  {
   "cell_type": "code",
   "execution_count": null,
   "metadata": {},
   "outputs": [],
   "source": []
  },
  {
   "cell_type": "code",
   "execution_count": null,
   "metadata": {},
   "outputs": [],
   "source": []
  }
 ],
 "metadata": {
  "kernelspec": {
   "display_name": "Python 3",
   "language": "python",
   "name": "python3"
  },
  "language_info": {
   "codemirror_mode": {
    "name": "ipython",
    "version": 3
   },
   "file_extension": ".py",
   "mimetype": "text/x-python",
   "name": "python",
   "nbconvert_exporter": "python",
   "pygments_lexer": "ipython3",
   "version": "3.7.0"
  }
 },
 "nbformat": 4,
 "nbformat_minor": 2
}
