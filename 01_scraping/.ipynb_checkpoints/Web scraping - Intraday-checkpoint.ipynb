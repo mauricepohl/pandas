{
 "cells": [
  {
   "cell_type": "code",
   "execution_count": null,
   "metadata": {},
   "outputs": [
    {
     "name": "stdout",
     "output_type": "stream",
     "text": [
      "['2016-10-30', '2016-11-01', '2016-11-03']\n",
      "https://www.epexspot.com/en/market-data/intradaycontinuous/intraday-table/2016-10-30/DE\n",
      "https://www.epexspot.com/en/market-data/intradaycontinuous/intraday-table/2016-11-01/DE\n",
      "https://www.epexspot.com/en/market-data/intradaycontinuous/intraday-table/2016-11-03/DE\n"
     ]
    }
   ],
   "source": [
    "from robobrowser import RoboBrowser\n",
    "from bs4 import BeautifulSoup as bs\n",
    "import pandas as pd\n",
    "import numpy as np\n",
    "\n",
    "def get_number(s):\n",
    "    try:\n",
    "        return float(s.replace(\",\",\"\"))\n",
    "    except ValueError:\n",
    "        return None\n",
    "\n",
    "#Open URL and create RoboBrowser Instance\n",
    "browser = RoboBrowser(parser='html.parser', history=False) \n",
    "#2016-01-02, 366 periods\n",
    "dates = pd.date_range('2016-10-30', periods=3, freq='2D').format('YYYY-MM-dd')[1:] # url parameter is last date shown on website, website shows two dates for one request\n",
    "print(dates)\n",
    "results = pd.DataFrame()\n",
    "\n",
    "for d in dates:\n",
    "    url='https://www.epexspot.com/en/market-data/intradaycontinuous/intraday-table/' + d + '/DE'\n",
    "    print(url)\n",
    "    browser.open(url)  \n",
    "    soup = bs(str(browser.parsed), 'html.parser') # get html\n",
    "    dayData = soup.find(\"table\") # select table\n",
    "    #print(soup.prettify())\n",
    "    myDates = pd.date_range(pd.to_datetime(d) - pd.to_timedelta(1, 'D'), periods=2, freq=\"D\") # create two shown dates\n",
    "    tableHeader = dayData.find(\"tr\", class_=None) # get table header row\n",
    "    columnNames = [p.get_text() for p in tableHeader.findAll(\"th\")][2:11]\n",
    "    priceRows = dayData.findAll(\"tr\", class_=None)[1:] # get rows with €/Mwh with hourly interval\n",
    "    hours = [\"'00 - 01\", \"'01 - 02\", \"'02 - 03\", \"'03 - 04\", \"'04 - 05\", \"'05 - 06\", \n",
    "             \"'06 - 07\", \"'07 - 08\", \"'08 - 09\", \"'09 - 10\", \"'10 - 11\", \"'11 - 12\", \n",
    "             \"'12 - 13\", \"'13 - 14\", \"'14 - 15\", \"'15 - 16\", \"'16 - 17\", \"'17 - 18\", \n",
    "             \"'18 - 19\", \"'19 - 20\", \"'20 - 21\", \"'21 - 22\", \"'22 - 23\", \"'23 - 24\"] # table column names; \"'\" at beginning for opening in excel\n",
    "\n",
    "    if d == \"2017-10-30\": # two rows for 2-3 period for this week, only keep first\n",
    "        del priceRows[4]\n",
    "    # get prices for both days on website\n",
    "    prices = np.zeros((2, 24, 9))\n",
    "    for i in range(24):\n",
    "        prices[0][i] = [get_number(p.get_text()) for p in priceRows[i].findAll(\"td\")][3:12]\n",
    "        prices[1][i] = [get_number(p.get_text()) for p in priceRows[i].findAll(\"td\")][13:]\n",
    "    #print(prices)\n",
    "    for i in range(2):\n",
    "        df = pd.DataFrame(prices[i])\n",
    "        df.columns = columnNames\n",
    "        df[\"hours\"] = hours\n",
    "        df = df.set_index(\"hours\", drop=False)\n",
    "        df[\"date\"] = myDates[i]\n",
    "        if results.empty:\n",
    "            results = df\n",
    "        else:\n",
    "            results = results.append(df)\n",
    "        #print(df)\n",
    "results = results.set_index([\"date\", \"hours\"])\n",
    "results = results[:-24] #cut off 1.1.2018\n",
    "print(results)\n",
    "#results.to_csv(\"intraday.csv\", sep=\";\", decimal=\",\")\n"
   ]
  },
  {
   "cell_type": "code",
   "execution_count": null,
   "metadata": {},
   "outputs": [],
   "source": []
  },
  {
   "cell_type": "code",
   "execution_count": null,
   "metadata": {},
   "outputs": [],
   "source": []
  },
  {
   "cell_type": "code",
   "execution_count": null,
   "metadata": {},
   "outputs": [],
   "source": []
  },
  {
   "cell_type": "code",
   "execution_count": null,
   "metadata": {},
   "outputs": [],
   "source": []
  },
  {
   "cell_type": "code",
   "execution_count": null,
   "metadata": {},
   "outputs": [],
   "source": []
  },
  {
   "cell_type": "code",
   "execution_count": null,
   "metadata": {},
   "outputs": [],
   "source": []
  }
 ],
 "metadata": {
  "kernelspec": {
   "display_name": "Python 3",
   "language": "python",
   "name": "python3"
  },
  "language_info": {
   "codemirror_mode": {
    "name": "ipython",
    "version": 3
   },
   "file_extension": ".py",
   "mimetype": "text/x-python",
   "name": "python",
   "nbconvert_exporter": "python",
   "pygments_lexer": "ipython3",
   "version": "3.7.0"
  }
 },
 "nbformat": 4,
 "nbformat_minor": 2
}
