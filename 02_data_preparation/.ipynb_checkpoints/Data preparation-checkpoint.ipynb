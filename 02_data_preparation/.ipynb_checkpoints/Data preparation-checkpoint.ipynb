{
 "cells": [
  {
   "cell_type": "code",
   "execution_count": 3,
   "metadata": {},
   "outputs": [
    {
     "name": "stdout",
     "output_type": "stream",
     "text": [
      "done\n"
     ]
    }
   ],
   "source": [
    "import pandas as pd\n",
    "import matplotlib.pyplot as plt\n",
    "from datetime import datetime\n",
    "\n",
    "intraday = pd.read_csv(\"../00_data/[backup] intraday.csv\", sep=\";\", index_col=[\"date\", \"hours\"], decimal=\",\")\n",
    "day_ahead = pd.read_csv(\"../00_data/[backup] day_ahead_auction_longformat.csv\", sep=\";\", decimal=\",\")\n",
    "forecasts = pd.read_csv(\"../00_data/time_series_60min_singleindex_filtered.csv\", sep=\",\", decimal=\".\")\n",
    "\n",
    "#print(intraday.head(5))\n",
    "#print(day_ahead.head(5))\n",
    "#print(forecasts.head(2))\n",
    "\n",
    "forecasts[\"time\"] = forecasts[\"cet_cest_timestamp\"].str[:-5] #cut +... part\n",
    "forecasts[\"timestamp\"] = forecasts[\"time\"].map(lambda x: datetime.strptime(x,'%Y-%m-%dT%H:%M:%S'))\n",
    "\n",
    "intraday = intraday.iloc[:, 3:4] # use only weight. avg column for intraday\n",
    "merged_data = intraday.merge(day_ahead, left_on=[\"date\", \"hours\"], right_on=[\"date\", \"hour\"])\n",
    "merged_data = merged_data[[\"date\", \"hour\", \"dayAheadPrice\", \"Weight. Avg.(€/MWh)\"]]\n",
    "merged_data.columns = [\"date\", \"hour\", \"day_ahead_price\", \"intraday_price\"]\n",
    "merged_data[\"price_diff\"] = merged_data[\"day_ahead_price\"]-merged_data[\"intraday_price\"]\n",
    "merged_data[\"hour\"] = merged_data[\"hour\"].str[1:3]\n",
    "merged_data[\"time\"] = merged_data[['date', 'hour']].apply(lambda x: ' '.join(x), axis=1)\n",
    "merged_data[\"datetime\"] = merged_data[\"time\"].map(lambda x: datetime.strptime(x, '%Y-%m-%d %H'))\n",
    "\n",
    "merged_data = merged_data.merge(forecasts, left_on=[\"datetime\"], right_on=[\"timestamp\"])\n",
    "merged_data = merged_data[['date','hour', 'datetime', 'day_ahead_price','intraday_price','price_diff','DE_solar_capacity','DE_solar_generation_actual','DE_wind_capacity','DE_wind_generation_actual','DE_wind_offshore_capacity','DE_wind_offshore_generation_actual','DE_wind_onshore_capacity','DE_wind_onshore_generation_actual', 'DE_tennet_wind_generation_forecast', 'DE_tennet_solar_generation_forecast', 'DE_amprion_wind_generation_forecast', 'DE_amprion_solar_generation_forecast', 'DE_50hertz_wind_generation_forecast', 'DE_50hertz_solar_generation_forecast', 'DE_transnetbw_solar_generation_forecast', 'DE_transnetbw_wind_generation_forecast']]\n",
    "merged_data[\"solar_generation_forecast\"] = merged_data[\"DE_transnetbw_solar_generation_forecast\"]+merged_data[\"DE_amprion_solar_generation_forecast\"]+merged_data[\"DE_50hertz_solar_generation_forecast\"]+merged_data[\"DE_tennet_solar_generation_forecast\"]\n",
    "merged_data[\"wind_generation_forecast\"] = merged_data[\"DE_transnetbw_wind_generation_forecast\"]+merged_data[\"DE_amprion_wind_generation_forecast\"]+merged_data[\"DE_50hertz_wind_generation_forecast\"]+merged_data[\"DE_tennet_wind_generation_forecast\"]\n",
    "merged_data = merged_data[['date','hour', 'datetime', 'day_ahead_price','intraday_price','price_diff','DE_solar_capacity','DE_solar_generation_actual','DE_wind_capacity','DE_wind_generation_actual', 'solar_generation_forecast', 'wind_generation_forecast']]\n",
    "merged_data.columns = ['date','hour', 'datetime', 'day_ahead_price','intraday_price','price_diff','solar_capacity','solar_generation_actual','wind_capacity','wind_generation_actual', 'solar_generation_forecast', 'wind_generation_forecast']\n",
    "merged_data[\"total_generation_forecast\"] = merged_data[\"wind_generation_forecast\"] + merged_data[\"solar_generation_forecast\"]\n",
    "merged_data[\"total_generation_actual\"] = merged_data[\"solar_generation_actual\"]+merged_data[\"wind_generation_actual\"]\n",
    "merged_data[\"forecast_error\"] = merged_data[\"total_generation_forecast\"] - merged_data[\"total_generation_actual\"]\n",
    "merged_data[\"forecast_error_percent\"] = merged_data[\"forecast_error\"]/merged_data[\"total_generation_forecast\"]\n",
    "merged_data[\"pricediff_percent\"] = merged_data[\"price_diff\"]/merged_data[\"day_ahead_price\"]\n",
    "#print(merged_data[merged_data.isnull().any(axis=1)])\n",
    "merged_data.to_csv(\"../00_data/merged_all_with_datetime_by_algo.csv\", sep=\";\", decimal=\",\", index=False)\n",
    "print(\"done\")"
   ]
  },
  {
   "cell_type": "code",
   "execution_count": null,
   "metadata": {},
   "outputs": [],
   "source": []
  },
  {
   "cell_type": "code",
   "execution_count": null,
   "metadata": {},
   "outputs": [],
   "source": []
  }
 ],
 "metadata": {
  "kernelspec": {
   "display_name": "Python 3",
   "language": "python",
   "name": "python3"
  },
  "language_info": {
   "codemirror_mode": {
    "name": "ipython",
    "version": 3
   },
   "file_extension": ".py",
   "mimetype": "text/x-python",
   "name": "python",
   "nbconvert_exporter": "python",
   "pygments_lexer": "ipython3",
   "version": "3.7.0"
  }
 },
 "nbformat": 4,
 "nbformat_minor": 2
}
