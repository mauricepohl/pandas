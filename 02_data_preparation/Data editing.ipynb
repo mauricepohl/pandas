{
 "cells": [
  {
   "cell_type": "code",
   "execution_count": 89,
   "metadata": {},
   "outputs": [
    {
     "name": "stdout",
     "output_type": "stream",
     "text": [
      "done\n"
     ]
    }
   ],
   "source": [
    "import pandas as pd\n",
    "\n",
    "fullData = pd.read_csv(\"../00_data/merged_all.csv\", sep=\";\", decimal=\",\")\n",
    "fullData.loc[fullData.hour == \"'00 - 01\", \"hour\"] = \"00:00:00\"\n",
    "fullData.loc[fullData.hour == \"'01 - 02\", \"hour\"] = \"01:00:00\"\n",
    "fullData.loc[fullData.hour == \"'02 - 03\", \"hour\"] = \"02:00:00\"\n",
    "fullData.loc[fullData.hour == \"'03 - 04\", \"hour\"] = \"03:00:00\"\n",
    "fullData.loc[fullData.hour == \"'04 - 05\", \"hour\"] = \"04:00:00\"\n",
    "fullData.loc[fullData.hour == \"'05 - 06\", \"hour\"] = \"05:00:00\"\n",
    "fullData.loc[fullData.hour == \"'06 - 07\", \"hour\"] = \"06:00:00\"\n",
    "fullData.loc[fullData.hour == \"'07 - 08\", \"hour\"] = \"07:00:00\"\n",
    "fullData.loc[fullData.hour == \"'08 - 09\", \"hour\"] = \"08:00:00\"\n",
    "fullData.loc[fullData.hour == \"'09 - 10\", \"hour\"] = \"09:00:00\"\n",
    "fullData.loc[fullData.hour == \"'10 - 11\", \"hour\"] = \"10:00:00\"\n",
    "fullData.loc[fullData.hour == \"'11 - 12\", \"hour\"] = \"11:00:00\"\n",
    "fullData.loc[fullData.hour == \"'12 - 13\", \"hour\"] = \"12:00:00\"\n",
    "fullData.loc[fullData.hour == \"'13 - 14\", \"hour\"] = \"13:00:00\"\n",
    "fullData.loc[fullData.hour == \"'14 - 15\", \"hour\"] = \"14:00:00\"\n",
    "fullData.loc[fullData.hour == \"'15 - 16\", \"hour\"] = \"15:00:00\"\n",
    "fullData.loc[fullData.hour == \"'16 - 17\", \"hour\"] = \"16:00:00\"\n",
    "fullData.loc[fullData.hour == \"'17 - 18\", \"hour\"] = \"17:00:00\"\n",
    "fullData.loc[fullData.hour == \"'18 - 19\", \"hour\"] = \"18:00:00\"\n",
    "fullData.loc[fullData.hour == \"'19 - 20\", \"hour\"] = \"19:00:00\"\n",
    "fullData.loc[fullData.hour == \"'20 - 21\", \"hour\"] = \"20:00:00\"\n",
    "fullData.loc[fullData.hour == \"'21 - 22\", \"hour\"] = \"21:00:00\"\n",
    "fullData.loc[fullData.hour == \"'22 - 23\", \"hour\"] = \"22:00:00\"\n",
    "fullData.loc[fullData.hour == \"'23 - 24\", \"hour\"] = \"23:00:00\"\n",
    "\n",
    "fullData[\"dateTime\"] = pd.to_datetime(fullData[\"date\"] + \" \" + fullData[\"hour\"])\n",
    "\n",
    "fullData = fullData.drop(columns=[\"date\", \"hour\"])\n",
    "\n",
    "cols = fullData.columns.tolist()\n",
    "\n",
    "fullData = fullData[[cols[-1], cols[0], cols[1], cols[2], cols[3], cols[4], cols[5], cols[6], cols[7], cols[8], cols[9], cols[10], cols[11], cols[12]]]\n",
    "\n",
    "fullData.to_csv(\"../00_data/alternativ_combinedDateTime_merged_all.csv\", sep=\";\", decimal=\",\", index=False)\n",
    "\n",
    "print(\"done\")"
   ]
  }
 ],
 "metadata": {
  "kernelspec": {
   "display_name": "Python 3",
   "language": "python",
   "name": "python3"
  },
  "language_info": {
   "codemirror_mode": {
    "name": "ipython",
    "version": 3
   },
   "file_extension": ".py",
   "mimetype": "text/x-python",
   "name": "python",
   "nbconvert_exporter": "python",
   "pygments_lexer": "ipython3",
   "version": "3.6.5"
  }
 },
 "nbformat": 4,
 "nbformat_minor": 1
}
