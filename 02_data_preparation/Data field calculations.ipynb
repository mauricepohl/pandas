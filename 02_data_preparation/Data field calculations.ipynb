{
 "cells": [
  {
   "cell_type": "code",
   "execution_count": 2,
   "metadata": {},
   "outputs": [],
   "source": [
    "import pandas as pd\n",
    "from datetime import datetime\n",
    "import math"
   ]
  },
  {
   "cell_type": "code",
   "execution_count": 3,
   "metadata": {},
   "outputs": [
    {
     "data": {
      "text/html": [
       "<div>\n",
       "<style scoped>\n",
       "    .dataframe tbody tr th:only-of-type {\n",
       "        vertical-align: middle;\n",
       "    }\n",
       "\n",
       "    .dataframe tbody tr th {\n",
       "        vertical-align: top;\n",
       "    }\n",
       "\n",
       "    .dataframe thead th {\n",
       "        text-align: right;\n",
       "    }\n",
       "</style>\n",
       "<table border=\"1\" class=\"dataframe\">\n",
       "  <thead>\n",
       "    <tr style=\"text-align: right;\">\n",
       "      <th></th>\n",
       "      <th>date</th>\n",
       "      <th>hour</th>\n",
       "      <th>datetime</th>\n",
       "      <th>day_ahead_price</th>\n",
       "      <th>intraday_price</th>\n",
       "      <th>price_diff</th>\n",
       "      <th>solar_capacity</th>\n",
       "      <th>solar_generation_actual</th>\n",
       "      <th>wind_capacity</th>\n",
       "      <th>wind_generation_actual</th>\n",
       "      <th>wind_generation_forecast</th>\n",
       "      <th>solar_generation_forecast</th>\n",
       "    </tr>\n",
       "  </thead>\n",
       "  <tbody>\n",
       "    <tr>\n",
       "      <th>0</th>\n",
       "      <td>2016-01-01</td>\n",
       "      <td>0</td>\n",
       "      <td>2016-01-01 00:00:00</td>\n",
       "      <td>23.86</td>\n",
       "      <td>29.34</td>\n",
       "      <td>-5.48</td>\n",
       "      <td>39021</td>\n",
       "      <td>0</td>\n",
       "      <td>44325</td>\n",
       "      <td>8648</td>\n",
       "      <td>6033</td>\n",
       "      <td>0</td>\n",
       "    </tr>\n",
       "    <tr>\n",
       "      <th>1</th>\n",
       "      <td>2016-01-01</td>\n",
       "      <td>1</td>\n",
       "      <td>2016-01-01 01:00:00</td>\n",
       "      <td>22.39</td>\n",
       "      <td>24.28</td>\n",
       "      <td>-1.89</td>\n",
       "      <td>39021</td>\n",
       "      <td>0</td>\n",
       "      <td>44325</td>\n",
       "      <td>8579</td>\n",
       "      <td>7421</td>\n",
       "      <td>0</td>\n",
       "    </tr>\n",
       "    <tr>\n",
       "      <th>2</th>\n",
       "      <td>2016-01-01</td>\n",
       "      <td>2</td>\n",
       "      <td>2016-01-01 02:00:00</td>\n",
       "      <td>20.59</td>\n",
       "      <td>25.26</td>\n",
       "      <td>-4.67</td>\n",
       "      <td>39021</td>\n",
       "      <td>0</td>\n",
       "      <td>44325</td>\n",
       "      <td>8542</td>\n",
       "      <td>7266</td>\n",
       "      <td>0</td>\n",
       "    </tr>\n",
       "  </tbody>\n",
       "</table>\n",
       "</div>"
      ],
      "text/plain": [
       "         date  hour             datetime  day_ahead_price  intraday_price  \\\n",
       "0  2016-01-01     0  2016-01-01 00:00:00            23.86           29.34   \n",
       "1  2016-01-01     1  2016-01-01 01:00:00            22.39           24.28   \n",
       "2  2016-01-01     2  2016-01-01 02:00:00            20.59           25.26   \n",
       "\n",
       "   price_diff  solar_capacity  solar_generation_actual  wind_capacity  \\\n",
       "0       -5.48           39021                        0          44325   \n",
       "1       -1.89           39021                        0          44325   \n",
       "2       -4.67           39021                        0          44325   \n",
       "\n",
       "   wind_generation_actual  wind_generation_forecast  solar_generation_forecast  \n",
       "0                    8648                      6033                          0  \n",
       "1                    8579                      7421                          0  \n",
       "2                    8542                      7266                          0  "
      ]
     },
     "execution_count": 3,
     "metadata": {},
     "output_type": "execute_result"
    }
   ],
   "source": [
    "data = pd.read_csv(\"../00_data/merged_all_by_algo.csv\", sep=\";\", decimal=\",\")\n",
    "data.head(3)"
   ]
  },
  {
   "cell_type": "code",
   "execution_count": 4,
   "metadata": {},
   "outputs": [
    {
     "name": "stdout",
     "output_type": "stream",
     "text": [
      "done\n"
     ]
    }
   ],
   "source": [
    "data[\"total_generation_forecast\"] = data[\"wind_generation_forecast\"] + data[\"solar_generation_forecast\"]\n",
    "data[\"total_generation_actual\"] = data[\"solar_generation_actual\"]+data[\"wind_generation_actual\"]\n",
    "data[\"wind_forecast_error\"] = data[\"wind_generation_forecast\"] - data[\"wind_generation_actual\"]\n",
    "data[\"solar_forecast_error\"] = data[\"solar_generation_forecast\"] - data[\"solar_generation_actual\"]\n",
    "data[\"forecast_error\"] = data[\"total_generation_forecast\"] - data[\"total_generation_actual\"]\n",
    "data[\"forecast_error_percent\"] = data[\"forecast_error\"]/data[\"total_generation_forecast\"]\n",
    "data[\"wind_forecast_error_percent\"] = data[\"wind_forecast_error\"]/data[\"wind_generation_forecast\"]\n",
    "data[\"solar_forecast_error_percent\"] = data[\"solar_forecast_error\"]/data[\"solar_generation_forecast\"]\n",
    "data[\"pricediff_percent\"] = data[\"price_diff\"]/data[\"day_ahead_price\"]\n",
    "#season and weekday calculation\n",
    "seasons = range(4)\n",
    "data[\"season\"] = data[\"date\"].map(lambda x: seasons[math.ceil(datetime.strptime(x, '%Y-%m-%d').month/3)-1])\n",
    "data[\"weekday\"] = data[\"date\"].map(lambda x: datetime.strptime(x, '%Y-%m-%d').weekday())\n",
    "#print(data.head(5))\n",
    "\n",
    "data.to_csv(\"../00_data/data_with_calc_fields.csv\", sep=\";\", decimal=\",\", index=False)\n",
    "print(\"done\")"
   ]
  },
  {
   "cell_type": "code",
   "execution_count": null,
   "metadata": {},
   "outputs": [],
   "source": []
  }
 ],
 "metadata": {
  "kernelspec": {
   "display_name": "Python 3",
   "language": "python",
   "name": "python3"
  },
  "language_info": {
   "codemirror_mode": {
    "name": "ipython",
    "version": 3
   },
   "file_extension": ".py",
   "mimetype": "text/x-python",
   "name": "python",
   "nbconvert_exporter": "python",
   "pygments_lexer": "ipython3",
   "version": "3.7.0"
  }
 },
 "nbformat": 4,
 "nbformat_minor": 2
}
